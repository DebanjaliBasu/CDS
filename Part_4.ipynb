{
 "cells": [
  {
   "cell_type": "markdown",
   "metadata": {},
   "source": [
    "# Functions\n",
    "\n",
    "We look very briefly at the way functions are defined and called."
   ]
  },
  {
   "cell_type": "code",
   "execution_count": 1,
   "metadata": {},
   "outputs": [],
   "source": [
    "def get_counts(s):\n",
    "    counts = {} # build empty dictionary\n",
    "\n",
    "    for x in s:\n",
    "        if x in counts:\n",
    "            counts[x] += 1\n",
    "        else:\n",
    "            counts[x] = 1\n",
    "\n",
    "    pairs = counts.items()\n",
    "    s.extend(list(pairs))"
   ]
  },
  {
   "cell_type": "markdown",
   "metadata": {},
   "source": [
    "This function takes a list as argument, builds a dictionary of counts for its elements, and appends the list version of the dictionary to the original list."
   ]
  },
  {
   "cell_type": "code",
   "execution_count": 2,
   "metadata": {},
   "outputs": [
    {
     "data": {
      "text/plain": [
       "['a',\n",
       " 'c',\n",
       " 'd',\n",
       " 'a',\n",
       " 'c',\n",
       " 'a',\n",
       " 'd',\n",
       " 'b',\n",
       " ('a', 3),\n",
       " ('c', 2),\n",
       " ('d', 2),\n",
       " ('b', 1)]"
      ]
     },
     "execution_count": 2,
     "metadata": {},
     "output_type": "execute_result"
    }
   ],
   "source": [
    "a = ['a', 'c', 'd', 'a', 'c', 'a', 'd', 'b']\n",
    "get_counts(a)\n",
    "a"
   ]
  },
  {
   "cell_type": "markdown",
   "metadata": {},
   "source": [
    "`s` is the *formal parameter* of the function `get_counts`. The argument `a` in the call `get_counts(a)` is the *actual parameter*.\n",
    "\n",
    "When the call is executed, a *local variable* `s` is created and the assignment `s = a` is made. Since the local variable is referencing the same object referenced by `a`, the code in the function can modify the list `['a', 'c', 'd', 'a', 'c', 'a', 'd', 'b']`.\n",
    "\n",
    "Functions are objects. Hence, we can call a function through a variable referencing the function. We show an example using the methods `strip()` and `capitalize()` for the type `str`.\n",
    "\n",
    "Note that in Python the method invocation format `x.method(args)` is equivalent to `type.method(x, args)` where `type` is the type of the object the variable `x` refers to.\n",
    "\n",
    "For example, if `d` refers to an object of type `dict` that contains the key `7`, then `d.pop(7)` is equivalent to `dict.pop(d,7)`."
   ]
  },
  {
   "cell_type": "code",
   "execution_count": 3,
   "metadata": {},
   "outputs": [],
   "source": [
    "names = ['Alfred  ', 'carl', '  Danny    ', 'lucy   ']\n",
    "clean_ops = [str.strip, str.capitalize]\n",
    "result = []\n",
    "for s in names:\n",
    "    for f in clean_ops:\n",
    "        s = f(s)\n",
    "    result.append(s)"
   ]
  },
  {
   "cell_type": "code",
   "execution_count": 4,
   "metadata": {},
   "outputs": [
    {
     "data": {
      "text/plain": [
       "['Alfred', 'Carl', 'Danny', 'Lucy']"
      ]
     },
     "execution_count": 4,
     "metadata": {},
     "output_type": "execute_result"
    }
   ],
   "source": [
    "result"
   ]
  },
  {
   "cell_type": "markdown",
   "metadata": {},
   "source": [
    "## Anonymous functions\n",
    "\n",
    "Python has a compact way of defining functions consisting of a single statement.\n",
    "\n",
    "Consider the `sort()` method for sequences."
   ]
  },
  {
   "cell_type": "code",
   "execution_count": 5,
   "metadata": {},
   "outputs": [
    {
     "data": {
      "text/plain": [
       "['b', 'ba', 'bar', 'baz', 'f', 'fo', 'foo']"
      ]
     },
     "execution_count": 5,
     "metadata": {},
     "output_type": "execute_result"
    }
   ],
   "source": [
    "strings = ['foo', 'bar', 'baz', 'f', 'fo', 'b', 'ba']\n",
    "strings.sort()\n",
    "strings"
   ]
  },
  {
   "cell_type": "markdown",
   "metadata": {},
   "source": [
    "Using the keyword argument `key` we can pass a function to the method `sort()`. `key` specifies a function of one argument that is used to compute a **comparison key** from each list element. The key corresponding to each item in the list is calculated once and then used for the entire sorting process.\n",
    "\n",
    "We can assign to `key` a function defined using the `lambda` notation. The value returned by the function is the value computed by the statement. Namely, `len(x)` in this case."
   ]
  },
  {
   "cell_type": "code",
   "execution_count": 6,
   "metadata": {},
   "outputs": [
    {
     "data": {
      "text/plain": [
       "['b', 'f', 'ba', 'fo', 'bar', 'baz', 'foo']"
      ]
     },
     "execution_count": 6,
     "metadata": {},
     "output_type": "execute_result"
    }
   ],
   "source": [
    "strings.sort(key = lambda x: len(x))\n",
    "strings"
   ]
  },
  {
   "cell_type": "markdown",
   "metadata": {},
   "source": [
    "Writing a Python module on file is easy. We use the cell magic command `%% writefile <filename>` to write the content of a cell to a file."
   ]
  },
  {
   "cell_type": "code",
   "execution_count": 7,
   "metadata": {},
   "outputs": [
    {
     "name": "stdout",
     "output_type": "stream",
     "text": [
      "Overwriting fibo.py\n"
     ]
    }
   ],
   "source": [
    "%%writefile fibo.py\n",
    "\n",
    "# Fibonacci numbers module\n",
    "\n",
    "def fib(n):    # write Fibonacci series up to n\n",
    "    a, b = 0, 1\n",
    "    while a < n:\n",
    "        print(a, end=' ')\n",
    "        a, b = b, a+b\n",
    "    print()\n",
    "\n",
    "def fib2(n):   # return Fibonacci series up to n\n",
    "    result = []\n",
    "    a, b = 0, 1\n",
    "    while a < n:\n",
    "        result.append(a)\n",
    "        a, b = b, a+b\n",
    "    return result"
   ]
  },
  {
   "cell_type": "markdown",
   "metadata": {},
   "source": [
    "We check that the file has been indeed written"
   ]
  },
  {
   "cell_type": "code",
   "execution_count": 8,
   "metadata": {},
   "outputs": [
    {
     "name": "stdout",
     "output_type": "stream",
     "text": [
      "\r\n",
      "# Fibonacci numbers module\r\n",
      "\r\n",
      "def fib(n):    # write Fibonacci series up to n\r\n",
      "    a, b = 0, 1\r\n",
      "    while a < n:\r\n",
      "        print(a, end=' ')\r\n",
      "        a, b = b, a+b\r\n",
      "    print()\r\n",
      "\r\n",
      "def fib2(n):   # return Fibonacci series up to n\r\n",
      "    result = []\r\n",
      "    a, b = 0, 1\r\n",
      "    while a < n:\r\n",
      "        result.append(a)\r\n",
      "        a, b = b, a+b\r\n",
      "    return result"
     ]
    }
   ],
   "source": [
    "!cat fibo.py"
   ]
  },
  {
   "cell_type": "markdown",
   "metadata": {},
   "source": [
    "Note that the functions `fib()` and `fib2()` are not defined yet (the magic command just wrote them on file).\n",
    "\n",
    "Indeed, issuing `fib(5)` now results in an error message\n",
    "\n",
    "Hence we need to load the module."
   ]
  },
  {
   "cell_type": "code",
   "execution_count": 9,
   "metadata": {},
   "outputs": [
    {
     "name": "stdout",
     "output_type": "stream",
     "text": [
      "0 1 1 2 3 \n"
     ]
    }
   ],
   "source": [
    "import fibo\n",
    "fibo.fib(5)"
   ]
  },
  {
   "cell_type": "markdown",
   "metadata": {},
   "source": [
    "Another useful magic command is `%timeit`, which automatically computes the execution time of the single-line Python statement that follows it by performing multiple runs."
   ]
  },
  {
   "cell_type": "code",
   "execution_count": 10,
   "metadata": {},
   "outputs": [
    {
     "name": "stdout",
     "output_type": "stream",
     "text": [
      "236 µs ± 20.7 µs per loop (mean ± std. dev. of 7 runs, 1000 loops each)\n"
     ]
    }
   ],
   "source": [
    "%timeit [n ** 2 for n in range(1000)]"
   ]
  },
  {
   "cell_type": "markdown",
   "metadata": {},
   "source": [
    "This can be used to compare the efficiency of different approaches to perform a certain task.\n",
    "\n",
    "For example, the next cell shows that list comprehensions are more than 10% faster than equivalent for loops.\n",
    "\n",
    "In this case, we use the *cell mode* version of the command, where the statement in the first line is used as setup code (executed but not timed) and the body of the cell is timed. "
   ]
  },
  {
   "cell_type": "code",
   "execution_count": 11,
   "metadata": {},
   "outputs": [
    {
     "name": "stdout",
     "output_type": "stream",
     "text": [
      "270 µs ± 14.1 µs per loop (mean ± std. dev. of 7 runs, 1000 loops each)\n"
     ]
    }
   ],
   "source": [
    "%%timeit L = []\n",
    "for n in range(1000):\n",
    "    L.append(n ** 2)"
   ]
  }
 ],
 "metadata": {
  "kernelspec": {
   "display_name": "Python 3",
   "language": "python",
   "name": "python3"
  },
  "language_info": {
   "codemirror_mode": {
    "name": "ipython",
    "version": 3
   },
   "file_extension": ".py",
   "mimetype": "text/x-python",
   "name": "python",
   "nbconvert_exporter": "python",
   "pygments_lexer": "ipython3",
   "version": "3.7.0"
  }
 },
 "nbformat": 4,
 "nbformat_minor": 2
}
