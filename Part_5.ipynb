{
 "cells": [
  {
   "cell_type": "markdown",
   "metadata": {},
   "source": [
    "# Numpy\n",
    "\n",
    "Numpy (numerical Python) is good for several tasks that are important in data science applications\n",
    "- fast array-oriented arithmetic operations\n",
    "- efficient descriptive statistics and data aggregation\n",
    "- linear algebra\n",
    "\n",
    "The basic object in Numpy is the **N-dimensional array**, or `ndarray`. Unlike Python lists or tuples, ndarrays contain objects of the same type. Because of that, ndarrays occupy less space than Python built-in types and allow a much more efficient implementation of array operations."
   ]
  },
  {
   "cell_type": "code",
   "execution_count": 1,
   "metadata": {},
   "outputs": [],
   "source": [
    "import numpy as np"
   ]
  },
  {
   "cell_type": "code",
   "execution_count": 2,
   "metadata": {},
   "outputs": [
    {
     "data": {
      "text/plain": [
       "array([0, 1, 2, 3, 4, 5, 6, 7, 8, 9])"
      ]
     },
     "execution_count": 2,
     "metadata": {},
     "output_type": "execute_result"
    }
   ],
   "source": [
    "a = np.arange(10)\n",
    "a"
   ]
  },
  {
   "cell_type": "code",
   "execution_count": 3,
   "metadata": {},
   "outputs": [
    {
     "data": {
      "text/plain": [
       "numpy.ndarray"
      ]
     },
     "execution_count": 3,
     "metadata": {},
     "output_type": "execute_result"
    }
   ],
   "source": [
    "type(a)"
   ]
  },
  {
   "cell_type": "markdown",
   "metadata": {},
   "source": [
    "We can inspect the type of the objects inside a ndarray via the attribute `dtype`."
   ]
  },
  {
   "cell_type": "code",
   "execution_count": 4,
   "metadata": {},
   "outputs": [
    {
     "data": {
      "text/plain": [
       "dtype('int64')"
      ]
     },
     "execution_count": 4,
     "metadata": {},
     "output_type": "execute_result"
    }
   ],
   "source": [
    "a.dtype"
   ]
  },
  {
   "cell_type": "markdown",
   "metadata": {},
   "source": [
    "The `dtype` of a ndarray can be re-cast using the method `astype()`."
   ]
  },
  {
   "cell_type": "code",
   "execution_count": 5,
   "metadata": {},
   "outputs": [
    {
     "data": {
      "text/plain": [
       "array([0., 1., 2., 3., 4., 5., 6., 7., 8., 9.])"
      ]
     },
     "execution_count": 5,
     "metadata": {},
     "output_type": "execute_result"
    }
   ],
   "source": [
    "float_a = a.astype(np.float64)\n",
    "float_a"
   ]
  },
  {
   "cell_type": "markdown",
   "metadata": {},
   "source": [
    "The ndarray attribute `shape` contains the dimensions on the ndarray. In this case, `a` is a 1-dimensional array."
   ]
  },
  {
   "cell_type": "code",
   "execution_count": 6,
   "metadata": {},
   "outputs": [
    {
     "data": {
      "text/plain": [
       "(10,)"
      ]
     },
     "execution_count": 6,
     "metadata": {},
     "output_type": "execute_result"
    }
   ],
   "source": [
    "a.shape"
   ]
  },
  {
   "cell_type": "markdown",
   "metadata": {},
   "source": [
    "ndarray elements can be accessed via the indexing operator. Sections of ndarrays can be selected using *slicing*. "
   ]
  },
  {
   "cell_type": "code",
   "execution_count": 7,
   "metadata": {},
   "outputs": [
    {
     "data": {
      "text/plain": [
       "array([2, 4, 6, 8])"
      ]
     },
     "execution_count": 7,
     "metadata": {},
     "output_type": "execute_result"
    }
   ],
   "source": [
    "a[2:9:2]"
   ]
  },
  {
   "cell_type": "markdown",
   "metadata": {},
   "source": [
    "Slicing of ndarrays works similarly to Python lists. However, in Numpy we can assign a constant to a slice."
   ]
  },
  {
   "cell_type": "code",
   "execution_count": 8,
   "metadata": {},
   "outputs": [
    {
     "data": {
      "text/plain": [
       "array([ 0,  1, 10, 10, 10,  5,  6,  7,  8,  9])"
      ]
     },
     "execution_count": 8,
     "metadata": {},
     "output_type": "execute_result"
    }
   ],
   "source": [
    "a[2:5] = 10 # all the slice elements get assigned the same value 10\n",
    "a"
   ]
  },
  {
   "cell_type": "markdown",
   "metadata": {},
   "source": [
    "Unlike Python, the operator `[:]` does not make a copy of the ndarray."
   ]
  },
  {
   "cell_type": "code",
   "execution_count": 9,
   "metadata": {},
   "outputs": [
    {
     "data": {
      "text/plain": [
       "array([ 0,  1,  2,  3,  4, 10,  6,  7,  8,  9])"
      ]
     },
     "execution_count": 9,
     "metadata": {},
     "output_type": "execute_result"
    }
   ],
   "source": [
    "a = np.arange(10)\n",
    "b = a[:]\n",
    "b[5] = 10\n",
    "a"
   ]
  },
  {
   "cell_type": "markdown",
   "metadata": {},
   "source": [
    "## Universal functions"
   ]
  },
  {
   "cell_type": "code",
   "execution_count": 10,
   "metadata": {},
   "outputs": [
    {
     "data": {
      "text/plain": [
       "array([1, 9, 9, 9, 5, 6, 6, 9, 1, 5])"
      ]
     },
     "execution_count": 10,
     "metadata": {},
     "output_type": "execute_result"
    }
   ],
   "source": [
    "a = np.random.randint(10, size=10) # 10 independent draws from the uniform distribution in {0,..,9}\n",
    "a"
   ]
  },
  {
   "cell_type": "code",
   "execution_count": 11,
   "metadata": {},
   "outputs": [
    {
     "data": {
      "text/plain": [
       "(60, 1, 6.0, 9)"
      ]
     },
     "execution_count": 11,
     "metadata": {},
     "output_type": "execute_result"
    }
   ],
   "source": [
    "np.sum(a), np.min(a), np.mean(a), np.max(a)"
   ]
  },
  {
   "cell_type": "code",
   "execution_count": 12,
   "metadata": {},
   "outputs": [
    {
     "data": {
      "text/plain": [
       "array([ 1, 81, 81, 81, 25, 36, 36, 81,  1, 25])"
      ]
     },
     "execution_count": 12,
     "metadata": {},
     "output_type": "execute_result"
    }
   ],
   "source": [
    "np.square(a)"
   ]
  },
  {
   "cell_type": "code",
   "execution_count": 13,
   "metadata": {},
   "outputs": [
    {
     "data": {
      "text/plain": [
       "array([ 1, 10, 19, 28, 33, 39, 45, 54, 55, 60])"
      ]
     },
     "execution_count": 13,
     "metadata": {},
     "output_type": "execute_result"
    }
   ],
   "source": [
    "np.cumsum(a)"
   ]
  },
  {
   "cell_type": "code",
   "execution_count": 14,
   "metadata": {},
   "outputs": [
    {
     "data": {
      "text/plain": [
       "array([0.37720688, 0.74164897, 0.04241266, 0.63566003, 0.85246557])"
      ]
     },
     "execution_count": 14,
     "metadata": {},
     "output_type": "execute_result"
    }
   ],
   "source": [
    "v1 = np.random.rand(5) # 5 independent draws from the uniform distribution in [0,1]\n",
    "v1"
   ]
  },
  {
   "cell_type": "code",
   "execution_count": 15,
   "metadata": {},
   "outputs": [
    {
     "data": {
      "text/plain": [
       "dtype('float64')"
      ]
     },
     "execution_count": 15,
     "metadata": {},
     "output_type": "execute_result"
    }
   ],
   "source": [
    "v1.dtype"
   ]
  },
  {
   "cell_type": "code",
   "execution_count": 16,
   "metadata": {},
   "outputs": [
    {
     "data": {
      "text/plain": [
       "array([ 1.03279022,  1.65831533,  0.14033949, -0.68761867, -1.1107688 ])"
      ]
     },
     "execution_count": 16,
     "metadata": {},
     "output_type": "execute_result"
    }
   ],
   "source": [
    "v2 = np.random.randn(5) # 5 independent draws from the normal distribution\n",
    "v2"
   ]
  },
  {
   "cell_type": "code",
   "execution_count": 17,
   "metadata": {},
   "outputs": [
    {
     "data": {
      "text/plain": [
       "array([4.72162355, 4.82498261, 4.94448582, 6.95893873, 7.81569994])"
      ]
     },
     "execution_count": 17,
     "metadata": {},
     "output_type": "execute_result"
    }
   ],
   "source": [
    "v3 = 5 + 2*v1 - v2\n",
    "v3"
   ]
  },
  {
   "cell_type": "code",
   "execution_count": 18,
   "metadata": {},
   "outputs": [
    {
     "data": {
      "text/plain": [
       "array([ True,  True,  True, False, False])"
      ]
     },
     "execution_count": 18,
     "metadata": {},
     "output_type": "execute_result"
    }
   ],
   "source": [
    "b = v1 < v2\n",
    "b"
   ]
  },
  {
   "cell_type": "code",
   "execution_count": 19,
   "metadata": {},
   "outputs": [
    {
     "data": {
      "text/plain": [
       "dtype('bool')"
      ]
     },
     "execution_count": 19,
     "metadata": {},
     "output_type": "execute_result"
    }
   ],
   "source": [
    "b.dtype"
   ]
  },
  {
   "cell_type": "markdown",
   "metadata": {},
   "source": [
    "# Linear Algebra with Numpy\n",
    "\n",
    "We now view 1-dimensional ndarrays as vectors in $\\mathbb{R}^n$.\n",
    "\n",
    "Numpy uses `@` to denote the *inner product* $u^{\\top} v = \\sum_{i=1}^n u_i v_i$ between two vectors $u,v\\in\\mathbb{R}^n$."
   ]
  },
  {
   "cell_type": "code",
   "execution_count": 20,
   "metadata": {},
   "outputs": [
    {
     "data": {
      "text/plain": [
       "0.24143174496608272"
      ]
     },
     "execution_count": 20,
     "metadata": {},
     "output_type": "execute_result"
    }
   ],
   "source": [
    "x = v1 @ v2\n",
    "x"
   ]
  },
  {
   "cell_type": "markdown",
   "metadata": {},
   "source": [
    "## Vector Norms\n",
    "The norm $\\|x\\|$ of a vector $x$ measures an abstract notion of length\n",
    " \n",
    "Formally, a norm in $\\mathbb{R}^n$ is any function $\\|\\cdot\\| : \\mathbb{R}^n \\to \\mathbb{R}$ such that:\n",
    "* $\\|x\\| \\geq 0$ for all $x$\n",
    "* $\\|x\\| = 0 \\Longleftrightarrow x = 0$\n",
    "* $\\|ax\\| = |a| \\|x\\|$ for all $x$\n",
    "* $\\|x + y\\| \\leq \\|x\\| + \\|y\\|$ for all $x$ and $y$ (triangle inequality)"
   ]
  },
  {
   "cell_type": "markdown",
   "metadata": {},
   "source": [
    "## Examples of norms\n",
    "* The standard length of a vector is measured by the Euclidean norm\n",
    "$$ \\|x\\|_2 := \\sqrt{x_1^2 + x_2^2 + \\cdots x_n^2}$$\n",
    "\n",
    "* This is a special case of the $p$-norm for integer $p \\ge 1$:\n",
    "$$ \\|x\\|_p := \\left(|x_1|^p + \\cdots + |x_n|^p\\right)^{1/p}$$\n",
    "\n",
    "* For $p\\to\\infty$ we obtain the infinity norm\n",
    "$$ \\|x\\|_\\infty := \\max_{i=1,\\ldots, n} |x_i|$$\n",
    "\n",
    "Note that, for any vector $x$ and for any two integers $p < q$, $\\|x\\|_p \\ge \\|x\\|_q$  \n",
    "\n",
    "A vector $x$ is said to be *normalized* in some norm $\\|\\cdot\\|$ if $\\|x\\| = 1$"
   ]
  },
  {
   "cell_type": "code",
   "execution_count": 21,
   "metadata": {},
   "outputs": [
    {
     "data": {
      "text/plain": [
       "1.3508842578202516"
      ]
     },
     "execution_count": 21,
     "metadata": {},
     "output_type": "execute_result"
    }
   ],
   "source": [
    "from numpy import linalg as LA\n",
    "LA.norm(v1) # Euclidean norm"
   ]
  },
  {
   "cell_type": "code",
   "execution_count": 22,
   "metadata": {},
   "outputs": [
    {
     "data": {
      "text/plain": [
       "2.649394106170015"
      ]
     },
     "execution_count": 22,
     "metadata": {},
     "output_type": "execute_result"
    }
   ],
   "source": [
    "LA.norm(v1, ord=1) # 1-norm"
   ]
  },
  {
   "cell_type": "code",
   "execution_count": 23,
   "metadata": {},
   "outputs": [
    {
     "data": {
      "text/plain": [
       "0.8524655710905429"
      ]
     },
     "execution_count": 23,
     "metadata": {},
     "output_type": "execute_result"
    }
   ],
   "source": [
    "LA.norm(v1, ord=np.inf) # infinity norm"
   ]
  },
  {
   "cell_type": "markdown",
   "metadata": {},
   "source": [
    "We now load some modules to improve the rendering of math."
   ]
  },
  {
   "cell_type": "code",
   "execution_count": 24,
   "metadata": {},
   "outputs": [],
   "source": [
    "from sympy import init_printing, Matrix, symbols, Rational\n",
    "import sympy as sym\n",
    "from warnings import filterwarnings\n",
    "init_printing(use_latex = 'mathjax')\n",
    "filterwarnings('ignore')"
   ]
  },
  {
   "cell_type": "markdown",
   "metadata": {},
   "source": [
    "The *outer product* $u v^{\\top}$ between two vectors $u,v\\in\\mathbb{R}^n$ is a $n \\times n$ **matrix** $M$ with components $M_{i,j} = u_i v_j$."
   ]
  },
  {
   "cell_type": "code",
   "execution_count": 25,
   "metadata": {},
   "outputs": [
    {
     "data": {
      "text/latex": [
       "$$\\left[\\begin{matrix}0.39 & 0.63 & 0.05 & -0.26 & -0.42\\\\0.77 & 1.23 & 0.1 & -0.51 & -0.82\\\\0.04 & 0.07 & 0.01 & -0.03 & -0.05\\\\0.66 & 1.05 & 0.09 & -0.44 & -0.71\\\\0.88 & 1.41 & 0.12 & -0.59 & -0.95\\end{matrix}\\right]$$"
      ],
      "text/plain": [
       "⎡0.39  0.63  0.05  -0.26  -0.42⎤\n",
       "⎢                              ⎥\n",
       "⎢0.77  1.23  0.1   -0.51  -0.82⎥\n",
       "⎢                              ⎥\n",
       "⎢0.04  0.07  0.01  -0.03  -0.05⎥\n",
       "⎢                              ⎥\n",
       "⎢0.66  1.05  0.09  -0.44  -0.71⎥\n",
       "⎢                              ⎥\n",
       "⎣0.88  1.41  0.12  -0.59  -0.95⎦"
      ]
     },
     "execution_count": 25,
     "metadata": {},
     "output_type": "execute_result"
    }
   ],
   "source": [
    "M = np.outer(v1, v2)\n",
    "M2 = np.round(M, decimals=2) # rounds the entries of M\n",
    "Matrix(M2) # pretty printing of M2"
   ]
  },
  {
   "cell_type": "markdown",
   "metadata": {},
   "source": [
    "Note that `M2` is created as a 2-dimensional ndarray. "
   ]
  },
  {
   "cell_type": "code",
   "execution_count": 26,
   "metadata": {},
   "outputs": [
    {
     "data": {
      "text/plain": [
       "array([[ 0.39,  0.63,  0.05, -0.26, -0.42],\n",
       "       [ 0.77,  1.23,  0.1 , -0.51, -0.82],\n",
       "       [ 0.04,  0.07,  0.01, -0.03, -0.05],\n",
       "       [ 0.66,  1.05,  0.09, -0.44, -0.71],\n",
       "       [ 0.88,  1.41,  0.12, -0.59, -0.95]])"
      ]
     },
     "execution_count": 26,
     "metadata": {},
     "output_type": "execute_result"
    }
   ],
   "source": [
    "M2"
   ]
  },
  {
   "cell_type": "markdown",
   "metadata": {},
   "source": [
    "We can check the dimensions via the `shape` attribute."
   ]
  },
  {
   "cell_type": "code",
   "execution_count": 27,
   "metadata": {},
   "outputs": [
    {
     "data": {
      "text/latex": [
       "$$\\left ( 5, \\quad 5\\right )$$"
      ],
      "text/plain": [
       "(5, 5)"
      ]
     },
     "execution_count": 27,
     "metadata": {},
     "output_type": "execute_result"
    }
   ],
   "source": [
    "M2.shape"
   ]
  },
  {
   "cell_type": "markdown",
   "metadata": {},
   "source": [
    "Creating 1-d and 2-d ndarrays using the type constructor."
   ]
  },
  {
   "cell_type": "code",
   "execution_count": 28,
   "metadata": {},
   "outputs": [
    {
     "data": {
      "text/plain": [
       "array([ 2,  4,  6,  8, 10])"
      ]
     },
     "execution_count": 28,
     "metadata": {},
     "output_type": "execute_result"
    }
   ],
   "source": [
    "a = [2, 4, 6, 8, 10]\n",
    "npa = np.array(a)\n",
    "npa"
   ]
  },
  {
   "cell_type": "code",
   "execution_count": 29,
   "metadata": {},
   "outputs": [
    {
     "data": {
      "text/latex": [
       "$$\\left[\\begin{matrix}2 & 4 & 6 & 8 & 10\\\\1 & 3 & 5 & 7 & 9\\end{matrix}\\right]$$"
      ],
      "text/plain": [
       "⎡2  4  6  8  10⎤\n",
       "⎢              ⎥\n",
       "⎣1  3  5  7  9 ⎦"
      ]
     },
     "execution_count": 29,
     "metadata": {},
     "output_type": "execute_result"
    }
   ],
   "source": [
    "b = [1, 3, 5, 7, 9]\n",
    "M = np.array([a, b])\n",
    "Matrix(M)"
   ]
  },
  {
   "cell_type": "code",
   "execution_count": 30,
   "metadata": {},
   "outputs": [
    {
     "data": {
      "text/latex": [
       "$$\\left ( 2, \\quad 5\\right )$$"
      ],
      "text/plain": [
       "(2, 5)"
      ]
     },
     "execution_count": 30,
     "metadata": {},
     "output_type": "execute_result"
    }
   ],
   "source": [
    "M.shape"
   ]
  },
  {
   "cell_type": "markdown",
   "metadata": {},
   "source": [
    "Arithmetic operators apply to higher-dimensional ndarrays in much the same way as with 1-d ndarrays."
   ]
  },
  {
   "cell_type": "code",
   "execution_count": 31,
   "metadata": {},
   "outputs": [
    {
     "data": {
      "text/latex": [
       "$$\\left[\\begin{matrix}4.0 & 5.0 & 6.0 & 7.0 & 8.0\\\\3.5 & 4.5 & 5.5 & 6.5 & 7.5\\end{matrix}\\right]$$"
      ],
      "text/plain": [
       "⎡4.0  5.0  6.0  7.0  8.0⎤\n",
       "⎢                       ⎥\n",
       "⎣3.5  4.5  5.5  6.5  7.5⎦"
      ]
     },
     "execution_count": 31,
     "metadata": {},
     "output_type": "execute_result"
    }
   ],
   "source": [
    "N = M/2 + 3\n",
    "Matrix(N)"
   ]
  },
  {
   "cell_type": "markdown",
   "metadata": {},
   "source": [
    "We now describe matrices as linear operators."
   ]
  },
  {
   "cell_type": "code",
   "execution_count": 32,
   "metadata": {},
   "outputs": [],
   "source": [
    "a11, a12, a13, a21, a22, a23, a31, a32, a33, b11, b12, b13, b21, b22, b23, b31, b32, b33 = symbols('a11 a12 a13 a21 a22 a23 a31 a32 a33 b11 b12 b13 b21 b22 b23 b31 b32 b33')"
   ]
  },
  {
   "cell_type": "code",
   "execution_count": 33,
   "metadata": {
    "scrolled": true
   },
   "outputs": [
    {
     "data": {
      "text/latex": [
       "$$\\left ( \\left[\\begin{matrix}a_{11} & a_{12} & a_{13}\\\\a_{21} & a_{22} & a_{23}\\end{matrix}\\right], \\quad \\left[\\begin{matrix}b_{11}\\\\b_{21}\\\\b_{31}\\end{matrix}\\right]\\right )$$"
      ],
      "text/plain": [
       "⎛                 ⎡b₁₁⎤⎞\n",
       "⎜⎡a₁₁  a₁₂  a₁₃⎤  ⎢   ⎥⎟\n",
       "⎜⎢             ⎥, ⎢b₂₁⎥⎟\n",
       "⎜⎣a₂₁  a₂₂  a₂₃⎦  ⎢   ⎥⎟\n",
       "⎝                 ⎣b₃₁⎦⎠"
      ]
     },
     "execution_count": 33,
     "metadata": {},
     "output_type": "execute_result"
    }
   ],
   "source": [
    "A = np.array([[a11, a12, a13], [a21, a22, a23]])\n",
    "v = np.array([b11, b21, b31])\n",
    "Matrix(A), Matrix(v)"
   ]
  },
  {
   "cell_type": "markdown",
   "metadata": {},
   "source": [
    "Note that vectors are **column vectors**.\n",
    "\n",
    "Let's start with the simple matrix-vector multiplication."
   ]
  },
  {
   "cell_type": "code",
   "execution_count": 34,
   "metadata": {},
   "outputs": [
    {
     "data": {
      "text/latex": [
       "$$\\left[\\begin{matrix}a_{11} b_{11} + a_{12} b_{21} + a_{13} b_{31}\\\\a_{21} b_{11} + a_{22} b_{21} + a_{23} b_{31}\\end{matrix}\\right]$$"
      ],
      "text/plain": [
       "⎡a₁₁⋅b₁₁ + a₁₂⋅b₂₁ + a₁₃⋅b₃₁⎤\n",
       "⎢                           ⎥\n",
       "⎣a₂₁⋅b₁₁ + a₂₂⋅b₂₁ + a₂₃⋅b₃₁⎦"
      ]
     },
     "execution_count": 34,
     "metadata": {},
     "output_type": "execute_result"
    }
   ],
   "source": [
    "C = np.dot(A, v) # this is an equivalent syntax for A @ v\n",
    "Matrix(C)"
   ]
  },
  {
   "cell_type": "markdown",
   "metadata": {},
   "source": [
    "Recall that a $m \\times n$ matrix $M$ denotes a **linear** operator $T_M : \\mathbb{R}^n \\to \\mathbb{R}^m$ such that $T_M(v) = Mv$. Hence, for all $a\\in\\mathbb{R}$ and $u,v\\in\\mathbb{R}^n$, we have $M(av) = a Mv$ and $M(u+v) = Mu + Mv$.\n",
    "\n",
    "Given two matrices $A$ of size $m \\times n$ and $B$ of size $n \\times p$, the composition of functions $T_A$ and $T_B$ is obtained trough **matrix multiplication**. Hence $$T_A\\big(T_B(v)\\big) = ABv$$ for all $v \\in \\mathbb{R}^p$.\n",
    "\n",
    "We recall how two matrices are multiplied."
   ]
  },
  {
   "cell_type": "code",
   "execution_count": 35,
   "metadata": {},
   "outputs": [
    {
     "data": {
      "text/latex": [
       "$$\\left ( \\left[\\begin{matrix}a_{11} & a_{12} & a_{13}\\\\a_{21} & a_{22} & a_{23}\\end{matrix}\\right], \\quad \\left[\\begin{matrix}b_{11} & b_{12}\\\\b_{21} & b_{22}\\\\b_{31} & b_{32}\\end{matrix}\\right]\\right )$$"
      ],
      "text/plain": [
       "⎛                 ⎡b₁₁  b₁₂⎤⎞\n",
       "⎜⎡a₁₁  a₁₂  a₁₃⎤  ⎢        ⎥⎟\n",
       "⎜⎢             ⎥, ⎢b₂₁  b₂₂⎥⎟\n",
       "⎜⎣a₂₁  a₂₂  a₂₃⎦  ⎢        ⎥⎟\n",
       "⎝                 ⎣b₃₁  b₃₂⎦⎠"
      ]
     },
     "execution_count": 35,
     "metadata": {},
     "output_type": "execute_result"
    }
   ],
   "source": [
    "A = np.array([[a11, a12, a13], [a21, a22, a23]])\n",
    "B = np.array([[b11, b12], [b21, b22], [b31, b32]])\n",
    "Matrix(A), Matrix(B)"
   ]
  },
  {
   "cell_type": "code",
   "execution_count": 36,
   "metadata": {},
   "outputs": [
    {
     "data": {
      "text/latex": [
       "$$\\left[\\begin{matrix}a_{11} b_{11} + a_{12} b_{21} + a_{13} b_{31} & a_{11} b_{12} + a_{12} b_{22} + a_{13} b_{32}\\\\a_{21} b_{11} + a_{22} b_{21} + a_{23} b_{31} & a_{21} b_{12} + a_{22} b_{22} + a_{23} b_{32}\\end{matrix}\\right]$$"
      ],
      "text/plain": [
       "⎡a₁₁⋅b₁₁ + a₁₂⋅b₂₁ + a₁₃⋅b₃₁  a₁₁⋅b₁₂ + a₁₂⋅b₂₂ + a₁₃⋅b₃₂⎤\n",
       "⎢                                                        ⎥\n",
       "⎣a₂₁⋅b₁₁ + a₂₂⋅b₂₁ + a₂₃⋅b₃₁  a₂₁⋅b₁₂ + a₂₂⋅b₂₂ + a₂₃⋅b₃₂⎦"
      ]
     },
     "execution_count": 36,
     "metadata": {},
     "output_type": "execute_result"
    }
   ],
   "source": [
    "C = np.dot(A, B)\n",
    "Matrix(C)"
   ]
  },
  {
   "cell_type": "markdown",
   "metadata": {},
   "source": [
    "### Transpose\n",
    "\n",
    "The transpose of a matrix $A$ with components $A_{i,j}$ is the matrix $A^{\\top}$ such that $A^{\\top}_{i,j} = A_{j,i}$\n",
    "\n",
    "Some properties:\n",
    "* $(A + B)^\\top = A^\\top + B^\\top$\n",
    "* $(AB)^\\top = B^\\top A^\\top$"
   ]
  },
  {
   "cell_type": "code",
   "execution_count": 37,
   "metadata": {},
   "outputs": [
    {
     "data": {
      "text/latex": [
       "$$\\left ( \\left[\\begin{matrix}2 & 4 & 6 & 8 & 10\\\\1 & 3 & 5 & 7 & 9\\end{matrix}\\right], \\quad \\left[\\begin{matrix}2 & 1\\\\4 & 3\\\\6 & 5\\\\8 & 7\\\\10 & 9\\end{matrix}\\right]\\right )$$"
      ],
      "text/plain": [
       "⎛                  ⎡2   1⎤⎞\n",
       "⎜                  ⎢     ⎥⎟\n",
       "⎜                  ⎢4   3⎥⎟\n",
       "⎜⎡2  4  6  8  10⎤  ⎢     ⎥⎟\n",
       "⎜⎢              ⎥, ⎢6   5⎥⎟\n",
       "⎜⎣1  3  5  7  9 ⎦  ⎢     ⎥⎟\n",
       "⎜                  ⎢8   7⎥⎟\n",
       "⎜                  ⎢     ⎥⎟\n",
       "⎝                  ⎣10  9⎦⎠"
      ]
     },
     "execution_count": 37,
     "metadata": {},
     "output_type": "execute_result"
    }
   ],
   "source": [
    "Matrix(M), Matrix(M.T)"
   ]
  },
  {
   "cell_type": "markdown",
   "metadata": {},
   "source": [
    "A generic matrix can be *symmetrized* through multiplication with its transpose"
   ]
  },
  {
   "cell_type": "code",
   "execution_count": 38,
   "metadata": {},
   "outputs": [
    {
     "data": {
      "text/latex": [
       "$$\\left[\\begin{matrix}220 & 190\\\\190 & 165\\end{matrix}\\right]$$"
      ],
      "text/plain": [
       "⎡220  190⎤\n",
       "⎢        ⎥\n",
       "⎣190  165⎦"
      ]
     },
     "execution_count": 38,
     "metadata": {},
     "output_type": "execute_result"
    }
   ],
   "source": [
    "Q = M @ M.T\n",
    "Matrix(Q)"
   ]
  },
  {
   "cell_type": "code",
   "execution_count": 39,
   "metadata": {},
   "outputs": [
    {
     "data": {
      "text/latex": [
       "$$\\left[\\begin{matrix}5 & 11 & 17 & 23 & 29\\\\11 & 25 & 39 & 53 & 67\\\\17 & 39 & 61 & 83 & 105\\\\23 & 53 & 83 & 113 & 143\\\\29 & 67 & 105 & 143 & 181\\end{matrix}\\right]$$"
      ],
      "text/plain": [
       "⎡5   11  17   23   29 ⎤\n",
       "⎢                     ⎥\n",
       "⎢11  25  39   53   67 ⎥\n",
       "⎢                     ⎥\n",
       "⎢17  39  61   83   105⎥\n",
       "⎢                     ⎥\n",
       "⎢23  53  83   113  143⎥\n",
       "⎢                     ⎥\n",
       "⎣29  67  105  143  181⎦"
      ]
     },
     "execution_count": 39,
     "metadata": {},
     "output_type": "execute_result"
    }
   ],
   "source": [
    "Q = M.T @ M\n",
    "Matrix(Q)"
   ]
  },
  {
   "cell_type": "markdown",
   "metadata": {},
   "source": [
    "### Rank\n",
    "\n",
    "A set of vectors is linearly independent if no vector in the set can be represented as a linear combination of the others.\n",
    "\n",
    "The rank of a matrix is the largest number of linearly independent columns or, **equivalently**, the largest number of linearly independent rows. Hence the rank of a $m\\times n$ matrix cannot be larger than $\\min\\{m,n\\}$.\n",
    "    \n",
    "* the column space of a matrix is the set of all possible linear combinations of its column vectors\n",
    "* the row space of a matrix is the set of all possible linear combinations of its row vectors\n",
    "\n",
    "For any matrix $A$, the rank of $A$ $=$ the dimension of the column space of $A$ $=$ dimension of the row space of $A$"
   ]
  },
  {
   "cell_type": "code",
   "execution_count": 40,
   "metadata": {},
   "outputs": [
    {
     "data": {
      "text/plain": [
       "1"
      ]
     },
     "execution_count": 40,
     "metadata": {},
     "output_type": "execute_result"
    }
   ],
   "source": [
    "v = np.random.randn(5)\n",
    "M = np.array([v,2*v,5*v])\n",
    "LA.matrix_rank(M)"
   ]
  },
  {
   "cell_type": "code",
   "execution_count": 41,
   "metadata": {},
   "outputs": [
    {
     "data": {
      "text/plain": [
       "1"
      ]
     },
     "execution_count": 41,
     "metadata": {},
     "output_type": "execute_result"
    }
   ],
   "source": [
    "v = np.random.randn(5)\n",
    "M = np.outer(v, v)\n",
    "LA.matrix_rank(M)"
   ]
  },
  {
   "cell_type": "code",
   "execution_count": 42,
   "metadata": {},
   "outputs": [
    {
     "data": {
      "text/plain": [
       "5"
      ]
     },
     "execution_count": 42,
     "metadata": {},
     "output_type": "execute_result"
    }
   ],
   "source": [
    "G = np.random.randn(5,5)\n",
    "LA.matrix_rank(G)"
   ]
  },
  {
   "cell_type": "markdown",
   "metadata": {},
   "source": [
    "## Matrix inversion\n",
    "* The inverse $A^{-1}$ of a *square matrix* $A$, if it exists, is the unique matrix such that $A A^{-1} = A^{-1}A = I$. Hence $A^{-1}$ corresponds to the functional inverse $T_A^{-1}$ of the linear operator $T_A$ which satisfies $T_A^{-1}\\big(T_A(v)\\big) = T_A\\big(T_A^{-1}(v)\\big) = v$ for all $v$\n",
    "* A square matrix is invertible if and only if it is full rank\n",
    "* If $A$ and $B$ are invertible, then $AB$ is invertible and $(AB)^{-1} = B^{-1} A^{-1}$\n",
    "* If $A$ is invertible, then $A^\\top$ is invertible and $(A^\\top)^{-1} = (A^{-1})^\\top$"
   ]
  },
  {
   "cell_type": "code",
   "execution_count": 43,
   "metadata": {},
   "outputs": [
    {
     "data": {
      "text/latex": [
       "$$\\left[\\begin{matrix}3 & 1\\\\1 & 4\\end{matrix}\\right]$$"
      ],
      "text/plain": [
       "⎡3  1⎤\n",
       "⎢    ⎥\n",
       "⎣1  4⎦"
      ]
     },
     "execution_count": 43,
     "metadata": {},
     "output_type": "execute_result"
    }
   ],
   "source": [
    "X = np.array([[3, 1], [1, 4]])\n",
    "Matrix(X)"
   ]
  },
  {
   "cell_type": "code",
   "execution_count": 44,
   "metadata": {},
   "outputs": [
    {
     "data": {
      "text/plain": [
       "2"
      ]
     },
     "execution_count": 44,
     "metadata": {},
     "output_type": "execute_result"
    }
   ],
   "source": [
    "LA.matrix_rank(X)"
   ]
  },
  {
   "cell_type": "code",
   "execution_count": 45,
   "metadata": {},
   "outputs": [
    {
     "data": {
      "text/latex": [
       "$$\\left[\\begin{matrix}0.363636363636364 & -0.0909090909090909\\\\-0.0909090909090909 & 0.272727272727273\\end{matrix}\\right]$$"
      ],
      "text/plain": [
       "⎡ 0.363636363636364   -0.0909090909090909⎤\n",
       "⎢                                        ⎥\n",
       "⎣-0.0909090909090909   0.272727272727273 ⎦"
      ]
     },
     "execution_count": 45,
     "metadata": {},
     "output_type": "execute_result"
    }
   ],
   "source": [
    "Y = LA.inv(X)\n",
    "Matrix(Y)"
   ]
  },
  {
   "cell_type": "code",
   "execution_count": 46,
   "metadata": {},
   "outputs": [
    {
     "data": {
      "text/latex": [
       "$$\\left ( \\left[\\begin{matrix}1.0 & 0.0\\\\-5.55111512312578 \\cdot 10^{-17} & 1.0\\end{matrix}\\right], \\quad \\left[\\begin{matrix}1.0 & -1.11022302462516 \\cdot 10^{-16}\\\\5.55111512312578 \\cdot 10^{-17} & 1.0\\end{matrix}\\right]\\right )$$"
      ],
      "text/plain": [
       "⎛⎡         1.0           0.0⎤  ⎡        1.0           -1.11022302462516e-16⎤⎞\n",
       "⎜⎢                          ⎥, ⎢                                           ⎥⎟\n",
       "⎝⎣-5.55111512312578e-17  1.0⎦  ⎣5.55111512312578e-17           1.0         ⎦⎠"
      ]
     },
     "execution_count": 46,
     "metadata": {},
     "output_type": "execute_result"
    }
   ],
   "source": [
    "Matrix(X @ Y), Matrix(Y @ X)"
   ]
  },
  {
   "cell_type": "markdown",
   "metadata": {},
   "source": [
    "## Orthogonal + Normalized = Orthonormal\n",
    "* Two vectors $x,y$ are *orthogonal* if $x^{\\top} y = 0$\n",
    "* A square matrix $U \\in \\mathbb{R}^{n \\times n}$ is *orthogonal* if its columns are pairwise orthogonal\n",
    "* $U$ is *orthonormal* if it is orthogonal **and** the columns are normalized (Euclidean norm $= 1$)\n",
    "* If $U$ is orthonormal, then $U^\\top U = I$, that is, $U^{-1} = U^\\top$\n",
    "\n",
    "## Positive Definiteness\n",
    "* A symmetric matrix $A$ is positive definite if\n",
    "$x^\\top A x > 0$ for all $x \\ne 0$\n",
    "* A matrix is positive semi-definite (PSD) if \n",
    "$x^\\top A x \\geq 0$ for all $x$\n",
    "* A positive definite matrix defines a *norm*\n",
    "$\\| x \\|_A = \\sqrt{x ^\\top A x}$\n",
    "\n",
    "## Eigenvectors and eigenvalues\n",
    "* Consider square $n \\times n$ matrices $A$ that are symmetric. That is, $A_{i,j} = A_{j,i}$ for all $1 \\le i,j \\le n$.\n",
    "* If $A u = \\lambda u$ for some $\\lambda\\in\\mathbb{R}$ and $u \\in \\mathbb{R}^n$, then $u$ is an *eigenvector* of $A$ and $\\lambda$ is its associated *eigenvalue*.\n",
    "\n",
    "### Spectral Theorem\n",
    "* If $A$ is symmetric, then $A = U\\Sigma U^{\\top}$ where $U$ is an orthonormal matrix whose columns are the eigenvectors of $A$ and $\\Sigma$ is a diagonal matrix whose diagonal elements are the eigenvalues of $A$.\n",
    "* If $A$ is also positive semidefinite, then all the eigenvalues are nonnegative.\n",
    "\n",
    "Note that $$U\\Sigma U^{\\top} = \\sum_{i=1}^d \\lambda_i u_i u_i^{\\top}$$ Hence, any positive semidefinite matrix can be written as a sum of outer products of vectors.\n",
    "\n",
    "We now visualize the effect of a linear operator $T_A$ on a disk in $\\mathbb{R}^d$."
   ]
  },
  {
   "cell_type": "code",
   "execution_count": 47,
   "metadata": {},
   "outputs": [
    {
     "data": {
      "text/latex": [
       "$$\\left[\\begin{matrix}1.68435123866934 & -0.326409333835371\\\\-0.326409333835371 & 0.210091804230156\\end{matrix}\\right]$$"
      ],
      "text/plain": [
       "⎡ 1.68435123866934   -0.326409333835371⎤\n",
       "⎢                                      ⎥\n",
       "⎣-0.326409333835371  0.210091804230156 ⎦"
      ]
     },
     "execution_count": 47,
     "metadata": {},
     "output_type": "execute_result"
    }
   ],
   "source": [
    "M = np.random.randn(2,2)\n",
    "A = M @ M.T\n",
    "Matrix(A)"
   ]
  },
  {
   "cell_type": "markdown",
   "metadata": {},
   "source": [
    "First, we perform the spectral decomposition of $A$"
   ]
  },
  {
   "cell_type": "code",
   "execution_count": 48,
   "metadata": {},
   "outputs": [
    {
     "data": {
      "text/latex": [
       "$$\\left ( \\left ( 2, \\quad 2\\right ), \\quad \\left ( 2\\right ), \\quad \\left ( 2, \\quad 2\\right )\\right )$$"
      ],
      "text/plain": [
       "((2, 2), (2,), (2, 2))"
      ]
     },
     "execution_count": 48,
     "metadata": {},
     "output_type": "execute_result"
    }
   ],
   "source": [
    "U, s, Vh = LA.svd(A, full_matrices=True)\n",
    "U.shape, s.shape, Vh.shape"
   ]
  },
  {
   "cell_type": "markdown",
   "metadata": {},
   "source": [
    "We print $U$ and the diagonal matrix $\\Sigma$"
   ]
  },
  {
   "cell_type": "code",
   "execution_count": 49,
   "metadata": {},
   "outputs": [
    {
     "data": {
      "text/latex": [
       "$$\\left ( \\left[\\begin{matrix}-0.978357021843172 & 0.206923990417153\\\\0.206923990417153 & 0.978357021843172\\end{matrix}\\right], \\quad \\left[\\begin{matrix}1.75338730664724 & 0.0\\\\0.0 & 0.141055736252257\\end{matrix}\\right]\\right )$$"
      ],
      "text/plain": [
       "⎛⎡-0.978357021843172  0.206923990417153⎤  ⎡1.75338730664724         0.0       \n",
       "⎜⎢                                     ⎥, ⎢                                   \n",
       "⎝⎣0.206923990417153   0.978357021843172⎦  ⎣      0.0         0.141055736252257\n",
       "\n",
       "⎤⎞\n",
       "⎥⎟\n",
       "⎦⎠"
      ]
     },
     "execution_count": 49,
     "metadata": {},
     "output_type": "execute_result"
    }
   ],
   "source": [
    "Matrix(U), Matrix(np.diag(s))"
   ]
  },
  {
   "cell_type": "markdown",
   "metadata": {},
   "source": [
    "We verify the spectral theorem by recovering the original matrix through its spectral decomposition"
   ]
  },
  {
   "cell_type": "code",
   "execution_count": 50,
   "metadata": {},
   "outputs": [
    {
     "data": {
      "text/latex": [
       "$$\\left[\\begin{matrix}1.68435123866934 & -0.326409333835371\\\\-0.326409333835371 & 0.210091804230156\\end{matrix}\\right]$$"
      ],
      "text/plain": [
       "⎡ 1.68435123866934   -0.326409333835371⎤\n",
       "⎢                                      ⎥\n",
       "⎣-0.326409333835371  0.210091804230156 ⎦"
      ]
     },
     "execution_count": 50,
     "metadata": {},
     "output_type": "execute_result"
    }
   ],
   "source": [
    "Matrix(U @ np.diag(s) @ U.T)"
   ]
  },
  {
   "cell_type": "markdown",
   "metadata": {},
   "source": [
    "We now visualize how the points on a disk get distorted through the application of $A$"
   ]
  },
  {
   "cell_type": "code",
   "execution_count": 51,
   "metadata": {},
   "outputs": [
    {
     "data": {
      "image/png": "[encoded data removed]",
      "text/plain": [
       "<Figure size 432x288 with 1 Axes>"
      ]
     },
     "metadata": {
      "needs_background": "light"
     },
     "output_type": "display_data"
    }
   ],
   "source": [
    "%matplotlib inline\n",
    "import matplotlib.pyplot as plt\n",
    "theta = np.linspace(0, 2*np.pi, 100) # return evenly spaced numbers over a specified interval\n",
    "x = np.sin(theta)\n",
    "y = np.cos(theta)\n",
    "v = np.array([x, y]) # create 2 x 100 matrix\n",
    "z = A @ v\n",
    "plt.axes().set_aspect('equal', 'datalim')\n",
    "plt.plot(z[0], z[1]);\n",
    "plt.show()"
   ]
  },
  {
   "cell_type": "markdown",
   "metadata": {},
   "source": [
    "We a bit more effort, we can print the eigenvectors scaled by their eigenvalues. This reveals the geometric role of the spectrum"
   ]
  },
  {
   "cell_type": "code",
   "execution_count": 52,
   "metadata": {},
   "outputs": [
    {
     "data": {
      "image/png": "[encoded data removed]",
      "text/plain": [
       "<Figure size 1080x1080 with 1 Axes>"
      ]
     },
     "metadata": {
      "needs_background": "light"
     },
     "output_type": "display_data"
    }
   ],
   "source": [
    "theta = np.linspace(0, 2*np.pi, 100)\n",
    "x = np.sin(theta)\n",
    "y = np.cos(theta)\n",
    "z = A @ np.array([x, y])\n",
    "start = np.array([0.0, 0.0])\n",
    "\n",
    "fig, ax = plt.subplots()\n",
    "fig.set_size_inches(15,15)\n",
    "plt.plot(z[0], z[1]);\n",
    "\n",
    "end = s[0] * U[:,0]\n",
    "ax.annotate(\n",
    "    '', xy=end, xycoords='data',\n",
    "    xytext=start, textcoords='data',\n",
    "    arrowprops=dict(facecolor='red', width=1.0))\n",
    "\n",
    "end = s[1] * U[:,1]\n",
    "ax.annotate(\n",
    "    '', xy=end, xycoords='data',\n",
    "    xytext=start, textcoords='data',\n",
    "    arrowprops=dict(facecolor='red', width=1.0))\n",
    "\n",
    "ax.set_aspect('equal')\n",
    "plt.show()"
   ]
  }
 ],
 "metadata": {
  "kernelspec": {
   "display_name": "Python 3",
   "language": "python",
   "name": "python3"
  },
  "language_info": {
   "codemirror_mode": {
    "name": "ipython",
    "version": 3
   },
   "file_extension": ".py",
   "mimetype": "text/x-python",
   "name": "python",
   "nbconvert_exporter": "python",
   "pygments_lexer": "ipython3",
   "version": "3.7.0"
  }
 },
 "nbformat": 4,
 "nbformat_minor": 2
}
