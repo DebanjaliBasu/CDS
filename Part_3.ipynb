{
 "cells": [
  {
   "cell_type": "markdown",
   "metadata": {},
   "source": [
    "# Flow control\n",
    "\n",
    "We now briefly look at the flow control statements for selection (**if ... then ... else**) and iteration (**for** and **while**).\n",
    "\n",
    "### Selection\n",
    "The syntax of **if ... then** is the following\n",
    "```\n",
    "if <condition 1>:\n",
    "    <code block 1>\n",
    "elif <condition 2>:\n",
    "    <code block 2>\n",
    "else:\n",
    "    <code block 3>\n",
    "```\n",
    "In Python, a code block must be preceded by `:` and indented by the same amount of spaces or tabs.\n",
    "\n",
    "In the selection statement, the interpreter executes only one code block according to the following rule:\n",
    "- `code block 1` if `condition 1` is true\n",
    "- otherwise `code block 2` if `condition 2` is true\n",
    "- otherwise `code block 3`\n",
    "\n",
    "Note that:\n",
    "- There can be zero or more than one `elif` clauses. If there is more than one, the code block that gets executed is the first one whose associated condition is true.\n",
    "- If the `else` clause is missing, then no code block might get executed. "
   ]
  },
  {
   "cell_type": "code",
   "execution_count": 2,
   "metadata": {},
   "outputs": [
    {
     "name": "stdout",
     "output_type": "stream",
     "text": [
      "Not Pippo\n"
     ]
    }
   ],
   "source": [
    "x = 'pluto'\n",
    "if x == 'pippo':\n",
    "    print('Pippo')\n",
    "else:\n",
    "    print('Not Pippo')"
   ]
  },
  {
   "cell_type": "code",
   "execution_count": 1,
   "metadata": {},
   "outputs": [
    {
     "name": "stdout",
     "output_type": "stream",
     "text": [
      "C\n"
     ]
    }
   ],
   "source": [
    "x = 65\n",
    "if x >= 90:\n",
    "    print('A')\n",
    "elif x >= 75:\n",
    "    print('B')\n",
    "elif x >=60:\n",
    "    print('C')\n",
    "else:\n",
    "    print('F')"
   ]
  },
  {
   "cell_type": "markdown",
   "metadata": {},
   "source": [
    "### Ternary expressions\n",
    "A *ternary expression* allows to combine in a single expression an *if-else* block that produces a single value.\n",
    "```\n",
    "if <condition>:\n",
    "    value = <expression 1>\n",
    "else:\n",
    "    value = <expression 2>\n",
    "```\n",
    "can be equivalently written as\n",
    "```\n",
    "value = <expression 1> if <condition> else <expression 2>\n",
    "```\n",
    "Here is a simple example"
   ]
  },
  {
   "cell_type": "code",
   "execution_count": 8,
   "metadata": {},
   "outputs": [
    {
     "data": {
      "text/plain": [
       "'nonnegative'"
      ]
     },
     "execution_count": 8,
     "metadata": {},
     "output_type": "execute_result"
    }
   ],
   "source": [
    "x = 5\n",
    "s = 'nonnegative' if x >= 0 else 'negative'\n",
    "s"
   ]
  },
  {
   "cell_type": "markdown",
   "metadata": {},
   "source": [
    "### For loops\n",
    "The syntax of the **for** statement is the following:\n",
    "```\n",
    "for <variable> in <sequence>:\n",
    "    <code block>\n",
    "```\n",
    "`sequence` can be a list, a tuple, or any *iterable* collection. The interpreter iterates over the elements of the sequence. At each iteration, the code block is executed with `variable` assigned to the current element of the sequence.\n",
    "\n",
    "Here is an example using the built-in constant `None` which in Python represents the absence of a value."
   ]
  },
  {
   "cell_type": "code",
   "execution_count": 9,
   "metadata": {},
   "outputs": [
    {
     "name": "stdout",
     "output_type": "stream",
     "text": [
      "12\n"
     ]
    }
   ],
   "source": [
    "x = [1, 2, None, 4, None, 5]\n",
    "count = 0\n",
    "for v in x:\n",
    "    if v != None:\n",
    "        count += v\n",
    "print(count)"
   ]
  },
  {
   "cell_type": "markdown",
   "metadata": {},
   "source": [
    "### While loops\n",
    "The **while** statement has the following syntax:\n",
    "```\n",
    "while <condition>:\n",
    "    <code block>\n",
    "```\n",
    "The interpreter cycles over the two following operations:\n",
    "1. Check `condition`\n",
    "2. If `condition` is true, then execute the code block\n",
    "\n",
    "Typically, `condition` contains variables, and the instructions in the code block modify these variables. "
   ]
  },
  {
   "cell_type": "markdown",
   "metadata": {},
   "source": [
    "## Ranges\n",
    "The `range` type represents an **immutable sequence of numbers** and is commonly used for looping a specific number of times in for loops."
   ]
  },
  {
   "cell_type": "code",
   "execution_count": 10,
   "metadata": {},
   "outputs": [
    {
     "data": {
      "text/plain": [
       "range"
      ]
     },
     "execution_count": 10,
     "metadata": {},
     "output_type": "execute_result"
    }
   ],
   "source": [
    "r = range(10)\n",
    "type(r)"
   ]
  },
  {
   "cell_type": "code",
   "execution_count": 11,
   "metadata": {},
   "outputs": [
    {
     "data": {
      "text/plain": [
       "[0, 1, 2, 3, 4, 5, 6, 7, 8, 9]"
      ]
     },
     "execution_count": 11,
     "metadata": {},
     "output_type": "execute_result"
    }
   ],
   "source": [
    "list(r)"
   ]
  },
  {
   "cell_type": "markdown",
   "metadata": {},
   "source": [
    "If we specify `start` and `stop` values, then the range object contains all integers from `start` to `stop-1`."
   ]
  },
  {
   "cell_type": "code",
   "execution_count": 12,
   "metadata": {},
   "outputs": [
    {
     "data": {
      "text/plain": [
       "[1, 2, 3, 4, 5, 6, 7, 8, 9, 10]"
      ]
     },
     "execution_count": 12,
     "metadata": {},
     "output_type": "execute_result"
    }
   ],
   "source": [
    "list(range(1, 11))"
   ]
  },
  {
   "cell_type": "markdown",
   "metadata": {},
   "source": [
    "If we specify a `step` values, then the range contains integers of the form `r[i] = start + step*i` and satisfying the condition `r[i] < stop`."
   ]
  },
  {
   "cell_type": "code",
   "execution_count": 13,
   "metadata": {},
   "outputs": [
    {
     "data": {
      "text/plain": [
       "[0, 3, 6, 9]"
      ]
     },
     "execution_count": 13,
     "metadata": {},
     "output_type": "execute_result"
    }
   ],
   "source": [
    "list(range(0, 10, 3))"
   ]
  },
  {
   "cell_type": "markdown",
   "metadata": {},
   "source": [
    "`range(0)` and `range(1,0)` both correspond to the empty list `[]`."
   ]
  },
  {
   "cell_type": "code",
   "execution_count": 14,
   "metadata": {},
   "outputs": [
    {
     "data": {
      "text/plain": [
       "[]"
      ]
     },
     "execution_count": 14,
     "metadata": {},
     "output_type": "execute_result"
    }
   ],
   "source": [
    "list(range(0))"
   ]
  },
  {
   "cell_type": "code",
   "execution_count": 15,
   "metadata": {},
   "outputs": [
    {
     "data": {
      "text/plain": [
       "[]"
      ]
     },
     "execution_count": 15,
     "metadata": {},
     "output_type": "execute_result"
    }
   ],
   "source": [
    "list(range(1,0))"
   ]
  },
  {
   "cell_type": "markdown",
   "metadata": {},
   "source": [
    "# List comprehensions\n",
    "\n",
    "Comprehensions provide a compact way to **filter elements from a sequence**. In case of lists, they allow to write the following for loop\n",
    "```\n",
    "result = []\n",
    "for <variable> in <sequence>:\n",
    "    if <condition>:\n",
    "        result.append(<expression>)\n",
    "```\n",
    "in the following equivalent form\n",
    "```\n",
    "[<expression> for <variable> in <sequence> if <condition>]\n",
    "```\n",
    "Here is a simple example."
   ]
  },
  {
   "cell_type": "code",
   "execution_count": 16,
   "metadata": {},
   "outputs": [
    {
     "data": {
      "text/plain": [
       "['BAR', 'BAZ', 'B', 'BA']"
      ]
     },
     "execution_count": 16,
     "metadata": {},
     "output_type": "execute_result"
    }
   ],
   "source": [
    "strings = ['foo', 'bar', 'baz', 'f', 'fo', 'b', 'ba']\n",
    "[x.upper() for x in strings if x[0] == 'b']"
   ]
  },
  {
   "cell_type": "markdown",
   "metadata": {},
   "source": [
    "The expression part in a list comprehension can be complex. In the following example, the expression builds a tuple of two elements."
   ]
  },
  {
   "cell_type": "code",
   "execution_count": 17,
   "metadata": {
    "scrolled": true
   },
   "outputs": [
    {
     "data": {
      "text/plain": [
       "[(0, 0), (1, 1), (2, 4), (3, 9), (4, 16), (5, 25)]"
      ]
     },
     "execution_count": 17,
     "metadata": {},
     "output_type": "execute_result"
    }
   ],
   "source": [
    "[(x, x**2) for x in range(6)]"
   ]
  },
  {
   "cell_type": "markdown",
   "metadata": {},
   "source": [
    "List comprehensions can be nested. Here is an example where we extract the integers from a list of tuples of integers (an operation called *flattening*)."
   ]
  },
  {
   "cell_type": "code",
   "execution_count": 18,
   "metadata": {},
   "outputs": [
    {
     "data": {
      "text/plain": [
       "[1, 2, 3, 4, 5, 6]"
      ]
     },
     "execution_count": 18,
     "metadata": {},
     "output_type": "execute_result"
    }
   ],
   "source": [
    "x = [(1, 2, 3), (4, 5, 6)]\n",
    "[v for t in x for v in t]"
   ]
  },
  {
   "cell_type": "code",
   "execution_count": 19,
   "metadata": {},
   "outputs": [
    {
     "data": {
      "text/plain": [
       "[1, 2, 3, 4, 5, 6]"
      ]
     },
     "execution_count": 19,
     "metadata": {},
     "output_type": "execute_result"
    }
   ],
   "source": [
    "x = [(1, 2, 3), (4, 5, 6)]\n",
    "result = []\n",
    "for t in x:\n",
    "    for v in t:\n",
    "        result.append(v)\n",
    "result"
   ]
  },
  {
   "cell_type": "markdown",
   "metadata": {},
   "source": [
    "Here is another example where we square even numbers and set to 1 odd numbers.\n",
    "\n",
    "Note that the expression part is a ternary expression."
   ]
  },
  {
   "cell_type": "code",
   "execution_count": null,
   "metadata": {},
   "outputs": [],
   "source": [
    "x = [0, 1, 2, 3, 4]\n",
    "even_squares_or_one = [v ** 2 if v % 2 == 0 else 1 for v in x]\n",
    "even_squares_or_one"
   ]
  },
  {
   "cell_type": "markdown",
   "metadata": {},
   "source": [
    "# Importing a module\n",
    "\n",
    "A module in python is a file with a `.py` extension containing code defining functions, constants, and types that are not available as built-in entities. The `import` statement is used to load a module. The imported functions, constants, and types are available **prefixed with the module name**."
   ]
  },
  {
   "cell_type": "code",
   "execution_count": null,
   "metadata": {},
   "outputs": [],
   "source": [
    "import math\n",
    "math.pi"
   ]
  },
  {
   "cell_type": "markdown",
   "metadata": {},
   "source": [
    "Instead of importing an entire module, we can import one or more functions, constants, or types."
   ]
  },
  {
   "cell_type": "code",
   "execution_count": null,
   "metadata": {},
   "outputs": [],
   "source": [
    "ages = [24, 17, 72, 36, 56, 20]\n",
    "from statistics import mean\n",
    "mean(ages)"
   ]
  },
  {
   "cell_type": "markdown",
   "metadata": {},
   "source": [
    "By using the keyword `as` we can change the name of the imported element or module."
   ]
  },
  {
   "cell_type": "code",
   "execution_count": null,
   "metadata": {},
   "outputs": [],
   "source": [
    "from statistics import median as med\n",
    "med(ages)"
   ]
  },
  {
   "cell_type": "code",
   "execution_count": null,
   "metadata": {},
   "outputs": [],
   "source": [
    "import statistics as stat\n",
    "stat.stdev(ages)"
   ]
  },
  {
   "cell_type": "markdown",
   "metadata": {},
   "source": [
    "We now see list comprehensions in action on data uploaded from a file. Before that, let's introduce the `with` statement for opening files. Its syntax is\n",
    "```\n",
    "with open(<filename>) as <variable>:\n",
    "    <code block>\n",
    "```\n",
    "`<variable>` is the *handle* for the file. We can treat it as a list and iterate over the file lines.\n",
    "\n",
    "\n",
    "The file is `Datasets/diabetes.csv`. First, we take a look at it using the Unix shell command `cat` to print a file o screen. Shell commands can be invoked from Jupyter using `!`. "
   ]
  },
  {
   "cell_type": "code",
   "execution_count": null,
   "metadata": {},
   "outputs": [],
   "source": [
    "!cat Datasets/diabetes.csv"
   ]
  },
  {
   "cell_type": "markdown",
   "metadata": {},
   "source": [
    "This is the *Pima Indian Diabetes Database*. The dataset was prepared with the purpose of training machine learning algorithms to predict whether or not a patient has diabetes based on a set of diagnostic measurements: Pregnancies, Glucose, BloodPressure, SkinThickness, Insulin, BMI, DiabetesPedigreeFunction, Age.\n",
    "\n",
    "We open the file for reading and assign the handle to `pima_file`. Then, we use a list comprehension to build a list whose elements are the lines in the file."
   ]
  },
  {
   "cell_type": "code",
   "execution_count": null,
   "metadata": {
    "scrolled": false
   },
   "outputs": [],
   "source": [
    "with open('Datasets/diabetes.csv') as pima_file:\n",
    "    lines = [x for x in pima_file]\n",
    "lines"
   ]
  },
  {
   "cell_type": "markdown",
   "metadata": {},
   "source": [
    "Note that each line is terminated by a newline `\\n` character.\n",
    "\n",
    "We can process csv files more efficiently using the csv module. This module provides the function `reader()` which returns an object of type `reader` containing all the lines in the file, without the newline character, and broken in substrings using a specified delimiter character (comma in our case). The reader object can then be converted into a list of lists using the type constructor `list()`."
   ]
  },
  {
   "cell_type": "code",
   "execution_count": null,
   "metadata": {},
   "outputs": [],
   "source": [
    "import csv\n",
    "with open('Datasets/diabetes.csv') as pima_file:\n",
    "    pima_reader = csv.reader(pima_file, delimiter=',')\n",
    "    lines = list(pima_reader)[1:]"
   ]
  },
  {
   "cell_type": "markdown",
   "metadata": {},
   "source": [
    "Note that we used slicing to get rid of the first line of the file."
   ]
  },
  {
   "cell_type": "code",
   "execution_count": null,
   "metadata": {},
   "outputs": [],
   "source": [
    "lines"
   ]
  },
  {
   "cell_type": "markdown",
   "metadata": {},
   "source": [
    "We can use another list comprehension to extract the element in position 7 in each line (the age column) and then apply the type constructor `float()` to turn it into a float."
   ]
  },
  {
   "cell_type": "code",
   "execution_count": null,
   "metadata": {},
   "outputs": [],
   "source": [
    "ages = [float(v[7]) for v in lines]\n",
    "ages"
   ]
  },
  {
   "cell_type": "markdown",
   "metadata": {},
   "source": [
    "We want to plot a histogram of these ages. We first create the histogram bins using the `range()` type constructor."
   ]
  },
  {
   "cell_type": "code",
   "execution_count": null,
   "metadata": {},
   "outputs": [],
   "source": [
    "age_bins = list(range(20, 80, 5))\n",
    "age_bins"
   ]
  },
  {
   "cell_type": "markdown",
   "metadata": {},
   "source": [
    "In order to plot the histogram, we load the interface `pyplot` of the module `matplotlib` and assign it the conventional name `plt`. Then we construct the histogram with the function `hist()` and print it with the function `show()`.\n",
    "\n",
    "The *magic command* `%matplotlib notebook` provides nice display capabilities for matplotlib in Jupyter notebooks\n",
    "\n",
    "Magic commands are executed by the kernel and allow to perform various tasks."
   ]
  },
  {
   "cell_type": "code",
   "execution_count": null,
   "metadata": {},
   "outputs": [],
   "source": [
    "%matplotlib notebook\n",
    "import matplotlib.pyplot as plt\n",
    "plt.hist(ages, bins=age_bins)\n",
    "plt.show()"
   ]
  },
  {
   "cell_type": "markdown",
   "metadata": {},
   "source": [
    "Note that we invoked the method `hist()` with arguments `ages` and `bins=age_bins`. In Python, function arguments can be *positional* like `ages` or *keyword* like `bins`.\n",
    "\n",
    "Positional arguments are order-dependent and must precede keyword arguments. Keyword arguments, instead, are order-independent."
   ]
  },
  {
   "cell_type": "markdown",
   "metadata": {},
   "source": [
    "## Dictionaries\n",
    "\n",
    "The built-in type `dict` implements a hash map as a mutable collection of key-value pairs. Dicts can be created using the syntax\n",
    "```\n",
    "{key_1 : value_1, ..., key_n : value_n}\n",
    "```"
   ]
  },
  {
   "cell_type": "code",
   "execution_count": null,
   "metadata": {},
   "outputs": [],
   "source": [
    "d = {7 : 'pippo', 'b' : [1, 2, 3]}\n",
    "type(d)"
   ]
  },
  {
   "cell_type": "markdown",
   "metadata": {},
   "source": [
    "While the values can be any object, keys are restricted to be scalar (int, float, string) or tuples containing immutable objects. We can check whether an object can be used as a key using the `hash()` built-in function, which returns a hash code of its argument."
   ]
  },
  {
   "cell_type": "code",
   "execution_count": null,
   "metadata": {},
   "outputs": [],
   "source": [
    "hash(((1, 2, 3), 'pippo'))"
   ]
  },
  {
   "cell_type": "markdown",
   "metadata": {},
   "source": [
    "We can access elements of a dict via the indexing operator `[]`."
   ]
  },
  {
   "cell_type": "code",
   "execution_count": null,
   "metadata": {},
   "outputs": [],
   "source": [
    "d['b']"
   ]
  },
  {
   "cell_type": "markdown",
   "metadata": {},
   "source": [
    "Adding elements to a dictionary is easy."
   ]
  },
  {
   "cell_type": "code",
   "execution_count": null,
   "metadata": {},
   "outputs": [],
   "source": [
    "d[(1,2)] = 3\n",
    "d"
   ]
  },
  {
   "cell_type": "markdown",
   "metadata": {},
   "source": [
    "We can search for a key using the `in` operator, and delete and entry using the `del()` keyword or the `pop()` method."
   ]
  },
  {
   "cell_type": "code",
   "execution_count": null,
   "metadata": {},
   "outputs": [],
   "source": [
    "'b' in d"
   ]
  },
  {
   "cell_type": "code",
   "execution_count": null,
   "metadata": {},
   "outputs": [],
   "source": [
    "del d['b']\n",
    "d"
   ]
  },
  {
   "cell_type": "code",
   "execution_count": null,
   "metadata": {},
   "outputs": [],
   "source": [
    "d.pop(7)"
   ]
  },
  {
   "cell_type": "markdown",
   "metadata": {},
   "source": [
    "Similarly to the method `extend()` for lists, the method `update()` merges two dictionaries."
   ]
  },
  {
   "cell_type": "code",
   "execution_count": null,
   "metadata": {},
   "outputs": [],
   "source": [
    "d = {} # empty dictionary\n",
    "d2 = {0: 'a', 1 : 'b', 2 : 'c'}\n",
    "d.update(d2)\n",
    "d"
   ]
  },
  {
   "cell_type": "markdown",
   "metadata": {},
   "source": [
    "We can extract the keys and the values in a dictionary using the methods `keys()` and `values()`. Since these methods return specific objects, we can use the type constructor `list()` to make them into lists."
   ]
  },
  {
   "cell_type": "code",
   "execution_count": null,
   "metadata": {},
   "outputs": [],
   "source": [
    "list(d.keys())"
   ]
  },
  {
   "cell_type": "code",
   "execution_count": null,
   "metadata": {},
   "outputs": [],
   "source": [
    "list(d.values())"
   ]
  },
  {
   "cell_type": "markdown",
   "metadata": {},
   "source": [
    "Similarly, the method `items()` can be used to obtain a list of pairs `(key, value)`."
   ]
  },
  {
   "cell_type": "code",
   "execution_count": null,
   "metadata": {},
   "outputs": [],
   "source": [
    "list(d.items())"
   ]
  },
  {
   "cell_type": "markdown",
   "metadata": {},
   "source": [
    "In order to create a dictionary, we can use the type constructor `dict()` applied to a zip object."
   ]
  },
  {
   "cell_type": "code",
   "execution_count": null,
   "metadata": {},
   "outputs": [],
   "source": [
    "a = [0, 1, 2]\n",
    "b = ['pippo', 'pluto', 'paperino']\n",
    "d = dict(zip(a,b))\n",
    "d"
   ]
  },
  {
   "cell_type": "markdown",
   "metadata": {},
   "source": [
    "Alternatively, we can use a **dict comprehension**"
   ]
  },
  {
   "cell_type": "code",
   "execution_count": null,
   "metadata": {},
   "outputs": [],
   "source": [
    "nums = range(0,10)\n",
    "d = {x : x**2 for x in nums if x % 2 == 0}\n",
    "d"
   ]
  },
  {
   "cell_type": "markdown",
   "metadata": {},
   "source": [
    "Iterating over a dictionary is easy."
   ]
  },
  {
   "cell_type": "code",
   "execution_count": null,
   "metadata": {},
   "outputs": [],
   "source": [
    "d = {'person': 2, 'cat': 4, 'spider': 8}\n",
    "for (animal, legs) in d.items():\n",
    "    print(animal + ' = ' + str(legs)) # use the type constructor str() to convert an int into a string"
   ]
  }
 ],
 "metadata": {
  "kernelspec": {
   "display_name": "Python 3",
   "language": "python",
   "name": "python3"
  },
  "language_info": {
   "codemirror_mode": {
    "name": "ipython",
    "version": 3
   },
   "file_extension": ".py",
   "mimetype": "text/x-python",
   "name": "python",
   "nbconvert_exporter": "python",
   "pygments_lexer": "ipython3",
   "version": "3.7.0"
  }
 },
 "nbformat": 4,
 "nbformat_minor": 2
}
