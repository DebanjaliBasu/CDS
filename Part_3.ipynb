{
 "cells": [
  {
   "cell_type": "markdown",
   "metadata": {},
   "source": [
    "# Flow control\n",
    "\n",
    "We now briefly look at the flow control statements for selection (**if ... then ... else**) and iteration (**for** and **while**).\n",
    "\n",
    "### Selection\n",
    "The syntax of **if ... then** is the following\n",
    "```\n",
    "if <condition 1>:\n",
    "    <code block 1>\n",
    "elif <condition 2>:\n",
    "    <code block 2>\n",
    "else:\n",
    "    <code block 3>\n",
    "```\n",
    "In Python, a code block must be preceded by `:` and indented by the same amount of spaces or tabs.\n",
    "\n",
    "In the selection statement, the interpreter executes only one code block according to the following rule:\n",
    "- `code block 1` if `condition 1` is true\n",
    "- otherwise `code block 2` if `condition 2` is true\n",
    "- otherwise `code block 3`\n",
    "\n",
    "Note that:\n",
    "- There can be zero or more than one `elif` clauses. If there is more than one, the code block that gets executed is the first one whose associated condition is true.\n",
    "- If the `else` clause is missing, then no code block might get executed. "
   ]
  },
  {
   "cell_type": "code",
   "execution_count": 1,
   "metadata": {},
   "outputs": [
    {
     "name": "stdout",
     "output_type": "stream",
     "text": [
      "Not Pippo\n"
     ]
    }
   ],
   "source": [
    "x = 'pluto'\n",
    "if x == 'pippo':\n",
    "    print('Pippo')\n",
    "else:\n",
    "    print('Not Pippo')"
   ]
  },
  {
   "cell_type": "code",
   "execution_count": 2,
   "metadata": {},
   "outputs": [
    {
     "name": "stdout",
     "output_type": "stream",
     "text": [
      "C\n"
     ]
    }
   ],
   "source": [
    "x = 65\n",
    "if x >= 90:\n",
    "    print('A')\n",
    "elif x >= 75:\n",
    "    print('B')\n",
    "elif x >=60:\n",
    "    print('C')\n",
    "else:\n",
    "    print('F')"
   ]
  },
  {
   "cell_type": "markdown",
   "metadata": {},
   "source": [
    "### Ternary expressions\n",
    "A *ternary expression* allows to combine in a single expression an *if-else* block that produces a single value.\n",
    "```\n",
    "if <condition>:\n",
    "    value = <expression 1>\n",
    "else:\n",
    "    value = <expression 2>\n",
    "```\n",
    "can be equivalently written as\n",
    "```\n",
    "value = <expression 1> if <condition> else <expression 2>\n",
    "```\n",
    "Here is a simple example"
   ]
  },
  {
   "cell_type": "code",
   "execution_count": 3,
   "metadata": {},
   "outputs": [
    {
     "data": {
      "text/plain": [
       "'nonnegative'"
      ]
     },
     "execution_count": 3,
     "metadata": {},
     "output_type": "execute_result"
    }
   ],
   "source": [
    "x = 5\n",
    "s = 'nonnegative' if x >= 0 else 'negative'\n",
    "s"
   ]
  },
  {
   "cell_type": "markdown",
   "metadata": {},
   "source": [
    "### For loops\n",
    "The syntax of the **for** statement is the following:\n",
    "```\n",
    "for <variable> in <sequence>:\n",
    "    <code block>\n",
    "```\n",
    "`sequence` can be a list, a tuple, or any *iterable* collection. The interpreter iterates over the elements of the sequence. At each iteration, the code block is executed with `variable` assigned to the current element of the sequence.\n",
    "\n",
    "Here is an example using the built-in constant `None` which in Python represents the absence of a value."
   ]
  },
  {
   "cell_type": "code",
   "execution_count": 4,
   "metadata": {},
   "outputs": [
    {
     "name": "stdout",
     "output_type": "stream",
     "text": [
      "12\n"
     ]
    }
   ],
   "source": [
    "x = [1, 2, None, 4, None, 5]\n",
    "count = 0\n",
    "for v in x:\n",
    "    if v != None:\n",
    "        count += v\n",
    "print(count)"
   ]
  },
  {
   "cell_type": "markdown",
   "metadata": {},
   "source": [
    "### While loops\n",
    "The **while** statement has the following syntax:\n",
    "```\n",
    "while <condition>:\n",
    "    <code block>\n",
    "```\n",
    "The interpreter cycles over the two following operations:\n",
    "1. Check `condition`\n",
    "2. If `condition` is true, then execute the code block\n",
    "\n",
    "Typically, `condition` contains variables, and the instructions in the code block modify these variables. "
   ]
  },
  {
   "cell_type": "markdown",
   "metadata": {},
   "source": [
    "## Ranges\n",
    "The `range` type represents an **immutable sequence of numbers** and is commonly used for looping a specific number of times in for loops."
   ]
  },
  {
   "cell_type": "code",
   "execution_count": 5,
   "metadata": {},
   "outputs": [
    {
     "data": {
      "text/plain": [
       "range"
      ]
     },
     "execution_count": 5,
     "metadata": {},
     "output_type": "execute_result"
    }
   ],
   "source": [
    "r = range(10)\n",
    "type(r)"
   ]
  },
  {
   "cell_type": "code",
   "execution_count": 6,
   "metadata": {},
   "outputs": [
    {
     "data": {
      "text/plain": [
       "[0, 1, 2, 3, 4, 5, 6, 7, 8, 9]"
      ]
     },
     "execution_count": 6,
     "metadata": {},
     "output_type": "execute_result"
    }
   ],
   "source": [
    "list(r)"
   ]
  },
  {
   "cell_type": "markdown",
   "metadata": {},
   "source": [
    "If we specify `start` and `stop` values, then the range object contains all integers from `start` to `stop-1`."
   ]
  },
  {
   "cell_type": "code",
   "execution_count": 7,
   "metadata": {},
   "outputs": [
    {
     "data": {
      "text/plain": [
       "[1, 2, 3, 4, 5, 6, 7, 8, 9, 10]"
      ]
     },
     "execution_count": 7,
     "metadata": {},
     "output_type": "execute_result"
    }
   ],
   "source": [
    "list(range(1, 11))"
   ]
  },
  {
   "cell_type": "markdown",
   "metadata": {},
   "source": [
    "If we specify a `step` values, then the range contains integers of the form `r[i] = start + step*i` and satisfying the condition `r[i] < stop`."
   ]
  },
  {
   "cell_type": "code",
   "execution_count": 8,
   "metadata": {},
   "outputs": [
    {
     "data": {
      "text/plain": [
       "[0, 3, 6, 9]"
      ]
     },
     "execution_count": 8,
     "metadata": {},
     "output_type": "execute_result"
    }
   ],
   "source": [
    "list(range(0, 10, 3))"
   ]
  },
  {
   "cell_type": "markdown",
   "metadata": {},
   "source": [
    "`range(0)` and `range(1,0)` both correspond to the empty list `[]`."
   ]
  },
  {
   "cell_type": "code",
   "execution_count": 9,
   "metadata": {},
   "outputs": [
    {
     "data": {
      "text/plain": [
       "[]"
      ]
     },
     "execution_count": 9,
     "metadata": {},
     "output_type": "execute_result"
    }
   ],
   "source": [
    "list(range(0))"
   ]
  },
  {
   "cell_type": "code",
   "execution_count": 10,
   "metadata": {},
   "outputs": [
    {
     "data": {
      "text/plain": [
       "[]"
      ]
     },
     "execution_count": 10,
     "metadata": {},
     "output_type": "execute_result"
    }
   ],
   "source": [
    "list(range(1,0))"
   ]
  },
  {
   "cell_type": "markdown",
   "metadata": {},
   "source": [
    "# List comprehensions\n",
    "\n",
    "Comprehensions provide a compact way to **filter elements from a sequence**. In case of lists, they allow to write the following for loop\n",
    "```\n",
    "result = []\n",
    "for <variable> in <sequence>:\n",
    "    if <condition>:\n",
    "        result.append(<expression>)\n",
    "```\n",
    "in the following equivalent form\n",
    "```\n",
    "[<expression> for <variable> in <sequence> if <condition>]\n",
    "```\n",
    "Here is a simple example."
   ]
  },
  {
   "cell_type": "code",
   "execution_count": 11,
   "metadata": {},
   "outputs": [
    {
     "data": {
      "text/plain": [
       "['BAR', 'BAZ', 'B', 'BA']"
      ]
     },
     "execution_count": 11,
     "metadata": {},
     "output_type": "execute_result"
    }
   ],
   "source": [
    "strings = ['foo', 'bar', 'baz', 'f', 'fo', 'b', 'ba']\n",
    "[x.upper() for x in strings if x[0] == 'b']"
   ]
  },
  {
   "cell_type": "markdown",
   "metadata": {},
   "source": [
    "The expression part in a list comprehension can be complex. In the following example, the expression builds a tuple of two elements."
   ]
  },
  {
   "cell_type": "code",
   "execution_count": 12,
   "metadata": {
    "scrolled": true
   },
   "outputs": [
    {
     "data": {
      "text/plain": [
       "[(0, 0), (1, 1), (2, 4), (3, 9), (4, 16), (5, 25)]"
      ]
     },
     "execution_count": 12,
     "metadata": {},
     "output_type": "execute_result"
    }
   ],
   "source": [
    "[(x, x**2) for x in range(6)]"
   ]
  },
  {
   "cell_type": "markdown",
   "metadata": {},
   "source": [
    "List comprehensions can be nested. Here is an example where we extract the integers from a list of tuples of integers (an operation called *flattening*)."
   ]
  },
  {
   "cell_type": "code",
   "execution_count": 13,
   "metadata": {},
   "outputs": [
    {
     "data": {
      "text/plain": [
       "[1, 2, 3, 4, 5, 6]"
      ]
     },
     "execution_count": 13,
     "metadata": {},
     "output_type": "execute_result"
    }
   ],
   "source": [
    "x = [(1, 2, 3), (4, 5, 6)]\n",
    "[v for t in x for v in t]"
   ]
  },
  {
   "cell_type": "code",
   "execution_count": 14,
   "metadata": {},
   "outputs": [
    {
     "data": {
      "text/plain": [
       "[1, 2, 3, 4, 5, 6]"
      ]
     },
     "execution_count": 14,
     "metadata": {},
     "output_type": "execute_result"
    }
   ],
   "source": [
    "x = [(1, 2, 3), (4, 5, 6)]\n",
    "result = []\n",
    "for t in x:\n",
    "    for v in t:\n",
    "        result.append(v)\n",
    "result"
   ]
  },
  {
   "cell_type": "markdown",
   "metadata": {},
   "source": [
    "Here is another example where we square even numbers and set to 1 odd numbers.\n",
    "\n",
    "Note that the expression part is a ternary expression."
   ]
  },
  {
   "cell_type": "code",
   "execution_count": 15,
   "metadata": {},
   "outputs": [
    {
     "data": {
      "text/plain": [
       "[0, 1, 4, 1, 16]"
      ]
     },
     "execution_count": 15,
     "metadata": {},
     "output_type": "execute_result"
    }
   ],
   "source": [
    "x = [0, 1, 2, 3, 4]\n",
    "even_squares_or_one = [v ** 2 if v % 2 == 0 else 1 for v in x]\n",
    "even_squares_or_one"
   ]
  },
  {
   "cell_type": "markdown",
   "metadata": {},
   "source": [
    "# Importing a module\n",
    "\n",
    "A module in python is a file with a `.py` extension containing code defining functions, constants, and types that are not available as built-in entities. The `import` statement is used to load a module. The imported functions, constants, and types are available **prefixed with the module name**."
   ]
  },
  {
   "cell_type": "code",
   "execution_count": 16,
   "metadata": {},
   "outputs": [
    {
     "data": {
      "text/plain": [
       "3.141592653589793"
      ]
     },
     "execution_count": 16,
     "metadata": {},
     "output_type": "execute_result"
    }
   ],
   "source": [
    "import math\n",
    "math.pi"
   ]
  },
  {
   "cell_type": "markdown",
   "metadata": {},
   "source": [
    "Instead of importing an entire module, we can import one or more functions, constants, or types."
   ]
  },
  {
   "cell_type": "code",
   "execution_count": 17,
   "metadata": {},
   "outputs": [
    {
     "data": {
      "text/plain": [
       "37.5"
      ]
     },
     "execution_count": 17,
     "metadata": {},
     "output_type": "execute_result"
    }
   ],
   "source": [
    "ages = [24, 17, 72, 36, 56, 20]\n",
    "from statistics import mean\n",
    "mean(ages)"
   ]
  },
  {
   "cell_type": "markdown",
   "metadata": {},
   "source": [
    "By using the keyword `as` we can change the name of the imported element or module."
   ]
  },
  {
   "cell_type": "code",
   "execution_count": 18,
   "metadata": {},
   "outputs": [
    {
     "data": {
      "text/plain": [
       "30.0"
      ]
     },
     "execution_count": 18,
     "metadata": {},
     "output_type": "execute_result"
    }
   ],
   "source": [
    "from statistics import median as med\n",
    "med(ages)"
   ]
  },
  {
   "cell_type": "code",
   "execution_count": 19,
   "metadata": {},
   "outputs": [
    {
     "data": {
      "text/plain": [
       "22.106560112328648"
      ]
     },
     "execution_count": 19,
     "metadata": {},
     "output_type": "execute_result"
    }
   ],
   "source": [
    "import statistics as stat\n",
    "stat.stdev(ages)"
   ]
  },
  {
   "cell_type": "markdown",
   "metadata": {},
   "source": [
    "We now see list comprehensions in action on data uploaded from a file. Before that, let's introduce the `with` statement for opening files. Its syntax is\n",
    "```\n",
    "with open(<filename>) as <variable>:\n",
    "    <code block>\n",
    "```\n",
    "`<variable>` is the *handle* for the file. We can treat it as a list and iterate over the file lines.\n",
    "\n",
    "\n",
    "The file is `Datasets/diabetes.csv`. We can take a look at it using the Unix shell command `cat` to print a file o screen. Shell commands can be invoked from Jupyter using `!`. So the complete command is `!cat Datasets/diabetes.csv`"
   ]
  },
  {
   "cell_type": "markdown",
   "metadata": {},
   "source": [
    "This is the *Pima Indian Diabetes Database*. The dataset was prepared with the purpose of training machine learning algorithms to predict whether or not a patient has diabetes based on a set of diagnostic measurements: Pregnancies, Glucose, BloodPressure, SkinThickness, Insulin, BMI, DiabetesPedigreeFunction, Age.\n",
    "\n",
    "We open the file for reading and assign the handle to `pima_file`. Then, we use a list comprehension to build a list whose elements are the lines in the file."
   ]
  },
  {
   "cell_type": "code",
   "execution_count": 41,
   "metadata": {
    "scrolled": false
   },
   "outputs": [
    {
     "data": {
      "text/plain": [
       "['Pregnancies,Glucose,BloodPressure,SkinThickness,Insulin,BMI,DiabetesPedigreeFunction,Age,Outcome\\n',\n",
       " '6,148,72,35,0,33.6,0.627,50,1\\n',\n",
       " '1,85,66,29,0,26.6,0.351,31,0\\n',\n",
       " '8,183,64,0,0,23.3,0.672,32,1\\n',\n",
       " '1,89,66,23,94,28.1,0.167,21,0\\n',\n",
       " '0,137,40,35,168,43.1,2.288,33,1\\n',\n",
       " '5,116,74,0,0,25.6,0.201,30,0\\n',\n",
       " '3,78,50,32,88,31,0.248,26,1\\n',\n",
       " '10,115,0,0,0,35.3,0.134,29,0\\n',\n",
       " '2,197,70,45,543,30.5,0.158,53,1\\n']"
      ]
     },
     "execution_count": 41,
     "metadata": {},
     "output_type": "execute_result"
    }
   ],
   "source": [
    "with open('Datasets/diabetes.csv') as pima_file:\n",
    "    lines = [x for x in pima_file]\n",
    "lines[:10]"
   ]
  },
  {
   "cell_type": "markdown",
   "metadata": {},
   "source": [
    "Note that each line is terminated by a newline `\\n` character.\n",
    "\n",
    "We can process csv files more efficiently using the csv module. This module provides the function `reader()` which returns an object of type `reader` containing all the lines in the file, without the newline character, and broken in substrings using a specified delimiter character (comma in our case). The reader object can then be converted into a list of lists using the type constructor `list()`."
   ]
  },
  {
   "cell_type": "code",
   "execution_count": 22,
   "metadata": {},
   "outputs": [],
   "source": [
    "import csv\n",
    "with open('Datasets/diabetes.csv') as pima_file:\n",
    "    pima_reader = csv.reader(pima_file, delimiter=',')\n",
    "    lines = list(pima_reader)[1:]"
   ]
  },
  {
   "cell_type": "markdown",
   "metadata": {},
   "source": [
    "Note that we used slicing to get rid of the first line of the file."
   ]
  },
  {
   "cell_type": "code",
   "execution_count": 42,
   "metadata": {},
   "outputs": [
    {
     "data": {
      "text/plain": [
       "['Pregnancies,Glucose,BloodPressure,SkinThickness,Insulin,BMI,DiabetesPedigreeFunction,Age,Outcome\\n',\n",
       " '6,148,72,35,0,33.6,0.627,50,1\\n',\n",
       " '1,85,66,29,0,26.6,0.351,31,0\\n',\n",
       " '8,183,64,0,0,23.3,0.672,32,1\\n',\n",
       " '1,89,66,23,94,28.1,0.167,21,0\\n',\n",
       " '0,137,40,35,168,43.1,2.288,33,1\\n',\n",
       " '5,116,74,0,0,25.6,0.201,30,0\\n',\n",
       " '3,78,50,32,88,31,0.248,26,1\\n',\n",
       " '10,115,0,0,0,35.3,0.134,29,0\\n',\n",
       " '2,197,70,45,543,30.5,0.158,53,1\\n']"
      ]
     },
     "execution_count": 42,
     "metadata": {},
     "output_type": "execute_result"
    }
   ],
   "source": [
    "lines[:10]"
   ]
  },
  {
   "cell_type": "markdown",
   "metadata": {},
   "source": [
    "We can use another list comprehension to extract the element in position 7 in each line (the age column) and then apply the type constructor `float()` to turn it into a float."
   ]
  },
  {
   "cell_type": "code",
   "execution_count": 44,
   "metadata": {},
   "outputs": [
    {
     "ename": "ValueError",
     "evalue": "could not convert string to float: 'c'",
     "output_type": "error",
     "traceback": [
      "\u001b[0;31m---------------------------------------------------------------------------\u001b[0m",
      "\u001b[0;31mValueError\u001b[0m                                Traceback (most recent call last)",
      "\u001b[0;32m<ipython-input-44-142e2e9b91a6>\u001b[0m in \u001b[0;36m<module>\u001b[0;34m()\u001b[0m\n\u001b[0;32m----> 1\u001b[0;31m \u001b[0mages\u001b[0m \u001b[0;34m=\u001b[0m \u001b[0;34m[\u001b[0m\u001b[0mfloat\u001b[0m\u001b[0;34m(\u001b[0m\u001b[0mv\u001b[0m\u001b[0;34m[\u001b[0m\u001b[0;36m7\u001b[0m\u001b[0;34m]\u001b[0m\u001b[0;34m)\u001b[0m \u001b[0;32mfor\u001b[0m \u001b[0mv\u001b[0m \u001b[0;32min\u001b[0m \u001b[0mlines\u001b[0m\u001b[0;34m]\u001b[0m\u001b[0;34m\u001b[0m\u001b[0m\n\u001b[0m\u001b[1;32m      2\u001b[0m \u001b[0mages\u001b[0m\u001b[0;34m\u001b[0m\u001b[0m\n",
      "\u001b[0;32m<ipython-input-44-142e2e9b91a6>\u001b[0m in \u001b[0;36m<listcomp>\u001b[0;34m(.0)\u001b[0m\n\u001b[0;32m----> 1\u001b[0;31m \u001b[0mages\u001b[0m \u001b[0;34m=\u001b[0m \u001b[0;34m[\u001b[0m\u001b[0mfloat\u001b[0m\u001b[0;34m(\u001b[0m\u001b[0mv\u001b[0m\u001b[0;34m[\u001b[0m\u001b[0;36m7\u001b[0m\u001b[0;34m]\u001b[0m\u001b[0;34m)\u001b[0m \u001b[0;32mfor\u001b[0m \u001b[0mv\u001b[0m \u001b[0;32min\u001b[0m \u001b[0mlines\u001b[0m\u001b[0;34m]\u001b[0m\u001b[0;34m\u001b[0m\u001b[0m\n\u001b[0m\u001b[1;32m      2\u001b[0m \u001b[0mages\u001b[0m\u001b[0;34m\u001b[0m\u001b[0m\n",
      "\u001b[0;31mValueError\u001b[0m: could not convert string to float: 'c'"
     ]
    }
   ],
   "source": [
    "ages = [float(v[7]) for v in lines]\n",
    "ages"
   ]
  },
  {
   "cell_type": "markdown",
   "metadata": {},
   "source": [
    "We want to plot a histogram of these ages. We first create the histogram bins using the `range()` type constructor."
   ]
  },
  {
   "cell_type": "code",
   "execution_count": 25,
   "metadata": {},
   "outputs": [
    {
     "data": {
      "text/plain": [
       "[20, 25, 30, 35, 40, 45, 50, 55, 60, 65, 70, 75]"
      ]
     },
     "execution_count": 25,
     "metadata": {},
     "output_type": "execute_result"
    }
   ],
   "source": [
    "age_bins = list(range(20, 80, 5))\n",
    "age_bins"
   ]
  },
  {
   "cell_type": "markdown",
   "metadata": {},
   "source": [
    "In order to plot the histogram, we load the interface `pyplot` of the module `matplotlib` and assign it the conventional name `plt`. Then we construct the histogram with the function `hist()` and print it with the function `show()`.\n",
    "\n",
    "The *magic command* `%matplotlib notebook` provides nice display capabilities for matplotlib in Jupyter notebooks\n",
    "\n",
    "Magic commands are executed by the kernel and allow to perform various tasks."
   ]
  },
  {
   "cell_type": "code",
   "execution_count": 26,
   "metadata": {},
   "outputs": [
    {
     "data": {
      "application/javascript": [
       "/* Put everything inside the global mpl namespace */\n",
       "window.mpl = {};\n",
       "\n",
       "\n",
       "mpl.get_websocket_type = function() {\n",
       "    if (typeof(WebSocket) !== 'undefined') {\n",
       "        return WebSocket;\n",
       "    } else if (typeof(MozWebSocket) !== 'undefined') {\n",
       "        return MozWebSocket;\n",
       "    } else {\n",
       "        alert('Your browser does not have WebSocket support.' +\n",
       "              'Please try Chrome, Safari or Firefox ≥ 6. ' +\n",
       "              'Firefox 4 and 5 are also supported but you ' +\n",
       "              'have to enable WebSockets in about:config.');\n",
       "    };\n",
       "}\n",
       "\n",
       "mpl.figure = function(figure_id, websocket, ondownload, parent_element) {\n",
       "    this.id = figure_id;\n",
       "\n",
       "    this.ws = websocket;\n",
       "\n",
       "    this.supports_binary = (this.ws.binaryType != undefined);\n",
       "\n",
       "    if (!this.supports_binary) {\n",
       "        var warnings = document.getElementById(\"mpl-warnings\");\n",
       "        if (warnings) {\n",
       "            warnings.style.display = 'block';\n",
       "            warnings.textContent = (\n",
       "                \"This browser does not support binary websocket messages. \" +\n",
       "                    \"Performance may be slow.\");\n",
       "        }\n",
       "    }\n",
       "\n",
       "    this.imageObj = new Image();\n",
       "\n",
       "    this.context = undefined;\n",
       "    this.message = undefined;\n",
       "    this.canvas = undefined;\n",
       "    this.rubberband_canvas = undefined;\n",
       "    this.rubberband_context = undefined;\n",
       "    this.format_dropdown = undefined;\n",
       "\n",
       "    this.image_mode = 'full';\n",
       "\n",
       "    this.root = $('<div/>');\n",
       "    this._root_extra_style(this.root)\n",
       "    this.root.attr('style', 'display: inline-block');\n",
       "\n",
       "    $(parent_element).append(this.root);\n",
       "\n",
       "    this._init_header(this);\n",
       "    this._init_canvas(this);\n",
       "    this._init_toolbar(this);\n",
       "\n",
       "    var fig = this;\n",
       "\n",
       "    this.waiting = false;\n",
       "\n",
       "    this.ws.onopen =  function () {\n",
       "            fig.send_message(\"supports_binary\", {value: fig.supports_binary});\n",
       "            fig.send_message(\"send_image_mode\", {});\n",
       "            if (mpl.ratio != 1) {\n",
       "                fig.send_message(\"set_dpi_ratio\", {'dpi_ratio': mpl.ratio});\n",
       "            }\n",
       "            fig.send_message(\"refresh\", {});\n",
       "        }\n",
       "\n",
       "    this.imageObj.onload = function() {\n",
       "            if (fig.image_mode == 'full') {\n",
       "                // Full images could contain transparency (where diff images\n",
       "                // almost always do), so we need to clear the canvas so that\n",
       "                // there is no ghosting.\n",
       "                fig.context.clearRect(0, 0, fig.canvas.width, fig.canvas.height);\n",
       "            }\n",
       "            fig.context.drawImage(fig.imageObj, 0, 0);\n",
       "        };\n",
       "\n",
       "    this.imageObj.onunload = function() {\n",
       "        fig.ws.close();\n",
       "    }\n",
       "\n",
       "    this.ws.onmessage = this._make_on_message_function(this);\n",
       "\n",
       "    this.ondownload = ondownload;\n",
       "}\n",
       "\n",
       "mpl.figure.prototype._init_header = function() {\n",
       "    var titlebar = $(\n",
       "        '<div class=\"ui-dialog-titlebar ui-widget-header ui-corner-all ' +\n",
       "        'ui-helper-clearfix\"/>');\n",
       "    var titletext = $(\n",
       "        '<div class=\"ui-dialog-title\" style=\"width: 100%; ' +\n",
       "        'text-align: center; padding: 3px;\"/>');\n",
       "    titlebar.append(titletext)\n",
       "    this.root.append(titlebar);\n",
       "    this.header = titletext[0];\n",
       "}\n",
       "\n",
       "\n",
       "\n",
       "mpl.figure.prototype._canvas_extra_style = function(canvas_div) {\n",
       "\n",
       "}\n",
       "\n",
       "\n",
       "mpl.figure.prototype._root_extra_style = function(canvas_div) {\n",
       "\n",
       "}\n",
       "\n",
       "mpl.figure.prototype._init_canvas = function() {\n",
       "    var fig = this;\n",
       "\n",
       "    var canvas_div = $('<div/>');\n",
       "\n",
       "    canvas_div.attr('style', 'position: relative; clear: both; outline: 0');\n",
       "\n",
       "    function canvas_keyboard_event(event) {\n",
       "        return fig.key_event(event, event['data']);\n",
       "    }\n",
       "\n",
       "    canvas_div.keydown('key_press', canvas_keyboard_event);\n",
       "    canvas_div.keyup('key_release', canvas_keyboard_event);\n",
       "    this.canvas_div = canvas_div\n",
       "    this._canvas_extra_style(canvas_div)\n",
       "    this.root.append(canvas_div);\n",
       "\n",
       "    var canvas = $('<canvas/>');\n",
       "    canvas.addClass('mpl-canvas');\n",
       "    canvas.attr('style', \"left: 0; top: 0; z-index: 0; outline: 0\")\n",
       "\n",
       "    this.canvas = canvas[0];\n",
       "    this.context = canvas[0].getContext(\"2d\");\n",
       "\n",
       "    var backingStore = this.context.backingStorePixelRatio ||\n",
       "\tthis.context.webkitBackingStorePixelRatio ||\n",
       "\tthis.context.mozBackingStorePixelRatio ||\n",
       "\tthis.context.msBackingStorePixelRatio ||\n",
       "\tthis.context.oBackingStorePixelRatio ||\n",
       "\tthis.context.backingStorePixelRatio || 1;\n",
       "\n",
       "    mpl.ratio = (window.devicePixelRatio || 1) / backingStore;\n",
       "\n",
       "    var rubberband = $('<canvas/>');\n",
       "    rubberband.attr('style', \"position: absolute; left: 0; top: 0; z-index: 1;\")\n",
       "\n",
       "    var pass_mouse_events = true;\n",
       "\n",
       "    canvas_div.resizable({\n",
       "        start: function(event, ui) {\n",
       "            pass_mouse_events = false;\n",
       "        },\n",
       "        resize: function(event, ui) {\n",
       "            fig.request_resize(ui.size.width, ui.size.height);\n",
       "        },\n",
       "        stop: function(event, ui) {\n",
       "            pass_mouse_events = true;\n",
       "            fig.request_resize(ui.size.width, ui.size.height);\n",
       "        },\n",
       "    });\n",
       "\n",
       "    function mouse_event_fn(event) {\n",
       "        if (pass_mouse_events)\n",
       "            return fig.mouse_event(event, event['data']);\n",
       "    }\n",
       "\n",
       "    rubberband.mousedown('button_press', mouse_event_fn);\n",
       "    rubberband.mouseup('button_release', mouse_event_fn);\n",
       "    // Throttle sequential mouse events to 1 every 20ms.\n",
       "    rubberband.mousemove('motion_notify', mouse_event_fn);\n",
       "\n",
       "    rubberband.mouseenter('figure_enter', mouse_event_fn);\n",
       "    rubberband.mouseleave('figure_leave', mouse_event_fn);\n",
       "\n",
       "    canvas_div.on(\"wheel\", function (event) {\n",
       "        event = event.originalEvent;\n",
       "        event['data'] = 'scroll'\n",
       "        if (event.deltaY < 0) {\n",
       "            event.step = 1;\n",
       "        } else {\n",
       "            event.step = -1;\n",
       "        }\n",
       "        mouse_event_fn(event);\n",
       "    });\n",
       "\n",
       "    canvas_div.append(canvas);\n",
       "    canvas_div.append(rubberband);\n",
       "\n",
       "    this.rubberband = rubberband;\n",
       "    this.rubberband_canvas = rubberband[0];\n",
       "    this.rubberband_context = rubberband[0].getContext(\"2d\");\n",
       "    this.rubberband_context.strokeStyle = \"#000000\";\n",
       "\n",
       "    this._resize_canvas = function(width, height) {\n",
       "        // Keep the size of the canvas, canvas container, and rubber band\n",
       "        // canvas in synch.\n",
       "        canvas_div.css('width', width)\n",
       "        canvas_div.css('height', height)\n",
       "\n",
       "        canvas.attr('width', width * mpl.ratio);\n",
       "        canvas.attr('height', height * mpl.ratio);\n",
       "        canvas.attr('style', 'width: ' + width + 'px; height: ' + height + 'px;');\n",
       "\n",
       "        rubberband.attr('width', width);\n",
       "        rubberband.attr('height', height);\n",
       "    }\n",
       "\n",
       "    // Set the figure to an initial 600x600px, this will subsequently be updated\n",
       "    // upon first draw.\n",
       "    this._resize_canvas(600, 600);\n",
       "\n",
       "    // Disable right mouse context menu.\n",
       "    $(this.rubberband_canvas).bind(\"contextmenu\",function(e){\n",
       "        return false;\n",
       "    });\n",
       "\n",
       "    function set_focus () {\n",
       "        canvas.focus();\n",
       "        canvas_div.focus();\n",
       "    }\n",
       "\n",
       "    window.setTimeout(set_focus, 100);\n",
       "}\n",
       "\n",
       "mpl.figure.prototype._init_toolbar = function() {\n",
       "    var fig = this;\n",
       "\n",
       "    var nav_element = $('<div/>')\n",
       "    nav_element.attr('style', 'width: 100%');\n",
       "    this.root.append(nav_element);\n",
       "\n",
       "    // Define a callback function for later on.\n",
       "    function toolbar_event(event) {\n",
       "        return fig.toolbar_button_onclick(event['data']);\n",
       "    }\n",
       "    function toolbar_mouse_event(event) {\n",
       "        return fig.toolbar_button_onmouseover(event['data']);\n",
       "    }\n",
       "\n",
       "    for(var toolbar_ind in mpl.toolbar_items) {\n",
       "        var name = mpl.toolbar_items[toolbar_ind][0];\n",
       "        var tooltip = mpl.toolbar_items[toolbar_ind][1];\n",
       "        var image = mpl.toolbar_items[toolbar_ind][2];\n",
       "        var method_name = mpl.toolbar_items[toolbar_ind][3];\n",
       "\n",
       "        if (!name) {\n",
       "            // put a spacer in here.\n",
       "            continue;\n",
       "        }\n",
       "        var button = $('<button/>');\n",
       "        button.addClass('ui-button ui-widget ui-state-default ui-corner-all ' +\n",
       "                        'ui-button-icon-only');\n",
       "        button.attr('role', 'button');\n",
       "        button.attr('aria-disabled', 'false');\n",
       "        button.click(method_name, toolbar_event);\n",
       "        button.mouseover(tooltip, toolbar_mouse_event);\n",
       "\n",
       "        var icon_img = $('<span/>');\n",
       "        icon_img.addClass('ui-button-icon-primary ui-icon');\n",
       "        icon_img.addClass(image);\n",
       "        icon_img.addClass('ui-corner-all');\n",
       "\n",
       "        var tooltip_span = $('<span/>');\n",
       "        tooltip_span.addClass('ui-button-text');\n",
       "        tooltip_span.html(tooltip);\n",
       "\n",
       "        button.append(icon_img);\n",
       "        button.append(tooltip_span);\n",
       "\n",
       "        nav_element.append(button);\n",
       "    }\n",
       "\n",
       "    var fmt_picker_span = $('<span/>');\n",
       "\n",
       "    var fmt_picker = $('<select/>');\n",
       "    fmt_picker.addClass('mpl-toolbar-option ui-widget ui-widget-content');\n",
       "    fmt_picker_span.append(fmt_picker);\n",
       "    nav_element.append(fmt_picker_span);\n",
       "    this.format_dropdown = fmt_picker[0];\n",
       "\n",
       "    for (var ind in mpl.extensions) {\n",
       "        var fmt = mpl.extensions[ind];\n",
       "        var option = $(\n",
       "            '<option/>', {selected: fmt === mpl.default_extension}).html(fmt);\n",
       "        fmt_picker.append(option)\n",
       "    }\n",
       "\n",
       "    // Add hover states to the ui-buttons\n",
       "    $( \".ui-button\" ).hover(\n",
       "        function() { $(this).addClass(\"ui-state-hover\");},\n",
       "        function() { $(this).removeClass(\"ui-state-hover\");}\n",
       "    );\n",
       "\n",
       "    var status_bar = $('<span class=\"mpl-message\"/>');\n",
       "    nav_element.append(status_bar);\n",
       "    this.message = status_bar[0];\n",
       "}\n",
       "\n",
       "mpl.figure.prototype.request_resize = function(x_pixels, y_pixels) {\n",
       "    // Request matplotlib to resize the figure. Matplotlib will then trigger a resize in the client,\n",
       "    // which will in turn request a refresh of the image.\n",
       "    this.send_message('resize', {'width': x_pixels, 'height': y_pixels});\n",
       "}\n",
       "\n",
       "mpl.figure.prototype.send_message = function(type, properties) {\n",
       "    properties['type'] = type;\n",
       "    properties['figure_id'] = this.id;\n",
       "    this.ws.send(JSON.stringify(properties));\n",
       "}\n",
       "\n",
       "mpl.figure.prototype.send_draw_message = function() {\n",
       "    if (!this.waiting) {\n",
       "        this.waiting = true;\n",
       "        this.ws.send(JSON.stringify({type: \"draw\", figure_id: this.id}));\n",
       "    }\n",
       "}\n",
       "\n",
       "\n",
       "mpl.figure.prototype.handle_save = function(fig, msg) {\n",
       "    var format_dropdown = fig.format_dropdown;\n",
       "    var format = format_dropdown.options[format_dropdown.selectedIndex].value;\n",
       "    fig.ondownload(fig, format);\n",
       "}\n",
       "\n",
       "\n",
       "mpl.figure.prototype.handle_resize = function(fig, msg) {\n",
       "    var size = msg['size'];\n",
       "    if (size[0] != fig.canvas.width || size[1] != fig.canvas.height) {\n",
       "        fig._resize_canvas(size[0], size[1]);\n",
       "        fig.send_message(\"refresh\", {});\n",
       "    };\n",
       "}\n",
       "\n",
       "mpl.figure.prototype.handle_rubberband = function(fig, msg) {\n",
       "    var x0 = msg['x0'] / mpl.ratio;\n",
       "    var y0 = (fig.canvas.height - msg['y0']) / mpl.ratio;\n",
       "    var x1 = msg['x1'] / mpl.ratio;\n",
       "    var y1 = (fig.canvas.height - msg['y1']) / mpl.ratio;\n",
       "    x0 = Math.floor(x0) + 0.5;\n",
       "    y0 = Math.floor(y0) + 0.5;\n",
       "    x1 = Math.floor(x1) + 0.5;\n",
       "    y1 = Math.floor(y1) + 0.5;\n",
       "    var min_x = Math.min(x0, x1);\n",
       "    var min_y = Math.min(y0, y1);\n",
       "    var width = Math.abs(x1 - x0);\n",
       "    var height = Math.abs(y1 - y0);\n",
       "\n",
       "    fig.rubberband_context.clearRect(\n",
       "        0, 0, fig.canvas.width, fig.canvas.height);\n",
       "\n",
       "    fig.rubberband_context.strokeRect(min_x, min_y, width, height);\n",
       "}\n",
       "\n",
       "mpl.figure.prototype.handle_figure_label = function(fig, msg) {\n",
       "    // Updates the figure title.\n",
       "    fig.header.textContent = msg['label'];\n",
       "}\n",
       "\n",
       "mpl.figure.prototype.handle_cursor = function(fig, msg) {\n",
       "    var cursor = msg['cursor'];\n",
       "    switch(cursor)\n",
       "    {\n",
       "    case 0:\n",
       "        cursor = 'pointer';\n",
       "        break;\n",
       "    case 1:\n",
       "        cursor = 'default';\n",
       "        break;\n",
       "    case 2:\n",
       "        cursor = 'crosshair';\n",
       "        break;\n",
       "    case 3:\n",
       "        cursor = 'move';\n",
       "        break;\n",
       "    }\n",
       "    fig.rubberband_canvas.style.cursor = cursor;\n",
       "}\n",
       "\n",
       "mpl.figure.prototype.handle_message = function(fig, msg) {\n",
       "    fig.message.textContent = msg['message'];\n",
       "}\n",
       "\n",
       "mpl.figure.prototype.handle_draw = function(fig, msg) {\n",
       "    // Request the server to send over a new figure.\n",
       "    fig.send_draw_message();\n",
       "}\n",
       "\n",
       "mpl.figure.prototype.handle_image_mode = function(fig, msg) {\n",
       "    fig.image_mode = msg['mode'];\n",
       "}\n",
       "\n",
       "mpl.figure.prototype.updated_canvas_event = function() {\n",
       "    // Called whenever the canvas gets updated.\n",
       "    this.send_message(\"ack\", {});\n",
       "}\n",
       "\n",
       "// A function to construct a web socket function for onmessage handling.\n",
       "// Called in the figure constructor.\n",
       "mpl.figure.prototype._make_on_message_function = function(fig) {\n",
       "    return function socket_on_message(evt) {\n",
       "        if (evt.data instanceof Blob) {\n",
       "            /* FIXME: We get \"Resource interpreted as Image but\n",
       "             * transferred with MIME type text/plain:\" errors on\n",
       "             * Chrome.  But how to set the MIME type?  It doesn't seem\n",
       "             * to be part of the websocket stream */\n",
       "            evt.data.type = \"image/png\";\n",
       "\n",
       "            /* Free the memory for the previous frames */\n",
       "            if (fig.imageObj.src) {\n",
       "                (window.URL || window.webkitURL).revokeObjectURL(\n",
       "                    fig.imageObj.src);\n",
       "            }\n",
       "\n",
       "            fig.imageObj.src = (window.URL || window.webkitURL).createObjectURL(\n",
       "                evt.data);\n",
       "            fig.updated_canvas_event();\n",
       "            fig.waiting = false;\n",
       "            return;\n",
       "        }\n",
       "        else if (typeof evt.data === 'string' && evt.data.slice(0, 21) == \"data:image/png;base64\") {\n",
       "            fig.imageObj.src = evt.data;\n",
       "            fig.updated_canvas_event();\n",
       "            fig.waiting = false;\n",
       "            return;\n",
       "        }\n",
       "\n",
       "        var msg = JSON.parse(evt.data);\n",
       "        var msg_type = msg['type'];\n",
       "\n",
       "        // Call the  \"handle_{type}\" callback, which takes\n",
       "        // the figure and JSON message as its only arguments.\n",
       "        try {\n",
       "            var callback = fig[\"handle_\" + msg_type];\n",
       "        } catch (e) {\n",
       "            console.log(\"No handler for the '\" + msg_type + \"' message type: \", msg);\n",
       "            return;\n",
       "        }\n",
       "\n",
       "        if (callback) {\n",
       "            try {\n",
       "                // console.log(\"Handling '\" + msg_type + \"' message: \", msg);\n",
       "                callback(fig, msg);\n",
       "            } catch (e) {\n",
       "                console.log(\"Exception inside the 'handler_\" + msg_type + \"' callback:\", e, e.stack, msg);\n",
       "            }\n",
       "        }\n",
       "    };\n",
       "}\n",
       "\n",
       "// from http://stackoverflow.com/questions/1114465/getting-mouse-location-in-canvas\n",
       "mpl.findpos = function(e) {\n",
       "    //this section is from http://www.quirksmode.org/js/events_properties.html\n",
       "    var targ;\n",
       "    if (!e)\n",
       "        e = window.event;\n",
       "    if (e.target)\n",
       "        targ = e.target;\n",
       "    else if (e.srcElement)\n",
       "        targ = e.srcElement;\n",
       "    if (targ.nodeType == 3) // defeat Safari bug\n",
       "        targ = targ.parentNode;\n",
       "\n",
       "    // jQuery normalizes the pageX and pageY\n",
       "    // pageX,Y are the mouse positions relative to the document\n",
       "    // offset() returns the position of the element relative to the document\n",
       "    var x = e.pageX - $(targ).offset().left;\n",
       "    var y = e.pageY - $(targ).offset().top;\n",
       "\n",
       "    return {\"x\": x, \"y\": y};\n",
       "};\n",
       "\n",
       "/*\n",
       " * return a copy of an object with only non-object keys\n",
       " * we need this to avoid circular references\n",
       " * http://stackoverflow.com/a/24161582/3208463\n",
       " */\n",
       "function simpleKeys (original) {\n",
       "  return Object.keys(original).reduce(function (obj, key) {\n",
       "    if (typeof original[key] !== 'object')\n",
       "        obj[key] = original[key]\n",
       "    return obj;\n",
       "  }, {});\n",
       "}\n",
       "\n",
       "mpl.figure.prototype.mouse_event = function(event, name) {\n",
       "    var canvas_pos = mpl.findpos(event)\n",
       "\n",
       "    if (name === 'button_press')\n",
       "    {\n",
       "        this.canvas.focus();\n",
       "        this.canvas_div.focus();\n",
       "    }\n",
       "\n",
       "    var x = canvas_pos.x * mpl.ratio;\n",
       "    var y = canvas_pos.y * mpl.ratio;\n",
       "\n",
       "    this.send_message(name, {x: x, y: y, button: event.button,\n",
       "                             step: event.step,\n",
       "                             guiEvent: simpleKeys(event)});\n",
       "\n",
       "    /* This prevents the web browser from automatically changing to\n",
       "     * the text insertion cursor when the button is pressed.  We want\n",
       "     * to control all of the cursor setting manually through the\n",
       "     * 'cursor' event from matplotlib */\n",
       "    event.preventDefault();\n",
       "    return false;\n",
       "}\n",
       "\n",
       "mpl.figure.prototype._key_event_extra = function(event, name) {\n",
       "    // Handle any extra behaviour associated with a key event\n",
       "}\n",
       "\n",
       "mpl.figure.prototype.key_event = function(event, name) {\n",
       "\n",
       "    // Prevent repeat events\n",
       "    if (name == 'key_press')\n",
       "    {\n",
       "        if (event.which === this._key)\n",
       "            return;\n",
       "        else\n",
       "            this._key = event.which;\n",
       "    }\n",
       "    if (name == 'key_release')\n",
       "        this._key = null;\n",
       "\n",
       "    var value = '';\n",
       "    if (event.ctrlKey && event.which != 17)\n",
       "        value += \"ctrl+\";\n",
       "    if (event.altKey && event.which != 18)\n",
       "        value += \"alt+\";\n",
       "    if (event.shiftKey && event.which != 16)\n",
       "        value += \"shift+\";\n",
       "\n",
       "    value += 'k';\n",
       "    value += event.which.toString();\n",
       "\n",
       "    this._key_event_extra(event, name);\n",
       "\n",
       "    this.send_message(name, {key: value,\n",
       "                             guiEvent: simpleKeys(event)});\n",
       "    return false;\n",
       "}\n",
       "\n",
       "mpl.figure.prototype.toolbar_button_onclick = function(name) {\n",
       "    if (name == 'download') {\n",
       "        this.handle_save(this, null);\n",
       "    } else {\n",
       "        this.send_message(\"toolbar_button\", {name: name});\n",
       "    }\n",
       "};\n",
       "\n",
       "mpl.figure.prototype.toolbar_button_onmouseover = function(tooltip) {\n",
       "    this.message.textContent = tooltip;\n",
       "};\n",
       "mpl.toolbar_items = [[\"Home\", \"Reset original view\", \"fa fa-home icon-home\", \"home\"], [\"Back\", \"Back to  previous view\", \"fa fa-arrow-left icon-arrow-left\", \"back\"], [\"Forward\", \"Forward to next view\", \"fa fa-arrow-right icon-arrow-right\", \"forward\"], [\"\", \"\", \"\", \"\"], [\"Pan\", \"Pan axes with left mouse, zoom with right\", \"fa fa-arrows icon-move\", \"pan\"], [\"Zoom\", \"Zoom to rectangle\", \"fa fa-square-o icon-check-empty\", \"zoom\"], [\"\", \"\", \"\", \"\"], [\"Download\", \"Download plot\", \"fa fa-floppy-o icon-save\", \"download\"]];\n",
       "\n",
       "mpl.extensions = [\"eps\", \"jpeg\", \"pdf\", \"png\", \"ps\", \"raw\", \"svg\", \"tif\"];\n",
       "\n",
       "mpl.default_extension = \"png\";var comm_websocket_adapter = function(comm) {\n",
       "    // Create a \"websocket\"-like object which calls the given IPython comm\n",
       "    // object with the appropriate methods. Currently this is a non binary\n",
       "    // socket, so there is still some room for performance tuning.\n",
       "    var ws = {};\n",
       "\n",
       "    ws.close = function() {\n",
       "        comm.close()\n",
       "    };\n",
       "    ws.send = function(m) {\n",
       "        //console.log('sending', m);\n",
       "        comm.send(m);\n",
       "    };\n",
       "    // Register the callback with on_msg.\n",
       "    comm.on_msg(function(msg) {\n",
       "        //console.log('receiving', msg['content']['data'], msg);\n",
       "        // Pass the mpl event to the overridden (by mpl) onmessage function.\n",
       "        ws.onmessage(msg['content']['data'])\n",
       "    });\n",
       "    return ws;\n",
       "}\n",
       "\n",
       "mpl.mpl_figure_comm = function(comm, msg) {\n",
       "    // This is the function which gets called when the mpl process\n",
       "    // starts-up an IPython Comm through the \"matplotlib\" channel.\n",
       "\n",
       "    var id = msg.content.data.id;\n",
       "    // Get hold of the div created by the display call when the Comm\n",
       "    // socket was opened in Python.\n",
       "    var element = $(\"#\" + id);\n",
       "    var ws_proxy = comm_websocket_adapter(comm)\n",
       "\n",
       "    function ondownload(figure, format) {\n",
       "        window.open(figure.imageObj.src);\n",
       "    }\n",
       "\n",
       "    var fig = new mpl.figure(id, ws_proxy,\n",
       "                           ondownload,\n",
       "                           element.get(0));\n",
       "\n",
       "    // Call onopen now - mpl needs it, as it is assuming we've passed it a real\n",
       "    // web socket which is closed, not our websocket->open comm proxy.\n",
       "    ws_proxy.onopen();\n",
       "\n",
       "    fig.parent_element = element.get(0);\n",
       "    fig.cell_info = mpl.find_output_cell(\"<div id='\" + id + \"'></div>\");\n",
       "    if (!fig.cell_info) {\n",
       "        console.error(\"Failed to find cell for figure\", id, fig);\n",
       "        return;\n",
       "    }\n",
       "\n",
       "    var output_index = fig.cell_info[2]\n",
       "    var cell = fig.cell_info[0];\n",
       "\n",
       "};\n",
       "\n",
       "mpl.figure.prototype.handle_close = function(fig, msg) {\n",
       "    var width = fig.canvas.width/mpl.ratio\n",
       "    fig.root.unbind('remove')\n",
       "\n",
       "    // Update the output cell to use the data from the current canvas.\n",
       "    fig.push_to_output();\n",
       "    var dataURL = fig.canvas.toDataURL();\n",
       "    // Re-enable the keyboard manager in IPython - without this line, in FF,\n",
       "    // the notebook keyboard shortcuts fail.\n",
       "    IPython.keyboard_manager.enable()\n",
       "    $(fig.parent_element).html('<img src=\"' + dataURL + '\" width=\"' + width + '\">');\n",
       "    fig.close_ws(fig, msg);\n",
       "}\n",
       "\n",
       "mpl.figure.prototype.close_ws = function(fig, msg){\n",
       "    fig.send_message('closing', msg);\n",
       "    // fig.ws.close()\n",
       "}\n",
       "\n",
       "mpl.figure.prototype.push_to_output = function(remove_interactive) {\n",
       "    // Turn the data on the canvas into data in the output cell.\n",
       "    var width = this.canvas.width/mpl.ratio\n",
       "    var dataURL = this.canvas.toDataURL();\n",
       "    this.cell_info[1]['text/html'] = '<img src=\"' + dataURL + '\" width=\"' + width + '\">';\n",
       "}\n",
       "\n",
       "mpl.figure.prototype.updated_canvas_event = function() {\n",
       "    // Tell IPython that the notebook contents must change.\n",
       "    IPython.notebook.set_dirty(true);\n",
       "    this.send_message(\"ack\", {});\n",
       "    var fig = this;\n",
       "    // Wait a second, then push the new image to the DOM so\n",
       "    // that it is saved nicely (might be nice to debounce this).\n",
       "    setTimeout(function () { fig.push_to_output() }, 1000);\n",
       "}\n",
       "\n",
       "mpl.figure.prototype._init_toolbar = function() {\n",
       "    var fig = this;\n",
       "\n",
       "    var nav_element = $('<div/>')\n",
       "    nav_element.attr('style', 'width: 100%');\n",
       "    this.root.append(nav_element);\n",
       "\n",
       "    // Define a callback function for later on.\n",
       "    function toolbar_event(event) {\n",
       "        return fig.toolbar_button_onclick(event['data']);\n",
       "    }\n",
       "    function toolbar_mouse_event(event) {\n",
       "        return fig.toolbar_button_onmouseover(event['data']);\n",
       "    }\n",
       "\n",
       "    for(var toolbar_ind in mpl.toolbar_items){\n",
       "        var name = mpl.toolbar_items[toolbar_ind][0];\n",
       "        var tooltip = mpl.toolbar_items[toolbar_ind][1];\n",
       "        var image = mpl.toolbar_items[toolbar_ind][2];\n",
       "        var method_name = mpl.toolbar_items[toolbar_ind][3];\n",
       "\n",
       "        if (!name) { continue; };\n",
       "\n",
       "        var button = $('<button class=\"btn btn-default\" href=\"#\" title=\"' + name + '\"><i class=\"fa ' + image + ' fa-lg\"></i></button>');\n",
       "        button.click(method_name, toolbar_event);\n",
       "        button.mouseover(tooltip, toolbar_mouse_event);\n",
       "        nav_element.append(button);\n",
       "    }\n",
       "\n",
       "    // Add the status bar.\n",
       "    var status_bar = $('<span class=\"mpl-message\" style=\"text-align:right; float: right;\"/>');\n",
       "    nav_element.append(status_bar);\n",
       "    this.message = status_bar[0];\n",
       "\n",
       "    // Add the close button to the window.\n",
       "    var buttongrp = $('<div class=\"btn-group inline pull-right\"></div>');\n",
       "    var button = $('<button class=\"btn btn-mini btn-primary\" href=\"#\" title=\"Stop Interaction\"><i class=\"fa fa-power-off icon-remove icon-large\"></i></button>');\n",
       "    button.click(function (evt) { fig.handle_close(fig, {}); } );\n",
       "    button.mouseover('Stop Interaction', toolbar_mouse_event);\n",
       "    buttongrp.append(button);\n",
       "    var titlebar = this.root.find($('.ui-dialog-titlebar'));\n",
       "    titlebar.prepend(buttongrp);\n",
       "}\n",
       "\n",
       "mpl.figure.prototype._root_extra_style = function(el){\n",
       "    var fig = this\n",
       "    el.on(\"remove\", function(){\n",
       "\tfig.close_ws(fig, {});\n",
       "    });\n",
       "}\n",
       "\n",
       "mpl.figure.prototype._canvas_extra_style = function(el){\n",
       "    // this is important to make the div 'focusable\n",
       "    el.attr('tabindex', 0)\n",
       "    // reach out to IPython and tell the keyboard manager to turn it's self\n",
       "    // off when our div gets focus\n",
       "\n",
       "    // location in version 3\n",
       "    if (IPython.notebook.keyboard_manager) {\n",
       "        IPython.notebook.keyboard_manager.register_events(el);\n",
       "    }\n",
       "    else {\n",
       "        // location in version 2\n",
       "        IPython.keyboard_manager.register_events(el);\n",
       "    }\n",
       "\n",
       "}\n",
       "\n",
       "mpl.figure.prototype._key_event_extra = function(event, name) {\n",
       "    var manager = IPython.notebook.keyboard_manager;\n",
       "    if (!manager)\n",
       "        manager = IPython.keyboard_manager;\n",
       "\n",
       "    // Check for shift+enter\n",
       "    if (event.shiftKey && event.which == 13) {\n",
       "        this.canvas_div.blur();\n",
       "        event.shiftKey = false;\n",
       "        // Send a \"J\" for go to next cell\n",
       "        event.which = 74;\n",
       "        event.keyCode = 74;\n",
       "        manager.command_mode();\n",
       "        manager.handle_keydown(event);\n",
       "    }\n",
       "}\n",
       "\n",
       "mpl.figure.prototype.handle_save = function(fig, msg) {\n",
       "    fig.ondownload(fig, null);\n",
       "}\n",
       "\n",
       "\n",
       "mpl.find_output_cell = function(html_output) {\n",
       "    // Return the cell and output element which can be found *uniquely* in the notebook.\n",
       "    // Note - this is a bit hacky, but it is done because the \"notebook_saving.Notebook\"\n",
       "    // IPython event is triggered only after the cells have been serialised, which for\n",
       "    // our purposes (turning an active figure into a static one), is too late.\n",
       "    var cells = IPython.notebook.get_cells();\n",
       "    var ncells = cells.length;\n",
       "    for (var i=0; i<ncells; i++) {\n",
       "        var cell = cells[i];\n",
       "        if (cell.cell_type === 'code'){\n",
       "            for (var j=0; j<cell.output_area.outputs.length; j++) {\n",
       "                var data = cell.output_area.outputs[j];\n",
       "                if (data.data) {\n",
       "                    // IPython >= 3 moved mimebundle to data attribute of output\n",
       "                    data = data.data;\n",
       "                }\n",
       "                if (data['text/html'] == html_output) {\n",
       "                    return [cell, data, j];\n",
       "                }\n",
       "            }\n",
       "        }\n",
       "    }\n",
       "}\n",
       "\n",
       "// Register the function which deals with the matplotlib target/channel.\n",
       "// The kernel may be null if the page has been refreshed.\n",
       "if (IPython.notebook.kernel != null) {\n",
       "    IPython.notebook.kernel.comm_manager.register_target('matplotlib', mpl.mpl_figure_comm);\n",
       "}\n"
      ],
      "text/plain": [
       "<IPython.core.display.Javascript object>"
      ]
     },
     "metadata": {},
     "output_type": "display_data"
    },
    {
     "data": {
      "text/html": [
       "<img src=\"data:image/png;base64,iVBORw0KGgoAAAANSUhEUgAABQAAAAPACAYAAABq3NR5AAAgAElEQVR4Xuzde8wtVX0H/AVSuZhaQdByrQRRLmkrCgSqQgSqyCWmIima1BuCCEaNCrwUi22gFFGjjSKKlWIaIQq1iUFUjFpRCx6IJlYBERCkCgGsFbkYe5A3M+/LKXjOzH5m9ppn5rfmsxP+4OyZNWt9fr+sZH2z97M3euSRRx5JXgQIECBAgAABAgQIECBAgAABAgQIFCmwkQCwyLpaFAECBAgQIECAAAECBAgQIECAAIFaQACoEQgQIECAAAECBAgQIECAAAECBAgULCAALLi4lkaAAAECBAgQIECAAAECBAgQIEBAAKgHCBAgQIAAAQIECBAgQIAAAQIECBQsIAAsuLiWRoAAAQIECBAgQIAAAQIECBAgQEAAqAcIECBAgAABAgQIECBAgAABAgQIFCwgACy4uJZGgAABAgQIECBAgAABAgQIECBAQACoBwgQIECAAAECBAgQIECAAAECBAgULCAALLi4lkaAAAECBAgQIECAAAECBAgQIEBAAKgHCBAgQIAAAQIECBAgQIAAAQIECBQsIAAsuLiWRoAAAQIECBAgQIAAAQIECBAgQEAAqAcIECBAgAABAgQIECBAgAABAgQIFCwgACy4uJZGgAABAgQIECBAgAABAgQIECBAQACoBwgQIECAAAECBAgQIECAAAECBAgULCAALLi4lkaAAAECBAgQIECAAAECBAgQIEBAAKgHCBAgQIAAAQIECBAgQIAAAQIECBQsIAAsuLiWRoAAAQIECBAgQIAAAQIECBAgQEAAqAcIECBAgAABAgQIECBAgAABAgQIFCwgACy4uJZGgAABAgQIECBAgAABAgQIECBAQACoBwgQIECAAAECBAgQIECAAAECBAgULCAALLi4lkaAAAECBAgQIECAAAECBAgQIEBAAKgHCBAgQIAAAQIECBAgQIAAAQIECBQsIAAsuLiWRoAAAQIECBAgQIAAAQIECBAgQEAAqAcIECBAgAABAgQIECBAgAABAgQIFCwgACy4uJZGgAABAgQIECBAgAABAgQIECBAQACoBwgQIECAAAECBAgQIECAAAECBAgULCAALLi4lkaAAAECBAgQIECAAAECBAgQIEBAAKgHCBAgQIAAAQIECBAgQIAAAQIECBQsIAAsuLiWRoAAAQIECBAgQIAAAQIECBAgQEAAqAcIECBAgAABAgQIECBAgAABAgQIFCwgACy4uJZGgAABAgQIECBAgAABAgQIECBAQACoBwgQIECAAAECBAgQIECAAAECBAgULCAALLi4lkaAAAECBAgQIECAAAECBAgQIEBAAKgHCBAgQIAAAQIECBAgQIAAAQIECBQsIAAsuLiWRoAAAQIECBAgQIAAAQIECBAgQEAAqAcIECBAgAABAgQIECBAgAABAgQIFCwgACy4uJZGgAABAgQIECBAgAABAgQIECBAQACoBwgQIECAAAECBAgQIECAAAECBAgULCAALLi4lkaAAAECBAgQIECAAAECBAgQIEBAAKgHCBAgQIAAAQIECBAgQIAAAQIECBQsIAAsuLiWRoAAAQIECBAgQIAAAQIECBAgQEAAqAcIECBAgAABAgQIECBAgAABAgQIFCwgACy4uJZGgAABAgQIECBAgAABAgQIECBAQACoBwgQIECAAAECBAgQIECAAAECBAgULCAALLi4lkaAAAECBAgQIECAAAECBAgQIEBAAKgHCBAgQIAAAQIECBAgQIAAAQIECBQsIAAsuLiWRoAAAQIECBAgQIAAAQIECBAgQEAAqAcIECBAgAABAgQIECBAgAABAgQIFCwgACy4uJZGgAABAgQIECBAgAABAgQIECBAQACoBwgQIECAAAECBAgQIECAAAECBAgULCAALLi4lkaAAAECBAgQIECAAAECBAgQIEBAAKgHCBAgQIAAAQIECBAgQIAAAQIECBQsIAAsuLiWRoAAAQIECBAgQIAAAQIECBAgQEAAqAcIECBAgAABAgQIECBAgAABAgQIFCwgACy4uJZGgAABAgQIECBAgAABAgQIECBAQACoBwgQIECAAAECBAgQIECAAAECBAgULCAALLi4lkaAAAECBAgQIECAAAECBAgQIEBAAKgHCBAgQIAAAQIECBAgQIAAAQIECBQsIAAsuLiWRoAAAQIECBAgQIAAAQIECBAgQEAAqAcIECBAgAABAgQIECBAgAABAgQIFCwgACy4uJZGgAABAgQIECBAgAABAgQIECBAQACoBwgQIECAAAECBAgQIECAAAECBAgULCAALLi4lkaAAAECBAgQIECAAAECBAgQIEBAAKgHCBAgQIAAAQIECBAgQIAAAQIECBQsIAAsuLiWRoAAAQIECBAgQIAAAQIECBAgQEAAqAcIECBAgAABAgQIECBAgAABAgQIFCwgACy4uJZGgAABAgQIECBAgAABAgQIECBAQACoBwgQIECAAAECBAgQIECAAAECBAgULCAALLi4lkaAAAECBAgQIECAAAECBAgQIEBAAKgHCBAgQIAAAQIECBAgQIAAAQIECBQsIAAsuLiWRoAAAQIECBAgQIAAAQIECBAgQEAAqAcIECBAgAABAgQIECBAgAABAgQIFCwgACy4uJZGgAABAgQIECBAgAABAgQIECBAQACoBwgQIECAAAECBAgQIECAAAECBAgULCAALLi4lkaAAAECBAgQIECAAAECBAgQIEBAAKgHCBAgQIAAAQIECBAgQIAAAQIECBQsIAAsuLiWRoAAAQIECBAgQIAAAQIECBAgQEAAqAcIECBAgAABAgQIECBAgAABAgQIFCwgACy4uJZGgAABAgQIECBAgAABAgQIECBAQACoBwgQIECAAAECBAgQIECAAAECBAgULCAALLi4lkaAAAECBAgQIECAAAECBAgQIEBAAKgHCBAgQIAAAQIECBAgQIAAAQIECBQsIAAsuLiWRoAAAQIECBAgQIAAAQIECBAgQEAAqAcIECBAgAABAgQIECBAgAABAgQIFCwgACy4uJZGgAABAgQIECBAgAABAgQIECBAQACoBwgQIECAAAECBAgQIECAAAECBAgULCAALLi4lkaAAAECBAgQIECAAAECBAgQIEBAAKgHCBAgQIAAAQIECBAgQIAAAQIECBQsIAAsuLiWRoAAAQIECBAgQIAAAQIECBAgQEAAqAcIECBAgAABAgQIECBAgAABAgQIFCwgACy4uJZGgAABAgQIECBAgAABAgQIECBAQACoBwgQIECAAAECBAgQIECAAAECBAgULCAALLi4lkaAAAECBAgQIECAAAECBAgQIEBAAKgHCBAgQIAAAQIECBAgQIAAAQIECBQsIAAsuLiWRoAAAQIECBAgQIAAAQIECBAgQEAAqAcIECBAgAABAgQIECBAgAABAgQIFCwgACy4uJZGgAABAgQIECBAgAABAgQIECBAQACoBwgQIECAAAECBAgQIECAAAECBAgULCAALLi4lkaAAAECBAgQIECAAAECBAgQIEBAAKgHCBAgQIAAAQIECBAgQIAAAQIECBQsIAAsuLiWRoAAAQIECBAgQIAAAQIECBAgQEAAqAcIECBAgAABAgQIECBAgAABAgQIFCwgACy4uJZGgAABAgQIECBAgAABAgQIECBAQACoBwgQIECAAAECBAgQIECAAAECBAgULCAALLi4lkaAAAECBAgQIECAAAECBAgQIEBAAKgHCBAgQIAAAQIECBAgQIAAAQIECBQsIAAsuLiWRoAAAQIECBAgQIAAAQIECBAgQEAAqAcIECBAgAABAgQIECBAgAABAgQIFCwgACy4uJZGgAABAgQIECBAgAABAgQIECBAQACoBwgQIECAAAECBAgQIECAAAECBAgULCAALLi4lkaAAAECBAgQIECAAAECBAgQIEBAAKgHCBAgQIAAAQIECBAgQIAAAQIECBQsIAAsuLhTXtqvf/3r9J//+Z/1FLfZZpu0ySabTHm65kaAAAECBAgQIECAAAECBEIKrF27Nt1zzz313P/4j/84bbbZZiHXYdLLCQgAl/Nzd0+Ba6+9Nu27774973YbAQIECBAgQIAAAQIECBAg0FVgzZo1aZ999ul6m+sLEBAAFlDEiEsQAEasmjkTIECAAAECBAgQIECAQGQBAWDk6i03dwHgcn7u7ilw2223pZ133rm+u9qAtt12254juY0AAQIECBAgQIAAAQIECBBoErjzzjvXfQPvxz/+cXrGM54Ba4YCAsAZFn0KS/6v//qvtOOOO9ZTueOOO9IOO+wwhWmZAwECBAgQIECAAAECBAgQKErA+buocvZejACwN50blxGwAS2j514CBAgQIECAAAECBAgQILAyAefvlTmVfpUAsPQKT3R9NqCJFsa0CBAgQIAAAQIECBAgQKAoAefvosrZezECwN50blxGwAa0jJ57CRAgQIAAAQIECBAgQIDAygScv1fmVPpVAsDSKzzR9dmAJloY0yJAgAABAgQIECBAgACBogScv4sqZ+/FCAB707lxGQEb0DJ67iVAgAABAgQIECBAgAABAisTcP5emVPpVwkAS6/wRNdnA5poYUyLAAECBAgQIECAAAECBIoScP4uqpy9FyMA7E3nxmUEbEDL6LmXAAECBAgQIECAAAECBAisTMD5e2VOpV8lACy9whNdnw1oooUxLQIECBAgQIAAAQIECBAoSsD5u6hy9l6MALA3nRuXEbABLaPnXgIECBAgQIAAAQIECBAgsDIB5++VOZV+lQCw9ApPdH02oIkWxrQIECBAgAABAgQIECBAoCgB5++iytl7MQLA3nRuXEbABrSMnnsJECBAgAABAgQIECBAgMDKBJy/V+ZU+lUCwNIrPNH12YAmWhjTIkCAAAECBAgQIECAAIGiBJy/iypn78UIAHvTuXEZARvQMnruJUCAAAECBAgQIECAAAECKxNw/l6ZU+lXCQBLr/BE12cDmmhhTIsAAQIECBAgQIAAAQIEihJw/i6qnL0XIwDsTefGZQRsQMvouZcAAQIECBAgQIAAAQIECKxMwPl7ZU6lXyUALL3CE12fDWiihTEtAgQIECBAgAABAgQIEChKwPm7qHL2XowAsDedG5cRsAEto+deAgQIECBAgAABAgQIECCwMgHn75U5lX6VALD0Ck90fTagiRbGtAgQIECAAAECBAgQIECgKAHn76LK2XsxAsDedG5cRsAGtIyeewkQIECAAAECBAgQIECAwMoEnL9X5lT6VQLA0is80fXZgCZaGNMiQIAAAQIECBAgQIAAgaIEnL+LKmfvxQgAe9O5cRkBG9Ayeu4lQIAAAQIECBAgQIAAAQIrE3D+XplT6VcJAEuv8ETXZwOaaGFMiwABAgQIECBAgAABAgSKEnD+LqqcvRcjAOxN58ZlBGxAy+i5lwABAgQIECBAgAABAgQIrEzA+XtlTqVfJQAsvcITXZ8NaKKFMS0CBAgQIECAAAECBAgQKErA+buocvZejACwN50blxGwAS2j514CBAgQIECAAAECBAgQILAyAefvlTmVfpUAsPQKT3R9NqCJFsa0CBAgQIAAAQIECBAgQKAoAefvosrZezECwN50blxGwAa0jJ57CRAgQIAAAQIECBAgQIDAygScv1fmVPpVAsDSKzzR9dmAJloY0yJAgAABAgQIECBAgACBogScv4sqZ+/FCAB707lxGQEb0DJ67iVAgAABAgQIECBAgAABAisTcP5emVPpVwkAS6/wRNdnA5poYUyLAAECBAgQIECAAAECBIoScP4uqpy9FyMA7E3nxmUEbEDL6LmXAAECBAgQIECAAAECBAisTMD5e2VOpV8lACy9whNdnw1oooUxLQIECBAgQIAAAQIECBAoSsD5u6hy9l6MALA3nRuXEYi8AT3j//n8Mkt37/8vcNs5h7MgQIAAAQIECBAgQIAAgYEFIp+/B6aZ1fACwFmVezqLjbwBCQDz9JEAMI+jUQgQIECAAAECBAgQINAmEPn8rbL5BASA+SyN1EEg8gYkAOxQ6JZLBYB5HI1CgAABAgQIECBAgAABAaAeWCQgAFwk5P1BBASAg7CGGlQAGKpcJkuAAAECBAgQIECAQFCByOfvoOSTnLYAcJJlKX9SkTcgnwDM058CwDyORiFAgAABAgQIECBAgECbQOTzt8rmExAA5rM0UgeByBuQALBDoVsuFQDmcTQKAQIECBAgQIAAAQIEBIB6YJGAAHCRkPcHERAADsIaalABYKhymSwBAgQIECBAgAABAkEFIp+/g5JPctoCwEmWpfxJRd6AfAIwT38KAPM4GoUAAQIECBAgQIAAAQJtApHP3yqbT0AAmM/SSB0EIm9AAsAOhW65VACYx9EoBAgQIECAAAECBAgQEADqgUUCAsBFQt4fREAAOAhrqEEFgKHKZbIECBAgQIAAAQIECAQViHz+Dko+yWkLACdZlvInFXkD8gnAPP0pAMzjaBQCBAgQIECAAAECBAi0CUQ+f6tsPgEBYD5LI3UQiLwBCQA7FLrlUgFgHkejECBAgAABAgQIECBAQACoBxYJCAAXCXl/EAEB4CCsoQYVAIYql8kSIECAAAECBAgQIBBUIPL5Oyj5JKctAJxkWcqfVOQNyCcA8/SnADCPo1EIECBAgAABAgQIECDQJhD5/K2y+QQEgPksjdRBIPIGJADsUOiWSwWAeRyNQoAAAQIECBAgQIAAAQGgHlgkIABcJOT9QQQEgIOwhhpUABiqXCZLgAABAgQIECBAgEBQgcjn76Dkk5y2AHCSZSl/UpE3IJ8AzNOfAsA8jkYhQIAAAQIECBAgQIBAm0Dk87fK5hMQAOazNFIHgcgbkACwQ6FbLhUA5nE0CgECBAgQIECAAAECBASAemCRgABwkZD3BxEQAA7CGmpQAWCocpksAQIECBAgQIAAAQJBBSKfv4OST3LaAsBJlqX8SUXegHwCME9/CgDzOBqFAAECBAgQIECAAAECbQKRz98qm09AAJjP0kgdBCJvQALADoVuuVQAmMfRKAQIECBAgAABAgQIEBAA6oFFAgLARULeH0RAADgIa6hBBYChymWyBAgQIECAAAECBAgEFYh8/g5KPslpCwAnWZbyJxV5A/IJwDz9KQDM42gUAgQIECBAgAABAgQItAlEPn+rbD4BAWA+SyN1EIi8AQkAOxS65VIBYB5HoxAgQIAAAQIECBAgQEAAqAcWCQgAFwl5fxABAeAgrKEGFQCGKpfJEiBAgAABAgQIECAQVCDy+Tso+SSnLQCcZFnKn1TkDcgnAPP0pwAwj6NRCBAgQIAAAQIECBAg0CYQ+fytsvkEBID5LI3UQSDyBiQA7FDolksFgHkcjUKAAAECBAgQIECAAAEBoB5YJCAAXCTk/UEEBICDsIYaVAAYqlwmS4AAAQIECBAgQIBAUIHI5++g5JOctgBwkmUpf1KRNyCfAMzTnwLAPI5GIUCAAAECBAgQIECAQJtA5PO3yuYTEADmszRSB4HIG5AAsEOhWy4VAOZxNAoBAgQIECBAgAABAgQEgHpgkYAAcJGQ9wcREAAOwhpqUAFgqHKZLAECBAgQIECAAAECQQUin7+Dkk9y2gLASZal/ElF3oB8AjBPfwoA8zgahQABAgQIECBAgAABAm0Ckc/fKptPQACYz9JIHQQib0ACwA6FbrlUAJjH0SgECBAgQIAAAQIECBAQAOqBRQICwEVC3h9EQAA4CGuoQQWAocplsgQIECBAgAABAgQIBBWIfP4OSj7JaQsAJ1mW8icVeQPyCcA8/SkAzONoFAIECBAgQIAAAQIECLQJRD5/q2w+AQFgPksjdRCIvAEJADsUuuVSAWAeR6MQIECAAAECBAgQIEBAAKgHFgkIABcJeX8QAQHgIKyhBhUAhiqXyRIgQIAAAQIECBAgEFQg8vk7KPkkpy0AnGRZyp9U5A3IJwDz9KcAMI+jUQgQIECAAAECBAgQINAmEPn8rbL5BASA+SyN1EEg8gYkAOxQ6JZLBYB5HI1CgAABAgQIECBAgAABAaAeWCQgAFwk5P1BBASAg7CGGlQAGKpcJkuAAAECBAgQIECAQFCByOfvoOSTnLYAcJJlKX9SkTcgnwDM058CwDyORiFAgAABAgQIECBAgECbQOTzt8rmExAA5rM0UgeByBuQALBDoVsuFQDmcTQKAQIECBAgQIAAAQIEBIB6YJGAAHCRkPcHERAADsIaalABYKhymSwBAgQIECBAgAABAkEFIp+/g5JPctoCwEmWpfxJRd6AfAIwT38KAPM4GoUAAQIECBAgQIAAAQJtApHP3yqbT0AAmM/SSB0EIm9AAsAOhW65VACYx9EoBAgQIECAAAECBAgQEADqgUUCAsBFQt4fREAAOAhrqEEFgKHKZbIECBAgQIAAAQIECAQViHz+Dko+yWkLACdZlvInFXkD8gnAPP0pAMzjaBQCBAgQIECAAAECBAi0CUQ+f6tsPgEBYD5LI3UQiLwBCQA7FLrlUgFgHkejECBAgAABAgQIECBAQACoBxYJCAAXCXl/EAEB4CCsoQYVAIYql8kSIECAAAECBAgQIBBUIPL5Oyj5JKctAJxkWcqfVOQNyCcA8/SnADCPo1EIECBAgAABAgQIECDQJhD5/K2y+QQEgPksjdRBIPIGJADsUOiWSwWAeRyNQoAAAQIECBAgQIAAAQGgHlgkIABcJJTp/e985zvpi1/8YvrGN76Rvv/976e77747/d7v/V7abrvt0p/92Z+lY489Nr3whS9c8dOqsS644IK0Zs2adM8996Rtttkm7bvvvun4449Phx566IrGWbt2bfrEJz6RPvWpT6Ubbrgh3X///Wn77bdPhxxySHrLW96S9thjjxWN0+ciAWAftbLuEQCWVU+rIUCAAAECBAgQIEBgmgKRz9/TFI05KwHgKtTtwAMPTFddddXCJ/3VX/1V+qd/+qf0xCc+sfHaRx55JJ1wwgl1+Nf0qkLAj370o2mjjTZqvObnP/95Ovzww9O3v/3tDV6z6aabpo985CPp9a9//cJ597kg8gbkE4B9Kr7+PQLAPI5GIUCAAAECBAgQIECAQJtA5PO3yuYTEADms2wc6ZnPfGa65ZZb6k/7HX300fUn/Xbaaaf08MMPp6uvvjq9//3vTz/96U/r+1/5ylemiy++uHGs008/PZ199tn1+3vttVc65ZRT0i677FKPf+6556bvfve79XvVdWedddYGx6mee9BBB60LJV/+8pen4447Lm211VZ1IFjdV31C8QlPeEL6/Oc/n17ykpdkV4q8AQkA87SDADCPo1EIECBAgAABAgQIECAgANQDiwQEgIuEMrx/xBFHpFe/+tXpqKOOqkO1333de++96fnPf3666aab6reqTwtu6OvAN998c9p9991T9dXdvffeu75u8803Xzfcgw8+mKpPG1533XVpk002STfeeGMdDv7u66KLLkqve93r6n8+8cQT03nnnfe4S6rnPO95z0v33Xdf2nXXXdP1119fj5fzJQDMqRlzLAFgzLqZNQECBAgQIECAAAECsQQin79jSU97tgLAidTn8ssvT0ceeWQ9m+rv7/3jP/7jejM76aST6q/lVq/qk4P77bffetdcc801af/996///c1vfnP60Ic+tN41e+65Zx3qbbnllqnaCLbYYov1rjnnnHPSaaedVv/7ZZddVoeXOV+RNyCfAMzTCQLAPI5GIUCAAAECBAgQIECAQJtA5PO3yuYTEADms1xqpOoHOH7/93+/HqP623xVIPjYV/W3/3bcccf6q8K77bZb/aMdTa/q/R/+8Idphx12SD/5yU8e97cAf/SjH6VnPetZ9a3V3xI8//zzNzjMXXfdlbbddtv6vVe96lX1D4XkfEXegASAeTpBAJjH0SgECBAgQIAAAQIECBAQAOqBRQICwEVCq/T+f//3f6enPvWp9dOqTwJ+7nOfe9yTb7311nVf533jG99Y/8hH06t6/9EfCanu23nnndddeuGFF9a/OFy9LrnkknTMMcc0jvPsZz+7/lpy9fcKb7/99qwSAsCsnCEHEwCGLJtJEyBAgAABAgQIECAQTCDy+TsY9aSnKwCcSHn+7d/+LVU/xlG9Tj755PoHPR77qn6Mo/pbgtXrAx/4QHrb297WOPPq/be//e31+9V9hx122Lprq7Hf97731f9f/WDIc57znMZxXvayl9VBZPVrwr/61a/Sk570pGxakTcgnwDM0wYCwDyORiFAgAABAgQIECBAgECbQOTzt8rmExAA5rPsPdJvf/vb+u/2rVmzph7j2muvrX/k47Gv6hN/b3rTm+p/uvTSS9MrXvGKxudVf7Ov+rXh6lXdV30i8NFX9Ym/T3/60/X/3nPPPWnrrbduHKf6G4KP/kBI9YMi1ScCV/qqNpi215133pn23Xff+pI77rij/rpylJcAME+lBIB5HI1CgAABAgQIECBAgACBNgEBoP6oBASAE+iD97///emd73xnPZO/+Iu/SJ/97GfXm9V73/vedMopp9T//oUvfCEdeuihjTOv3n/0U3/Vp/3e8Y53rLu2+vuCV1xxRf3/Dz30UNpss80axzn11FPXfRKx+mXh6peBV/qqPjW40pcAcKVSZV0nACyrnlZDgAABAgQIECBAgMA0BQSA06zLas9KALja4r/zvK9//evpkEMOSWvXrk1Pe9rT0ve+97309Kc/fb1ZnXnmmemMM86o//0rX/lKOuiggxpn/tWvfjUdfPDB9fvVfe9617vWXVv9e/V+9Xr44YfTxhtv3DhO9bzq/ur1jW98I73gBS9YsZYAcMVUs71QADjb0ls4AQIECBAgQIAAAQKrKCAAXEXsCT9KADhicX7wgx+kF77whekXv/hF2nTTTdOXvvSldOCBB25wRtE+AegrwCM2VpBHCwCDFMo0CRAgQIAAAQIECBAILSAADF2+bLe2cPwAACAASURBVJMXAGaj7DbQj3/84/oTdT/72c/SE57whPrv+lVf/216RfsbgIs0Im9A/gbgouqu7H0B4MqcXEWAAAECBAgQIECAAIFlBCKfv5dZt3sfLyAAHKEjqtCv+uTfrbfeWv/C7kUXXZRe/epXt87k8ssvT0ceeWR9zTK/Alz9rcHqbw5WL78C3K/4AsB+br97lwAwj6NRCBAgQIAAAQIECBAg0CYgANQflYAAcJX74N57762/5nv99dfXT/7whz+cTjrppIWzqMLCXXbZpb6u+lXf6hOBTa/q/QsuuKB+u7pv5513XnfphRdemI499tj6/y+55JJU/Spw06v61d+bbrop7bTTTun2229fOMcuF0TegASAXSrdfK0AMI+jUQgQIECAAAECBAgQINAmEPn8rbL5BASA+SwXjvTLX/6y/vGO73znO/W155xzTqp+aXclr0ceeSTtsMMO9VeGd9ttt3TDDTc03rb77runG2+8MW2//fap+oXdx/4gRxXoVcFe9TrhhBPS+eefv8Fx7rrrrrTtttvW773yla9MF1988UqmueJrIm9AAsAVl7n1QgFgHkejECBAgAABAgQIECBAQACoBxYJCAAXCWV6/8EHH0wvfvGL07e+9a16xNNPPz2dddZZnUY/8cQT1wV2V199ddpvv/3Wu/+aa65J+++/f/3v1fXnnXfeetfssccedYC41VZb1QHhFltssd41VTh52mmn1f/+mc98Jh199NGd5rroYgHgIqHy3xcAll9jKyRAgAABAgQIECBAYHyByOfv8fXKmYEAcBVq+Zvf/Kb++31XXnll/bS3vvWt6YMf/GDnJ1ef3ttzzz3T2rVr0957752uuuqqtPnmm68b56GHHkoHHHBAuu6669Imm2xSf8141113Xe85j/0acPX14+pryI993XLLLem5z31uuu++++qvHVefJqzGy/mKvAH5BGCeThAA5nE0CgECBAgQIECAAAECBNoEIp+/VTafgAAwn2XjSEcddVT67Gc/W79ffQW4Cv8e+7Xc373xiU98YnrWs561wfGqT+VVn86rXnvttVf9FeIqpKtCu/e85z31D3tUr+q6s88+e4NjPPzww/XfIXz004jV/I477ri05ZZbpjVr1qQzzzwz3X333WnjjTdO1Y+PvPSlL82uFHkDEgDmaQcBYB5HoxAgQIAAAQIECBAgQEAAqAcWCQgAFwlleL8t7NvQ8H/0R3+Ubrvttg0++be//W0d1lWf4mt6VT/yUf0ISBXgNb2qHyM57LDD0rXXXrvBS6oQsvpkYPWsIV4CwCFUY40pAIxVL7MlQIAAAQIECBAgQCCmQOTzd0zxac5aALgKdckZAD463SuuuKIO+aoArwrztt5667TPPvvUvxC80k/sVV8l/vjHP17/wEf1NwEfeOCBtN1226WDDz64/ppy9XXjoV6RNyCfAMzTFQLAPI5GIUCAAAECBAgQIECAQJtA5PO3yuYTEADmszRSB4HIG5AAsEOhWy4VAOZxNAoBAgQIECBAgAABAgQEgHpgkYAAcJGQ9wcREAAOwhpqUAFgqHKZLAECBAgQIECAAAECQQUin7+Dkk9y2gLASZal/ElF3oB8AjBPfwoA8zgahQABAgQIECBAgAABAm0Ckc/fKptPQACYz9JIHQQib0ACwA6FbrlUAJjH0SgECBAgQIAAAQIECBAQAOqBRQICwEVC3h9EQAA4CGuoQQWAocplsgQIECBAgAABAgQIBBWIfP4OSj7JaQsAJ1mW8icVeQPyCcA8/SkAzONoFAIECBAgQIAAAQIECLQJRD5/q2w+AQFgPksjdRCIvAEJADsUuuVSAWAeR6MQIECAAAECBAgQIEBAAKgHFgkIABcJeX8QAQHgIKyhBhUAhiqXyRIgQIAAAQIECBAgEFQg8vk7KPkkpy0AnGRZyp9U5A3IJwDz9KcAMI+jUQgQIECAAAECBAgQINAmEPn8rbL5BASA+SyN1EEg8gYkAOxQ6JZLBYB5HI1CgAABAgQIECBAgAABAaAeWCQgAFwk5P1BBASAg7CGGlQAGKpcJkuAAAECBAgQIECAQFCByOfvoOSTnLYAcJJlKX9SkTcgnwDM058CwDyORiFAgAABAgQIECBAgECbQOTzt8rmExAA5rM0UgeByBuQALBDoVsuFQDmcTQKAQIECBAgQIAAAQIEBIB6YJGAAHCRkPcHERAADsIaalABYKhymSwBAgQIECBAgAABAkEFIp+/g5JPctoCwEmWpfxJRd6AfAIwT38KAPM4GoUAAQIECBAgQIAAAQJtApHP3yqbT0AAmM/SSB0EIm9AAsAOhW65VACYx9EoBAgQIECAAAECBAgQEADqgUUCAsBFQt4fREAAOAhrqEEFgKHKZbIECBAgQIAAAQIECAQViHz+Dko+yWkLACdZlvInFXkD8gnAPP0pAMzjaBQCBAgQIECAAAECBAi0CUQ+f6tsPgEBYD5LI3UQiLwBCQA7FLrlUgFgHkejECBAgAABAgQIECBAQACoBxYJCAAXCXl/EAEB4CCsoQYVAIYql8kSIECAAAECBAgQIBBUIPL5Oyj5JKctAJxkWcqfVOQNyCcA8/SnADCPo1EIECBAgAABAgQIECDQJhD5/K2y+QQEgPksjdRBIPIGJADsUOiWSwWAeRyNQoAAAQIECBAgQIAAAQGgHlgkIABcJOT9QQQEgIOwhhpUABiqXCZLgAABAgQIECBAgEBQgcjn76Dkk5y2AHCSZSl/UpE3IJ8AzNOfAsA8jkYhQIAAAQIECBAgQIBAm0Dk87fK5hMQAOazNFIHgcgbkACwQ6FbLhUA5nE0CgECBAgQIECAAAECBASAemCRgABwkZD3BxEQAA7CGmpQAWCocpksAQIECBAgQIAAAQJBBSKfv4OST3LaAsBJlqX8SUXegHwCME9/CgDzOBqFAAECBAgQIECAAAECbQKRz98qm09AAJjP0kgdBCJvQALADoVuuVQAmMfRKAQIECBAgAABAgQIEBAA6oFFAgLARULeH0RAADgIa6hBBYChymWyBAgQIECAAAECBAgEFYh8/g5KPslpCwAnWZbyJxV5A/IJwDz9KQDM42gUAgQIECBAgAABAgQItAlEPn+rbD4BAWA+SyN1EIi8AQkAOxS65VIBYB5HoxAgQIAAAQIECBAgQEAAqAcWCQgAFwl5fxABAeAgrKEGFQCGKpfJEiBAgAABAgQIECAQVCDy+Tso+SSnLQCcZFnKn1TkDcgnAPP0pwAwj6NRCBAgQIAAAQIECBAg0CYQ+fytsvkEBID5LI3UQSDyBiQA7FDolksFgHkcjUKAAAECBAgQIECAAAEBoB5YJCAAXCTk/UEEBICDsIYaVAAYqlwmS4AAAQIECBAgQIBAUIHI5++g5JOctgBwkmUpf1KRNyCfAMzTnwLAPI5GIUCAAAECBAgQIECAQJtA5PO3yuYTEADmszRSB4HIG5AAsEOhWy4VAOZxNAoBAgQIECBAgAABAgQEgHpgkYAAcJGQ9wcREAAOwhpqUAFgqHKZLAECBAgQIECAAAECQQUin7+Dkk9y2gLASZal/ElF3oB8AjBPfwoA8zgahQABAgQIECBAgAABAm0Ckc/fKptPQACYz9JIHQQib0ACwA6FbrlUAJjH0SgECBAgQIAAAQIECBAQAOqBRQICwEVC3h9EQAA4CGuoQQWAocplsgQIECBAgAABAgQIBBWIfP4OSj7JaQsAJ1mW8icVeQPyCcA8/SkAzONoFAIECBAgQIAAAQIECLQJRD5/q2w+AQFgPksjdRCIvAEJADsUuuVSAWAeR6MQIECAAAECBAgQIEBAAKgHFgkIABcJeX8QAQHgIKyhBhUAhiqXyRIgQIAAAQIECBAgEFQg8vk7KPkkpy0AnGRZyp9U5A3IJwDz9KcAMI+jUQgQIECAAAECBAgQINAmEPn8rbL5BASA+SyN1EEg8gYkAOxQ6JZLBYB5HI1CgAABAgQIECBAgAABAaAeWCQgAFwk5P1BBASAg7CGGlQAGKpcJkuAAAECBAgQIECAQFCByOfvoOSTnLYAcJJlKX9SkTcgnwDM058CwDyORiFAgAABAgQIECBAgECbQOTzt8rmExAA5rM0UgeByBuQALBDoVsuFQDmcTQKAQIECBAgQIAAAQIEBIB6YJGAAHCRkPcHERAADsIaalABYKhymSwBAgQIECBAgAABAkEFIp+/g5JPctoCwEmWpfxJRd6AfAIwT38KAPM4GoUAAQIECBAgQIAAAQJtApHP3yqbT0AAmM/SSB0EIm9AAsAOhW65VACYx9EoBAgQIECAAAECBAgQEADqgUUCAsBFQt4fREAAOAhrqEEFgKHKZbIECBAgQIAAAQIECAQViHz+Dko+yWkLACdZlvInFXkD8gnAPP0pAMzjaBQCBAgQIECAAAECBAi0CUQ+f6tsPgEBYD5LI3UQiLwBCQA7FLrlUgFgHkejECBAgAABAgQIECBAQACoBxYJCAAXCXl/EAEB4CCsoQYVAIYql8kSIECAAAECBAgQIBBUIPL5Oyj5JKctAJxkWcqfVOQNyCcA8/SnADCPo1EIECBAgAABAgQIECDQJhD5/K2y+QQEgPksjdRBIPIGJADsUOiWSwWAeRyNQoAAAQIECBAgQIAAAQGgHlgkIABcJOT9QQQEgIOwhhpUABiqXCZLgAABAgQIECBAgEBQgcjn76Dkk5y2AHCSZSl/UpE3IJ8AzNOfAsA8jkYhQIAAAQIECBAgQIBAm0Dk87fK5hMQAOazNFIHgcgbkACwQ6FbLhUA5nE0CgECBAgQIECAAAECBASAemCRgABwkZD3BxEQAA7CGmpQAWCocpksAQIECBAgQIAAAQJBBSKfv4OST3LaAsBJlqX8SUXegHwCME9/CgDzOBqFAAECBAgQIECAAAECbQKRz98qm09AAJjP0kgdBCJvQALADoV26eACgtTBiT2AAAECBAgQIECAQGiByOfv0PATm7wAcGIFmct0Im9AAsC5dGmMdQoAY9TJLAkQIECAAAECBAiMJRD5/D2WWYnPFQCWWNUAa4q8AQkAAzTYjKYoAJxRsS2VAAECBAgQIECAQA+ByOfvHst1S4OAAFBrjCIQeQMSAI7SMh7aICAA1BoECBAgQIAAAQIECLQJRD5/q2w+AQFgPksjdRCIvAEJADsU2qWDCwgAByf2AAIECBAgQIAAAQKhBSKfv0PDT2zyAsCJFWQu04m8AQkA59KlMdYpAIxRJ7MkQIAAAQIECBAgMJZA5PP3WGYlPlcAWGJVA6wp8gYkAAzQYDOaogBwRsW2VAIECBAgQIAAAQI9BCKfv3ss1y0NAgJArTGKQOQNSAA4Sst4aIOAAFBrECBAgAABAgQIECDQJhD5/K2y+QQEgPksjdRBIPIGJADsUGiXDi4gAByc2AMIECBAgAABAgQIhBaIfP4ODT+xyQsAJ1aQuUwn8gYkAJxLl8ZYpwAwRp3MkgABAgQIECBAgMBYApHP32OZlfhcAWCJVQ2wpsgbkAAwQIPNaIoCwBkV21IJECBAgAABAgQI9BCIfP7usVy3NAgIALXGKAKRNyAB4Cgt46ENAgJArUGAAAECBAgQIECAQJtA5PO3yuYTEADmszRSB4HIG5AAsEOhXTq4gABwcGIPIECAAAECBAgQIBBaIPL5OzT8xCYvAJxYQeYyncgbkABwLl0aY50CwBh1MksCBAgQIECAAAECYwlEPn+PZVbicwWAJVY1wJoib0ACwAANNqMpCgBnVGxLJUCAAAECBAgQINBDIPL5u8dy3dIgIADUGqMIRN6ABICjtIyHNggIALUGAQIECBAgQIAAAQJtApHP3yqbT0AAmM/SSB0EIm9AAsAOhXbp4AICwMGJPYAAAQIECBAgQIBAaIHI5+/Q8BObvABwYgWZy3Qib0ACwLl0aYx1CgBj1MksCRAgQIAAAQIECIwlEPn8PZZZic8VAJZY1QBrirwBCQADNNiMpigAnFGxLZUAAQIECBAgQIBAD4HI5+8ey3VLg4AAUGuMIhB5AxIAjtIyHtogIADUGgQIECBAgAABAgQItAlEPn+rbD4BAWA+SyN1EIi8AQkAOxTapYMLCAAHJ/YAAgQIECBAgAABAqEFIp+/Q8NPbPICwIkVZC7TibwBCQDn0qUx1ikAjFEnsyRAgAABAgQIECAwlkDk8/dYZiU+VwBYYlUDrCnyBiQADNBgM5qiAHBGxbZUAgQIECBAgAABAj0EIp+/eyzXLQ0CAkCtMYpA5A1IADhKy3hog4AAUGsQIECAAAECBAgQINAmEPn8rbL5BASA+SyN1EEg8gYkAOxQaJcOLiAAHJzYAwgQIECAAAECBAiEFoh8/g4NP7HJCwAnVpC5TCfyBiQAnEuXxlinADBGncySAAECBAgQIECAwFgCkc/fY5mV+FwBYIlVDbCmyBuQADBAg81oigLAGRXbUgkQIECAAAECBAj0EIh8/u6xXLc0CAgAtcYoApE3IAHgKC3joQ0CAkCtQYAAAQIECBAgQIBAm0Dk87fK5hMQAOazNFIHgcgbkACwQ6FdOriAAHBwYg8gQIAAAQIECBAgEFog8vk7NPzEJi8AnFhB5jKdyBuQAHAuXRpjnQLAGHUySwIECBAgQIAAAQJjCUQ+f49lVuJzBYAlVjXAmiJvQALAAA02oykKAGdUbEslQIAAAQIECBAg0EMg8vm7x3Ld0iAgANQaowhE3oAEgKO0jIc2CAgAtQYBAgQIECBAgAABAm0Ckc/fKptPQACYz9JIHQQib0ACwA6FdungAgLAwYk9gAABAgQIECBAgEBogcjn79DwE5u8AHBiBZnLdCJvQALAuXRpjHUKAGPUySwJECBAgAABAgQIjCUQ+fw9llmJzxUAlljVAGuKvAEJAAM02IymKACcUbEtlQABAgQIECBAgEAPgcjn7x7LdUuDgABQa4wiEHkDEgCO0jIe2iAgANQaBAgQIECAAAECBAi0CUQ+f6tsPgEBYD5LI3UQiLwBCQA7FNqlgwsIAAcn9gACBAgQIECAAAECoQUin79Dw09s8gLAiRVkLtOJvAEJAOfSpTHWKQCMUSezJECAAAECBAgQIDCWQOTz91hmJT5XAFhiVQOsKfIGJAAM0GAzmqIAcEbFtlQCBAgQIECAAAECPQQin797LNctDQICQK0xikDkDUgAOErLeGiDgABQaxAgQIAAAQIECBAg0CYQ+fytsvkEBID5LI3UQSDyBiQA7FBolw4uIAAcnNgDCBAgQIAAAQIECIQWiHz+Dg0/sckLACdWkLlMJ/IGJACcS5fGWKcAMEadzJIAAQIECBAgQIDAWAKRz99jmZX4XAFgiVUNsKbIG5AAMECDzWiKAsAZFdtSCRAgQIAAAQIECPQQiHz+7rFctzQICAC1xigCkTcgAeAoLeOhDQICQK1BgAABAgQIECBAgECbQOTzt8rmExAA5rM0UgeByBuQALBDoV06uIAAcHBiDyBAgAABAgQIECAQWiDy+Ts0/MQmLwCcWEHmMp3IG5AAcC5dGmOdAsAYdTJLAgQIECBAgAABAmMJRD5/j2VW4nMFgCVWNcCaIm9AAsAADTajKQoAZ1RsSyVAgAABAgQIECDQQyDy+bvHct3SICAA1BqjCETegASAo7SMhzYICAC1BgECBAgQIECAAAECbQKRz98qm09AAJjP0kgdBCJvQALADoV26eACAsDBiT2AAAECBAgQIECAQGiByOfv0PATm7wAcGIFmct0Im9AAsC5dGmMdQoAY9TJLAkQIECAAAECBAiMJRD5/D2WWYnPFQCWWNUAa4q8AQkAAzTYjKYoAJxRsS2VAAECBAgQIECAQA+ByOfvHst1S4OAAFBrjCIQeQMSAI7SMh7aICAA1BoECBAgQIAAAQIECLQJRD5/q2w+AQFgPksjdRCIvAEJADsU2qWDCwgAByf2AAIECBAgQIAAAQKhBSKfv0PDT2zyAsCJFWQu04m8AQkA59KlMdYpAIxRJ7MkQIAAAQIECBAgMJZA5PP3WGYlPlcAWGJVA6wp8gYkAAzQYDOaogBwRsW2VAIECBAgQIAAAQI9BCKfv3ss1y0NAgJArTGKQOQNSAA4Sst4aIOAAFBrECBAgAABAgQIECDQJhD5/K2y+QQEgPksjdRBIPIGJADsUGiXDi4gAByc2AMIECBAgAABAgQIhBaIfP4ODT+xyQsAJ1aQuUwn8gYkAJxLl8ZYpwAwRp3MkgABAgQIECBAgMBYApHP32OZlfhcAWCJVQ2wpsgbkAAwQIPNaIoCwBkV21IJECBAgAABAgQI9BCIfP7usVy3NAgIALXGKAKRNyAB4Cgt46ENAgJArUGAAAECBAgQIECAQJtA5PO3yuYTEADmszRSB4HIG5AAsEOhXTq4gABwcGIPIECAAAECBAgQIBBaIPL5OzT8xCYvAJxYQeYyncgbkABwLl0aY50CwBh1MksCBAgQIECAAAECYwlEPn+PZVbicwWAJVY1wJoib0ACwAANNqMpCgBnVGxLJUCAAAECBAgQINBDIPL5u8dy3dIgIADUGqMIRN6ABICjtIyHNggIALUGAQIECBAgQIAAAQJtApHP3yqbT0AAmM/SSB0EIm9AAsAOhXbp4AICwMGJPYAAAQIECBAgQIBAaIHI5+/Q8BObvABwYgWZy3Qib0ACwLl0aYx1CgBj1MksCRAgQIAAAQIECIwlEPn8PZZZic8VAJZY1QBrirwBCQADNNiMpigAnFGxLZUAAQIECBAgQIBAD4HI5+8ey3VLg4AAUGuMIhB5AxIAjtIyHtogIADUGgQIECBAgAABAgQItAlEPn+rbD4BAWA+SyN1EIi8AQkAOxTapYMLCAAHJ/YAAgQIECBAgAABAqEFIp+/Q8NPbPICwIkVZC7TibwBCQDn0qUx1ikAjFEnsyRAgAABAgQIECAwlkDk8/dYZiU+VwBYYlUDrCnyBiQADNBgM5qiAHBGxbZUAgQIECBAgAABAj0EIp+/eyzXLQ0CAkCtMYpA5A1IADhKy3hog4AAUGsQIECAAAECBAgQINAmEPn8rbL5BASA+SyN1EEg8gYkAOxQaJcOLiAAHJzYAwgQIECAAAECBAiEFoh8/g4NP7HJCwAnVpC5TCfyBiQAnEuXxlinADBGncySAAECBAgQIECAwFgCkc/fY5mV+FwBYIlVDbCmyBuQADBAg81oigLAGRXbUgkQIECAAAECBAj0EIh8/u6xXLc0CAgAtcYoApE3IAHgKC3joQ0CAkCtQYAAAQIECBAgQIBAm0Dk87fK5hMQAOazNFIHgcgbkACwQ6FdOriAAHBwYg8gQIAAAQIECBAgEFog8vk7NPzEJi8AXMWC3H333WnNmjX1f9dee239389//vN6Bq95zWvSRRddtHA21TWve93rFl5XXfDP//zP6bWvfW3rtQ8++GA677zz0qWXXppuvvnm9Jvf/CbtuOOO6fDDD09vectb0k477bSiZ3W9KPIGJADsWm3XDykgABxS19gECBAgQIAAAQIE4gtEPn/H15/OCgSAq1iLjTbaqPFpYwSAt9xySx30/fCHP9zgvP7gD/4gXXzxxemwww7LrhR5AxIAZm8HAy4hIABcAs+tBAgQIECAAAECBGYgEPn8PYPyrNoSBYCrRp3SYwPA6lN2u+++e7ryyivrGfQJAL/0pS+l7bbbrnEFO+ywQ3rKU56ywffvv//+tM8++6Qbb7yxfv+4445LxxxzTNp8883T1772tfQP//APqbpmiy22SFdffXX6kz/5k6xSkTcgAWDWVjDYkgICwCUB3U6AAAECBAgQIECgcIHI5+/CS7OqyxMAriL3u9/97jp0q/57+tOfnm677ba088479w4Af/zjH6dnPOMZvVbwt3/7t+nv/u7v6nvPPffcdPLJJz9unCr0O+CAA9LatWvTi170ovTVr36113Oaboq8AQkAs7aCwZYUEAAuCeh2AgQIECBAgAABAoULRD5/F16aVV2eAHBVuR//sLECwP/93/9NT3va09L//M//1J9C/P73v5823njj9SROOOGE9LGPfaz+9+uuuy4973nPy6YVeQMSAGZrAwNlEBAAZkA0BAECBAgQIECAAIGCBSKfvwsuy6ovTQC46uT/98CxAsAvf/nL6cUvfnE9kXPOOSedeuqpG1S45ppr0v7771+/99d//dfp7//+77NpRd6ABIDZ2sBAGQQEgBkQDUGAAAECBAgQIECgYIHI5++Cy7LqSxMArjr5+AHgGWeckc4888x6ItVXfffbb78NKlRf/63+huADDzxQfx3461//ejatyBuQADBbGxgog4AAMAOiIQgQIECAAAECBAgULBD5/F1wWVZ9aQLAVSfPFwAeeOCB6YYbbki/+MUv0pOf/OT0zGc+Mx1yyCHpTW96U9p+++0bV3b00Uenyy67rH6/urfph0Kq9//0T/80fe9730vbbLNNuvvuu7NpRd6ABIDZ2sBAGQQEgBkQDUGAAAECBAgQIECgYIHI5++Cy7LqSxMArjp5vgCwaeqbbbZZ+uAHP5je+MY3bvCS6hN/3/72t9OTnvSk+pd+215HHHFE+vznP19f8utf/zptuummKxKrNpi215133pn23Xff+pI77rgjVb9YHOUlAIxSqXnMUwA4jzpbJQECBAgQIECAAIG+AgLAvnJl3ScAHLGeff8GYPX13Ze//OX13+fbcccd6xXceuut6V//9V/rT/Y98sgj9b9VP+Bx/PHHr7fCPffcM11//fX1LxHfddddrQJ/+Zd/mT7zmc/U19x7773pqU996orENtpooxVdJwBcMZMLCWxQQACoMQgQIECAAAECBAgQaBMQAOqPSkAAOGIf9AkAf/nLX9Zf920K2C6//PI6HKx+6XeLLbZIt9xyS/rDP/zDx61yl112qQPDKjz8NuCMvQAAIABJREFUyU9+0irw6le/Ov3Lv/xLfU2XT+oJAEdsLI+elYAAcFbltlgCBAgQIECAAAECnQUEgJ3JirxBADhiWfsEgCuZbvVrve9617vqS88666x0+umnP+621fgEoK8Ar6RSriGwvIAAcHlDIxAgQIAAAQIECBAoWUAAWHJ1V742AeDKrbJfOVQAWP1YR/Wpv+qrwH/+53+errzyysfNfTX+BuAirMgbkL8BuKi63l9NAQHgamp7FgECBAgQIECAAIF4ApHP3/G0pztjAeCItRkqAKyW9LSnPS3dc889aY899kg/+MEPHrfKV7ziFfXfC6xefgW4ewMIALubuWM4AQHgcLZGJkCAAAECBAgQIFCCgACwhCouvwYB4PKGvUcYMgDcZptt6h/t2FAAeMYZZ6Tqh0Sq19VXX52qTwRu6LV27dr0lKc8JT3wwAPpgAMOSF//+td7r/V3b4y8AQkAs7WBgTIICAAzIBqCAAECBAgQIECAQMECkc/fBZdl1ZcmAFx18v974FAB4GO/AnzIIYekL3/5y49bZfWV4Je85CX1v51zzjnp1FNP3aDCNddcU//ScPU67bTT0tlnn51NK/IGJADM1gYGyiAgAMyAaAgCBAgQIECAAAECBQtEPn8XXJZVX5oAcNXJhw8Aqx/++Ju/+Zv6QdUn/R79QZBHn/yb3/ym/opw9YvCu+++e/0V4Q39au8JJ5yQPvaxj9W3rVmzJu2zzz7ZtCJvQALAbG1goAwCAsAMiIYgQIAAAQIECBAgULBA5PN3wWVZ9aUJAFedvH8AWH1isPqbfXvttVfjrC+//PJ01FFHpSrk22yzzdLNN9+ctt9++/Wuf+zXgM8999x08sknP+6a6qvB1dd+q68BH3jggenf//3fs0pF3oAEgFlbwWBLCggAlwR0OwECBAgQIECAAIHCBSKfvwsvzaouTwC4itzf/OY360Du0Vf1N/oeDd6e//znpze84Q2Pm81rX/vax/1/FcK96EUvqr+We+SRR6bnPOc59Sf5ql/7vfXWW9Nll11W/1f9f/X68Ic/nE466aQNrvBXv/pV2nvvvdNNN91Uv3/88cenY445Jm2++ebpa1/7Wv113/vvv7/+///4j/+on5XzFXkDEgDm7ARjLSsgAFxW0P0ECBAgQIAAAQIEyhaIfP4uuzKruzoB4Cp6V4HeJz/5yRU/8dEg79EbHg0AFw2wxRZbpA984AN1qNf2qsLIww47LP3oRz/a4GVPfvKT06c+9al0xBFHLHpk5/cjb0ACwM7ldsOAAgLAAXENTYAAAQIECBAgQKAAgcjn7wL4J7MEAeAqlmLZALD61N7nPve5+pd7r7vuunTnnXfWv/RbfU13yy23THvuuWc6+OCD608SVp8MXMmr+oXf8847L1166aX1pxOrrw7vuOOOdTD41re+Nf3RH/3RSobpfE3kDUgA2LncbhhQQAA4IK6hCRAgQIAAAQIECBQgEPn8XQD/ZJYgAJxMKeY1kcgbkABwXr069dUKAKdeIfMjQIAAAQIECBAgMK5A5PP3uHJlPV0AWFY9w6wm8gYkAAzTZrOYqABwFmW2SAIECBAgQIAAAQK9BSKfv3sv2o3rCQgANcUoApE3IAHgKC3joQ0CAkCtQYAAAQIECBAgQIBAm0Dk87fK5hMQAOazNFIHgcgbkACwQ6FdOriAAHBwYg8gQIAAAQIECBAgEFog8vk7NPzEJi8AnFhB5jKdyBuQAHAuXRpjnQLAGHUySwIECBAgQIAAAQJjCUQ+f49lVuJzBYAlVjXAmiJvQALAAA02oykKAGdUbEslQIAAAQIECBAg0EMg8vm7x3Ld0iAgANQaowhE3oAEgKO0jIc2CAgAtQYBAgQIECBAgAABAm0Ckc/fKptPQACYz9JIHQQib0ACwA6FdungAgLAwYk9gAABAgQIECBAgEBogcjn79DwE5u8AHBiBZnLdCJvQALAuXRpjHUKAGPUySwJECBAgAABAgQIjCUQ+fw9llmJzxUAlljVAGuKvAEJAAM02IymKACcUbEtlQABAgQIECBAgEAPgcjn7x7LdUuDgABQa4wiEHkDEgCO0jIe2iAgANQaBAgQIECAAAECBAi0CUQ+f6tsPgEBYD5LI3UQiLwBCQA7FNqlgwsIAAcn9gACBAgQIECAAAECoQUin79Dw09s8gLAiRVkLtOJvAEJAOfSpTHWKQCMUSezJECAAAECBAgQIDCWQOTz91hmJT5XAFhiVQOsKfIGJAAM0GAzmqIAcEbFtlQCBAgQIECAAAECPQQin797LNctDQICQK0xikDkDUgAOErLeGiDgABQaxAgQIAAAQIECBAg0CYQ+fytsvkEBID5LI3UQSDyBiQA7FBolw4uIAAcnNgDCBAgQIAAAQIECIQWiHz+Dg0/sckLACdWkLlMJ/IGJACcS5fGWKcAMEadzJIAAQIECBAgQIDAWAKRz99jmZX4XAFgiVUNsKbIG5AAMECDzWiKAsAZFdtSCRAgQIAAAQIECPQQiHz+7rFctzQICAC1xigCkTcgAeAoLeOhDQICQK1BgAABAgQIECBAgECbQOTzt8rmExAA5rM0UgeByBuQALBDoV06uIAAcHBiDyBAgAABAgQIECAQWiDy+Ts0/MQmLwCcWEHmMp3IG5AAcC5dGmOdAsAYdTJLAgQIECBAgAABAmMJRD5/j2VW4nMFgCVWNcCaIm9AAsAADTajKQoAZ1RsSyVAgAABAgQIECDQQyDy+bvHct3SICAA1BqjCETegASAo7SMhzYICAC1BgECBAgQIECAAAECbQKRz98qm09AAJjP0kgdBCJvQALADoV26eACAsDBiT2AAAECBAgQIECAQGiByOfv0PATm7wAcGIFmct0Im9AAsC5dGmMdQoAY9TJLAkQIECAAAECBAiMJRD5/D2WWYnPFQCWWNUAa4q8AQkAAzTYjKYoAJxRsS2VAAECBAgQIECAQA+ByOfvHst1S4OAAFBrjCIQeQMSAI7SMh7aICAA1BoECBAgQIAAAQIECLQJRD5/q2w+AQFgPksjdRCIvAEJADsU2qWDCwgAByf2AAIECBAgQIAAAQKhBSKfv0PDT2zyAsCJFWQu04m8AQkA59KlMdYpAIxRJ7MkQIAAAQIECBAgMJZA5PP3WGYlPlcAWGJVA6wp8gYkAAzQYDOaogBwRsW2VAIECBAgQIAAAQI9BCKfv3ss1y0NAgJArTGKQOQNSAA4Sst4aIOAAFBrECBAgAABAgQIECDQJhD5/K2y+QQEgPksjdRBIPIGJADsUGiXDi4gAByc2AMIECBAgAABAgQIhBaIfP4ODT+xyQsAJ1aQuUwn8gYkAJxLl8ZYpwAwRp3MkgABAgQIECBAgMBYApHP32OZlfhcAWCJVQ2wpsgbkAAwQIPNaIoCwBkV21IJECBAgAABAgQI9BCIfP7usVy3NAgIALXGKAKRNyAB4Cgt46ENAgJArUGAAAECBAgQIECAQJtA5PO3yuYTEADmszRSB4HIG5AAsEOhXTq4gABwcGIPIECAAAECBAgQIBBaIPL5OzT8xCYvAJxYQeYyncgbkABwLl0aY50CwBh1MksCBAgQIECAAAECYwlEPn+PZVbicwWAJVY1wJoib0ACwAANNqMpCgBnVGxLJUCAAAECBAgQINBDIPL5u8dy3dIgIADUGqMIRN6ABICjtIyHNggIALUGAQIECBAgQIAAAQJtApHP3yqbT0AAmM/SSB0EIm9AAsAOhXbp4AICwMGJPYAAAQIECBAgQIBAaIHI5+/Q8BObvABwYgWZy3Qib0ACwLl0aYx1CgBj1MksCRAgQIAAAQIECIwlEPn8PZZZic8VAJZY1QBrirwBCQADNNiMpigAnFGxLZUAAQIECBAgQIBAD4HI5+8ey3VLg4AAUGuMIhB5AxIAjtIyHtogIADUGgQIECBAgAABAgQItAlEPn+rbD4BAWA+SyN1EIi8AQkAOxTapYMLCAAHJ/YAAgQIECBAgAABAqEFIp+/Q8NPbPICwIkVZC7TibwBCQDn0qUx1ikAjFEnsyRAgAABAgQIECAwlkDk8/dYZiU+VwBYYlUDrCnyBiQADNBgM5qiAHBGxbZUAgQIECBAgAABAj0EIp+/eyzXLQ0CAkCtMYpA5A1IADhKy3hog4AAUGsQIECAAAECBAgQINAmEPn8rbL5BASA+SyN1EEg8gYkAOxQaJcOLiAAHJzYAwgQIECAAAECBAiEFoh8/g4NP7HJCwAnVpC5TCfyBiQAnEuXxlinADBGncySAAECBAgQIECAwFgCkc/fY5mV+FwBYIlVDbCmyBuQADBAg81oigLAGRXbUgkQIECAAAECBAj0EIh8/u6xXLc0CAgAtcYoApE3IAHgKC3joQ0CAkCtQYAAAQIECBAgQIBAm0Dk87fK5hMQAOazNFIHgcgbkACwQ6FdOriAAHBwYg8gQIAAAQIECBAgEFog8vk7NPzEJi8AnFhB5jKdyBuQAHAuXRpjnQLAGHUySwIECBAgQIAAAQJjCUQ+f49lVuJzBYAlVjXAmiJvQALAAA02oykKAGdUbEslQIAAAQIECBAg0EMg8vm7x3Ld0iAgANQaowhE3oAEgKO0jIc2CAgAtQYBAgQIECBAgAABAm0Ckc/fKptPQACYz9JIHQQib0ACwA6FdungAgLAwYk9gAABAgQIECBAgEBogcjn79DwE5u8AHBiBZnLdCJvQALAuXRpjHUKAGPUySwJECBAgAABAgQIjCUQ+fw9llmJzxUAlljVAGuKvAEJAAM02IymKACcUbEtlQABAgQIECBAgEAPgcjn7x7LdUuDgABQa4wiEHkDEgCO0jIe2iAgANQaBAgQIECAAAECBAi0CUQ+f6tsPgEBYD5LI3UQiLwBCQA7FNqlgwsIAAcn9gACBAgQIECAAAECoQUin79Dw09s8gLAiRVkLtOJvAEJAOfSpTHWKQCMUSezJECAAAECBAgQIDCWQOTz91hmJT5XAFhiVQOsKfIGJAAM0GAzmqIAcEbFtlQCBAgQIECAAAECPQQin797LNctDQICQK0xikDkDUgAOErLeGiDgABQaxAgQIAAAQIECBAg0CYQ+fytsvkEBID5LI3UQSDyBiQA7FBolw4uIAAcnNgDCBAgQIAAAQIECIQWiHz+Dg0/sckLACdWkLlMJ/IGJACcS5fGWKcAMEadzJIAAQIECBAgQIDAWAKRz99jmZX4XAFgiVUNsKbIG5AAMECDzWiKAsAZFdtSCRAgQIAAAQIECPQQiHz+7rFctzQICAC1xigCkTcgAeAoLeOhDQICQK1BgAABAgQIECBAgECbQOTzt8rmExAA5rM0UgeByBuQALBDoV06uIAAcHBiDyBAgAABAgQIECAQWiDy+Ts0/MQmLwCcWEHmMp3IG5AAcC5dGmOdAsAYdTJLAgQIECBAgAABAmMJRD5/j2VW4nMFgCVWNcCaIm9AAsAADTajKQoAZ1RsSyVAgAABAgQIECDQQyDy+bvHct3SICAA1BqjCETegASAo7SMhzYICAC1BgECBAgQIECAAAECbQKRz98qm09AAJjP0kgdBCJvQALADoV26eACAsDBiT2AAAECBAgQIECAQGiByOfv0PATm7wAcGIFmct0Im9AAsC5dGmMdQoAY9TJLAkQIECAAAECBAiMJRD5/D2WWYnPFQCWWNUAa4q8AQkAAzTYjKYoAJxRsS2VAAECBAgQIECAQA+ByOfvHst1S4OAAFBrjCIQeQMSAI7SMh7aICAA1BoECBAgQIAAAQIECLQJRD5/q2w+AQFgPksjdRCIvAEJADsU2qWDCwgAByf2AAIECBAgQIAAAQKhBSKfv0PDT2zyAsCJFWQu04m8AQkA59KlMdYpAIxRJ7MkQIAAAQIECBAgMJZA5PP3WGYlPlcAWGJVA6wp8gYkAAzQYDOaogBwRsW2VAIECBAgQIAAAQI9BCKfv3ss1y0NAgJArTGKQOQNSAA4Sst4aIOAAFBrECBAgAABAgQIECDQJhD5/K2y+QQEgPksjdRBIPIGJADsUGiXDi4gAByc2AMIECBAgAABAgQIhBaIfP4ODT+xyQsAJ1aQuUwn8gYkAJxLl8ZYpwAwRp3MkgABAgQIECBAgMBYApHP32OZlfhcAWCJVQ2wpsgbkAAwQIPNaIoCwBkV21IJECBAgAABAgQI9BCIfP7usVy3NAgIALXGKAKRNyAB4Cgt46ENAgJArUGAAAECBAgQIECAQJtA5PO3yuYTEADmszRSB4HIG5AAsEOhXTq4gABwcGIPIECAAAECBAgQIBBaIPL5OzT8xCYvAJxYQeYyncgbkABwLl0aY50CwBh1MksCBAgQIECAAAECYwlEPn+PZVbicwWAJVY1wJoib0ACwAANNqMpCgBnVGxLJUCAAAECBAgQINBDIPL5u8dy3dIgIADUGqMIRN6ABICjtIyHNggIALUGAQIECBAgQIAAAQJtApHP3yqbT0AAmM/SSB0EIm9AAsAOhXbp4AICwMGJPYAAAQIECBAgQIBAaIHI5+/Q8BObvABwYgWZy3Qib0ACwLl0aYx1CgBj1MksCRAgQIAAAQIECIwlEPn8PZZZic8VAJZY1QBrirwBCQADNNiMpigAnFGxLZUAAQIECBAgQIBAD4HI5+8ey3VLg4AAUGuMIhB5AxIAjtIyHtogIADUGgQIECBAgAABAgQItAlEPn+rbD4BAWA+SyN1EIi8AQkAOxTapYMLCAAHJ/YAAgQIECBAgAABAqEFIp+/Q8NPbPICwIkVZC7TibwBCQDn0qUx1ikAjFEnsyRAgAABAgQIECAwlkDk8/dYZiU+VwBYYlUDrCnyBiQADNBgM5qiAHBGxbZUAgQIECBAgAABAj0EIp+/eyzXLQ0CAkCtMYpA5A1IADhKy3hog4AAUGsQIECAAAECBAgQINAmEPn8rbL5BASA+SyN1EEg8gYkAOxQaJcOLiAAHJzYAwgQIECAAAECBAiEFoh8/g4NP7HJCwAnVpC5TCfyBiQAnEuXxlinADBGncySAAECBAgQIECAwFgCkc/fY5mV+FwBYIlVDbCmyBuQADBAg81oigLAGRXbUgkQIECAAAECBAj0EIh8/u6xXLc0CAgAtcYoApE3IAHgKC3joQ0CAkCtQYAAAQIECBAgQIBAm0Dk87fK5hMQAOazNFIHgcgbkACwQ6FdOriAAHBwYg8gQIAAAQIECBAgEFog8vk7NPzEJi8AnFhB5jKdyBuQAHAuXRpjnQLAGHUySwIECBAgQIAAAQJjCUQ+f49lVuJzBYAlVjXAmiJvQALAAA02oykKAGdUbEslQIAAAQIECBAg0EMg8vm7x3Ld0iAgANQaowhE3oAEgKO0jIc2CAgAtQYBAgQIECBAgAABAm0Ckc/fKptPQACYz9JIHQQib0ACwA6FdungAgLAwYk9gAABAgQIECBAgEBogcjn79DwE5u8AHBiBZnLdCJvQALAuXRpjHUKAGPUySwJECBAgAABAgQIjCUQ+fw9llmJzxUAlljVAGuKvAEJAAM02IymKACcUbEtlQABAgQIECBAgEAPgcjn7x7LdUuDgABQa4wiEHkDEgCO0jIe2iAgANQaBAgQIECAAAECBAi0CUQ+f6tsPgEBYD5LI3UQiLwBCQA7FNqlgwsIAAcn9gACBAgQIECAAAECoQUin79Dw09s8gLAiRVkLtOJvAEJAOfSpTHWKQCMUSezJECAAAECBAgQIDCWQOTz91hmJT5XAFhiVQOsKfIGJAAM0GAzmqIAcEbFtlQCBAgQIECAAAECPQQin797LNctDQICQK0xikDkDUgAOErLeGiDgABQaxAgQIAAAQIECBAg0CYQ+fytsvkEBID5LI3UQSDyBiQA7FBolw4uIAAcnNgDCBAgQIAAAQIECIQWiHz+Dg0/sckLACdWkLlMJ/IGJACcS5fGWKcAMEadzJIAAQIECBAgQIDAWAKRz99jmZX4XAFgiVUNsKbIG5AAMECDzWiKAsAZFdtSCRAgQIAAAQIECPQQiHz+7rFctzQICAC1xigCkTcgAeAoLeOhDQICQK1BgAABAgQIECBAgECbQOTzt8rmExAA5rM0UgeByBuQALBDoV06uIAAcHBiDyBAgAABAgQIECAQWiDy+Ts0/MQmLwCcWEHmMp3IG5AAcC5dGmOdAsAYdTJLAgQIECBAgAABAmMJRD5/j2VW4nMFgCVWNcCaIm9AAsAADTajKQoAZ1RsSyVAgAABAgQIECDQQyDy+bvHct3SICAA1BqjCETegASAo7SMhzYICAC1BgECBAgQIECAAAECbQKRz98qm09AAJjP0kgdBCJvQALADoV26eACAsDBiT2AAAECBAgQIECAQGiByOfv0PATm7wAcGIFmct0Im9AAsC5dGmMdQoAY9TJLAkQIECAAAECBAiMJRD5/D2WWYnPFQCWWNUAa4q8AQkAAzTYjKYoAJxRsS2VAAECBAgQIECAQA+ByOfvHst1S4OAAFBrjCIQeQMSAI7SMh7aICAA1BoECBAgQIAAAQIECLQJRD5/q2w+AQFgPksjdRCIvAEJADsU2qWDCwgAByf2AAIECBAgQIAAAQKhBSKfv0PDT2zyAsCJFWQu04m8AQkA59KlMdYpAIxRJ7MkQIAAAQIECBAgMJZA5PP3WGYlPlcAWGJVA6wp8gYkAAzQYDOaogBwRsW2VAIECBAgQIAAAQI9BCKfv3ss1y0NAgJArTGKQOQNSAA4Sst4aIOAAFBrECBAgAABAgQIECDQJhD5/K2y+QQEgPksjdRBIPIGJADsUGiXDi4gAByc2AMIECBAgAABAgQIhBaIfP4ODT+xyQsAJ1aQuUwn8gYkAJxLl8ZYpwAwRp3MkgABAgQIECBAgMBYApHP32OZlfhcAWCJVQ2wpsgbkAAwQIPNaIoCwBkV21IJECBAgAABAgQI9BCIfP7usVy3NAgIALXGKAKRNyAB4Cgt46ENAgJArUGAAAECBAgQIECAQJtA5PO3yuYTEADmszRSB4HIG5AAsEOhXTq4gABwcGIPIECAAAECBAgQIBBaIPL5OzT8xCYvAJxYQeYyncgbkABwLl0aY50CwBh1MksCBAgQIECAAAECYwlEPn+PZVbicwWAJVY1wJoib0ACwAANNqMpCgBnVGxLJUCAAAECBAgQINBDIPL5u8dy3dIgIADUGqMIRN6ABICjtIyHNggIALUGAQIECBAgQIAAAQJtApHP3yqbT0AAmM/SSB0EIm9AAsAOhXbp4AICwMGJPYAAAQIECBAgQIBAaIHI5+/Q8BObvABwYgWZy3Qib0ACwLl0aYx1CgBj1MksCRAgQIAAAQIECIwlEPn8PZZZic8VAJZY1QBrirwBCQADNNiMpigAnFGxLZUAAQIECBAgQIBAD4HI5+8ey3VLg4AAUGuMIhB5AxIAjtIyHtogIADUGgQIECBAgAABAgQItAlEPn+rbD4BAWA+SyN1EIi8AQkAOxTapYMLCAAHJ/YAAgQIECBAgAABAqEFIp+/Q8NPbPICwFUqyN13353WrFlT/3fttdfW//385z+vn/6a17wmXXTRRZ1m8sUvfjFdcMEF9Xj33HNP2mabbdK+++6bjj/++HTooYeuaKy1a9emT3ziE+lTn/pUuuGGG9L999+ftt9++3TIIYekt7zlLWmPPfZY0Th9Loq8AQkA+1TcPUMJCACHkjUuAQIECBAgQIAAgTIEIp+/y6jANFYhAFylOmy00UaNT+oSAD7yyCPphBNOqMO/plcVAn70ox9Nbc+swsfDDz88ffvb397gMJtuumn6yEc+kl7/+tcPIhR5AxIADtISBu0pIADsCec2AgQIECBAgAABAjMRiHz+nkmJVmWZAsBVYU6PC+N23HHHtPvuu6crr7yyfnqXAPD0009PZ599dn3fXnvtlU455ZS0yy67pFtuuSWde+656bvf/W79XnXdWWedtcHVPfzww+mggw5KV111Vf3+y1/+8nTcccelrbbaqg4Eq/uqTyw+4QlPSJ///OfTS17ykuxKkTcgAWD2djDgEgICwCXw3EqAAAECBAgQIEBgBgKRz98zKM+qLVEAuErU7373u9M+++xT//f0pz893XbbbWnnnXfuFADefPPNdXBYfXV37733rgO8zTfffN0KHnzwwXTggQem6667Lm2yySbpxhtvrMPB331VXzd+3eteV//ziSeemM4777zHXVI953nPe16677770q677pquv/76erycr8gbkAAwZycYa1kBAeCygu4nQIAAAQIECBAgULZA5PN32ZVZ3dUJAFfXe93T+gSAJ510Uv213Op19dVXp/3222+92V9zzTVp//33r//9zW9+c/rQhz603jV77rlnHeptueWWqdoItthii/WuOeecc9Jpp51W//tll12WjjrqqKxSkTcgAWDWVjDYkgICwCUB3U6AAAECBAgQIECgcIHI5+/CS7OqyxMArir3/z2sawBY/e2/6qvDP/3pT9Nuu+1W/2hH06t6/4c//GHaYYcd0k9+8pPHff34Rz/6UXrWs55V31r9LcHzzz9/g8Pcddddadttt63fe9WrXlX/UEjOV+QNSACYsxOMtayAAHBZQfcTIECAAAECBAgQKFsg8vm77Mqs7uoEgKvrve5pXQPAW2+9dd3Xed/4xjfWP/LR9Kref/RHQqr7Hv2qcXX9hRdemI499tj61ksuuSQdc8wxjeM8+9nPTjfddFPaaaed0u23355VKvIGJADM2goGW1JAALgkoNsJECBAgAABAgQIFC4Q+fxdeGlWdXkCwFXl/r+HdQ0Aqx/jOOKII+oBPvCBD6S3ve1tjTOv3n/7299ev1/dd9hhh6279uSTT07ve9/76v+vfjDkOc95TuM4L3vZy9LnPve5+hOEv/rVr9KTnvSkbFqRNyABYLY2MFAGAQGXwsDIAAAgAElEQVRgBkRDECBAgAABAgQIEChYIPL5u+CyrPrSBICrTv7/PbBrAFh94u9Nb3pTfe+ll16aXvGKVzTOvPqbfUcffXT9fnVf9YnAR1/VJ/4+/elP1/97zz33pK233rpxnOpvCD76AyHVD4pUnwhc6avaYNped955Z9p3333rS+64447668pRXgLAKJWaxzwFgPOos1USIECAAAECBAgQ6CsgAOwrV9Z9AsCR6tk1AHzve9+bTjnllHq2X/jCF9Khhx7aOPPq/Uc/9Vd92u8d73jHumsPP/zwdMUVV9T//9BDD6XNNtuscZxTTz01nXvuufX71S8LV78MvNJX9anBlb4EgCuVch2B9QUEgLqCAAECBAgQIECAAIE2AQGg/qgEBIAj9UHXAPDMM89MZ5xxRj3br3zlK+mggw5qnPlXv/rVdPDBB9fvV/e9613vWndt9e/V+9Xr4YcfThtvvHHjONXzqvur1ze+8Y30ghe8YMVaAsAVU7mQwFICAsCl+NxMgAABAgQIECBAoHgBAWDxJV7RAgWAK2LKf1HXADDaJwB9BTh/zxiRwIYEBID6ggABAgQIECBAgACBNgEBoP6oBASAI/VB1wAw2t8AXMQaeQPyNwAXVdf7qykgAFxNbc8iQIAAAQIECBAgEE8g8vk7nvZ0ZywAHKk2XQPAyy+/PB155JH1bJf5FeB3vvOd6f3vf389jl8B7ld8AWA/N3cNIyAAHMbVqAQIECBAgAABAgRKERAAllLJ5dYhAFzOr/fdXQPAW2+9Ne2yyy7186pf9a0+Edj0qt6/4IIL6rer+3beeed1l1544YXp2GOPrf//kksuSdWvAje9ql/9vemmm9JOO+2Ubr/99t5r3dCNkTcgAWDWVjDYkgICwCUB3U6AAAECBAgQIECgcIHI5+/CS7OqyxMArir3/z2sawD4yCOPpB122CH97Gc/S7vttlu64YYbGme+++67pxtvvDFtv/32qfqF3cf+IEcV6FXBXvU64YQT0vnnn7/Bce6666607bbb1u+98pWvTBdffHFWqcgbkAAwaysYbEkBAeCSgG4nQIAAAQIECBAgULhA5PN34aVZ1eUJAFeVu38AWN154oknrgvsrr766rTffvutN/trrrkm7b///vW/V9efd955612zxx571AHiVlttVQeEW2yxxXrXnHPOOem0006r//0zn/lMOvroo7NKRd6ABIBZW8FgSwoIAJcEdDsBAgQIECBAgACBwgUin78LL82qLk8AuKrcywWA1af39txzz7R27dq09957p6uuuiptvvnm6wZ96KGH0gEHHJCuu+66tMkmm6Trr78+7brrruut8LFfAz7ppJPShz/84cddc8stt6TnPve56b777qu/dlx9mrAaL+cr8gYkAMzZCcZaVkAAuKyg+wkQIECAAAECBAiULRD5/F12ZVZ3dQLAVfL+5je/mW6++eZ1T7v33nvTySefXP//85///PSGN7zhcTN57Wtfu8GZVZ/Kqz6dV7322muvdOqpp9YhXRXavec976l/2KN6VdedffbZGxzj4YcfTgceeGD61re+Vb9/1FFHpeOOOy5tueWWac2aNenMM89Md999d9p4441T9eMjL33pS7MrRd6ABIDZ28GASwgIAJfAcysBAgQIECBAgACBGQhEPn/PoDyrtkQB4CpRV4HeJz/5yRU/rfqbfxt6/fa3v63DuupTfE2v6kc+qh8BqQK8plcVQB522GHp2muv3eAlT3ziE+tPBlbPGuIVeQMSAA7REcbsKyAA7CvnPgIECBAgQIAAAQLzEIh8/p5HhVZnlQLA1XFOuQLAR6d7xRVX1CFfFeBVYd7WW2+d9tlnn/oXglf6ib3qq8Qf//jH6x/4qP4m4AMPPJC22267dPDBB6e3vvWt9deNh3pF3oAEgEN1hXH7CAgA+6i5hwABAgQIECBAgMB8BCKfv+dTpeFXKgAc3tgTNiAQeQMSAGrpKQkIAKdUDXMhQIAAAQIECBAgMD2ByOfv6WnGnZEAMG7tQs888gYkAAzdesVNXgBYXEktiAABAgQIECBAgEBWgcjn76wQMx9MADjzBhhr+ZE3IAHgWF3juRsSEADqCwIECBAgQIAAAQIE2gQin79VNp+AADCfpZE6CETegASAHQrt0sEFBICDE3sAAQIECBAgQIAAgdACkc/foeEnNnkB4MQKMpfpRN6ABIBz6dIY6xQAxqiTWRIgQIAAAQIECBAYSyDy+XsssxKfKwAssaoB1hR5AxIABmiwGU1RADijYlsqAQIECBAgQIAAgR4Ckc/fPZbrlgYBAaDWGEUg8gYkABylZTy0QUAAqDUIECBAgAABAgQIEGgTiHz+Vtl8AgLAfJZG6iAQeQMSAHYotEsHFxAADk7sAQQIECBAgAABAgRCC0Q+f4eGn9jkBYATK8hcphN5AxIAzqVLY6xTABijTmZJgAABAgQIECBAYCyByOfvscxKfK4AsMSqBlhT5A1IABigwWY0RQHgjIptqQQIECBAgAABAgR6CEQ+f/dYrlsaBASAWmMUgcgbkABwlJbx0AYBAaDWIECAAAECBAgQIECgTSDy+Vtl8wkIAPNZGqmDQOQNSADYodAuHVxAADg4sQcQIECAAAECBAgQCC0Q+fwdGn5ikxcATqwgc5lO5A1IADiXLo2xTgFgjDqZJQECBAgQIECAAIGxBCKfv8cyK/G5AsASqxpgTZE3IAFggAab0RQFgDMqtqUSIECAAAECBAgQ6CEQ+fzdY7luaRAQAGqNUQQib0ACwFFaxkMbBASAWoMAAQIECBAgQIAAgTaByOdvlc0nIADMZ2mkDgKRNyABYIdCu5RAEAFBapBCmSYBAgQIECBAgEBngcjn786LdUOjgABQc4wiEHkDEgCO0jIeSmBQAQHgoLwGJ0CAAAEC/2979wKuXTnnD/yWQgcjh0KKKMYhk2YqFSKEymmQwzhrKDHGZGQqU4wmKV3EoEmDMQcupxk6ONNhRu9V8TKMQjk1mFQklENT/+te/nu3e9+99/M8e6/D/bvX57mu//VPez1r3ffn95t7d3/3etZDgACBAQUi778HZKvu0gLA6koaY0KRFyABYIweM0oCswgIAGfRciwBAgQIECBAgEAkgcj770jOpY9VAFh6hSodX+QFSABYaVOa1qgFBICjLr/JEyBAgAABAgSqFoi8/666MD1PTgDYM7jL/U4g8gIkANTFBOoTEADWV1MzIkCAAAECBAgQiL//VsP2BASA7Vk60wwCAsAZsBxKgEDnAgLAzoldgAABAgQIECBAYCCByPvvgciqvKwAsMqylj+pyAuQOwDL7y8jJDCrgABwVjHHEyBAgAABAgQIRBGIvP+OYhxhnALACFWqcIyRFyABYIUNaUqjFxAAjr4FABAgQIAAAQIEqhWIvP+utigDTEwAOAC6S3oGoB4gQKAsAQFgWfUwGgIECBAgQIAAgfYEBIDtWUY+kwAwcvUCjz3yAuQOwMCNZ+gElhAQAGoNAgQIECBAgACBWgUi779rrckQ8xIADqHumr4FWA8QIFCUgACwqHIYDAECBAgQIECAQIsCAsAWMQOfSgAYuHiRhx55AXIHYOTOM3YCiwsIAHUGAQIECBAgQIBArQKR99+11mSIeQkAh1B3TXcA6gECBIoSEAAWVQ6DIUCAAAECBAgQaFFAANgiZuBTCQADFy/y0CMvQO4AjNx5xk5gcQEBoM4gQIAAAQIECBCoVSDy/rvWmgwxLwHgEOqu6Q5APUCAQFECAsCiymEwBAgQIECAAAECLQoIAFvEDHwqAWDg4kUeeuQFyB2AkTvP2AksLiAA1BkECBAgQIAAAQK1CkTef9dakyHmJQAcQt013QGoBwgQKEpAAFhUOQyGAAECBAgQIECgRQEBYIuYgU8lAAxcvMhDj7wAuQMwcucZO4HFBQSAOoMAAQIECBAgQKBWgcj771prMsS8BIBDqLumOwD1AAECRQkIAIsqh8EQIECAAAECBAi0KCAAbBEz8KkEgIGLF3nokRcgdwBG7jxjJ7C4gABQZxAgQIAAAQIECNQqEHn/XWtNhpiXAHAIddd0B6AeIECgKAEBYFHlMBgCBAgQIECAAIEWBQSALWIGPpUAMHDxIg898gLkDsDInWfsBBYXEADqDAIECBAgQIAAgVoFIu+/a63JEPMSAA6h7pruANQDBAgUJSAALKocBkOAAAECBAgQINCigACwRczApxIABi5e5KFHXoDcARi584ydwOICAkCdQYAAAQIECBAgUKtA5P13rTUZYl4CwCHUXdMdgHqAAIGiBASARZXDYAgQIECAAAECBFoUEAC2iBn4VALAwMWLPPTIC5A7ACN3nrETWFxAAKgzCBAgQIAAAQIEahWIvP+utSZDzEsAOIS6a7oDUA8QIFCUgACwqHIYDAECBAgQIECAQIsCAsAWMQOfSgAYuHiRhx55AXIHYOTOM3YCiwsIAHUGAQIECBAgQIBArQKR99+11mSIeQkAh1B3TXcA6gECBIoSEAAWVQ6DIUCAAAECBAgQaFFAANgiZuBTCQADFy/y0CMvQO4AjNx5xk5gcQEBoM4gQIAAAQIECBCoVSDy/rvWmgwxLwHgEOqu6Q5APUCAQFECAsCiymEwBAgQIECAAAECLQoIAFvEDHwqAWDg4kUeeuQFyB2AkTvP2AksLiAA1BkECBAgQIAAAQK1CkTef9dakyHmJQAcQt013QGoBwgQKEpAAFhUOQyGAAECBAgQIECgRQEBYIuYgU8lAAxcvMhDj7wAuQMwcucZO4HFBQSAOoMAAQIECBAgQKBWgcj771prMsS8BIBDqLumOwD1AAECRQkIAIsqh8EQIECAAAECBAi0KCAAbBEz8KkEgIGLF3nokRcgdwBG7jxjJ7C4gABQZxAgQIAAAQIECNQqEHn/XWtNhpiXAHAIddd0B6AeIECgKAEBYFHlMBgCBAgQIECAAIEWBQSALWIGPpUAMHDxIg898gLkDsDInWfsBBYXEADqDAIECBAgQIAAgVoFIu+/a63JEPMSAA6h7pruANQDBAgUJSAALKocBkOAAAECBAgQINCigACwRczApxIABi5e5KFHXoDcARi584ydwOICAkCdQYAAAQIECBAgUKtA5P13rTUZYl4CwCHUXdMdgHqAAIGiBASARZXDYAgQIECAAAECBFoUEAC2iBn4VALAwMWLPPTIC5A7ACN3nrETWFxAAKgzCBAgQIAAAQIEahWIvP+utSZDzEsAOIS6a7oDUA8QIFCUgACwqHIYDAECBAgQIECAQIsCAsAWMQOfSgAYuHiRhx55AXIHYOTOM3YCiwsIAHUGAQIECBAgQIBArQKR99+11mSIeQkAh1B3TXcA6gECBIoSEAAWVQ6DIUCAAAECBAgQaFFAANgiZuBTCQADFy/y0CMvQO4AjNx5xk5gcQEBoM4gQIAAAQIECBCoVSDy/rvWmgwxLwHgEOqu6Q5APUCAQFECAsCiymEwBAgQIECAAAECLQoIAFvEDHwqAWDg4kUeeuQFyB2AkTvP2AksLiAA1BkECBAgQIAAAQK1CkTef9dakyHmJQAcQt013QGoBwgQKEpAAFhUOQyGAAECBAgQIECgRQEBYIuYgU8lAAxcvMhDj7wAuQMwcucZO4HFBQSAOoMAAQIECBAgQKBWgcj771prMsS8BIBDqLumOwD1AAECRQkIAIsqh8EQIECAAAECBAi0KCAAbBEz8KkEgIGLF3nokRcgdwBG7jxjJ7C4gABQZxAgQIAAAQIECNQqEHn/XWtNhpiXAHAIddd0B6AeIECgKAEBYFHlMBgCBAgQIECAAIEWBQSALWIGPpUAMHDxIg898gLkDsDInWfsBBYXEADqDAIECBAgQIAAgVoFIu+/a63JEPMSAA6h7pruANQDBAgUJSAALKocBkOAAAECBAgQINCigACwRczApxIABi5e5KFHXoDcARi584ydwOICAkCdQYAAAQIECBAgUKtA5P13rTUZYl4CwCHUXdMdgHqAAIGiBASARZXDYAgQIECAAAECBFoUEAC2iBn4VALAwMWLPPTIC5A7ACN3nrETWFxAAKgzCBAgQIAAAQIEahWIvP+utSZDzEsAOIS6a7oDUA8QIFCUgACwnXL4A0k7jvqxHUdnIUCAAAECBH4nIADUCVlAAKgPBhGIvADZ4A7SMi5KoFMBgUs7vNbHdhz1YzuOzkKAAAECBAgIAPXAjQICQN0wiIAAcBB2FyVAYAkBgUs7rSEAbMdRP7bj6CwECBAgQICAAFAPCAD1wMACAsCBC+DyBAgQIFCsgACw2NIYGAECBAgQCCkQef8dErzQQbsDsNDC1D6syAuQO1xq707zI0CAwLACAsBh/V2dAAECBAjUJhB5/11bLYacjwBwSP0RXzvyAiQAHHHjmjoBAgR6EBAA9oDsEgQIECBAYEQCkfffIypT51MVAHZO7AKLCURegASAepoAAQIEuhQQAHap69wECBAgQGB8ApH33+OrVnczFgB2Z+vMywhEXoAEgFqbAAECBLoUEAB2qevcBAgQIEBgfAKR99/jq1Z3MxYAdmfrzAJAPUCAAAECBGYWEADOTOYNBAgQIECAQKX7b4VtT0AA2J6lM80gEPkvEO4AnKHQDiVAgACBmQUEgDOTeQMBAgQIECAgANQDEwQEgFpkEAEB4CDsLkqAAAECAQQEgAGKZIgECBAgQCCQQOT9dyDm4ocqACy+RHUOMPIC5A7AOnvSrAgQIFCKgACwlEoYBwECBAgQqEMg8v67jgqUMQsBYBl1GN0oIi9AAsDRtasJEyBAoFcBAWCv3C5GgAABAgSqF4i8/66+OD1OUADYI7ZL3SgQeQESAOpkAgQIEOhSQADYpa5zEyBAgACB8QlE3n+Pr1rdzVgA2J2tMy8jEHkBEgBqbQIECBDoUkAA2KWucxMgQIAAgfEJRN5/j69a3c1YANidrTMLAPUAAQIECBCYWUAAODOZNxAgQIAAAQKV7r8Vtj0BAWB7ls40g0Dkv0C4A3CGQjuUAAECBGYWEADOTOYNBAgQIECAgABQD0wQEABqkUEEBICDsLsoAQIECAQQEAAGKJIhEiBAgACBQAKR99+BmIsfqgCw+BLVOcDIC5A7AOvsSbMiQIBAKQICwFIqYRwECBAgQKAOgcj77zoqUMYsBIBl1GF0o4i8AAkAR9euJkyAAIFeBQSAvXK7GAECBAgQqF4g8v67+uL0OEEBYI/YLnWjQOQFSACokwkQIECgSwEBYJe6zk2AAAECBMYnEHn/Pb5qdTdjAWB3ts68jEDkBUgAqLUJECBAoEsBAWCXus5NgAABAgTGJxB5/z2+anU3YwFgd7bOLADUAwQIECBAYGYBAeDMZN5AgAABAgQIVLr/Vtj2BASA7Vk60wwCkf8C4Q7AGQrtUAIECBCYWUAAODOZNxAgQIAAAQICQD0wQUAAqEUGERAADsLuogQIECAQQEAAGKBIhkiAAAECBAIJRN5/B2IufqgCwOJLVOcAIy9A7gCssyfNigABAqUICABLqYRxECBAgACBOgQi77/rqEAZsxAAllGH0Y0i8gIkABxdu5owAQIEehUQAPbK7WIECBAgQKB6gcj77+qL0+MEBYA9YrvUjQKRFyABoE4mQIAAgS4FBIBd6jo3AQIECBAYn0Dk/ff4qtXdjAWA3dk68zICkRcgAaDWJkCAAIEuBQSAXeo6NwECBAgQGJ9A5P33+KrV3YwFgN3ZOrMAUA8QIECAAIGZBQSAM5N5AwECBAgQIFDp/lth2xMQALZn6UwzCET+C4Q7AGcotEMJECBAYGYBAeDMZN5AgAABAgQICAD1wAQBAaAWGURAADgIu4sSIECAQAABAWCAIhkiAQIECBAIJBB5/x2IufihCgCLL1GdA4y8ALkDsM6eNCsCBAiUIiAALKUSxkGAAAECBOoQiLz/rqMCZcxCAFhGHUY3isgLkABwdO1qwgQIEOhVQADYK7eLESBAgACB6gUi77+rL06PExQA9ojtUjcKRF6ABIA6mQABAgS6FBAAdqnr3AQIECBAYHwCkfff46tWdzMWAHZn68zLCERegASAWpsAAQIEuhQQAHap69wECBAgQGB8ApH33+OrVnczFgB2Z+vMAkA9QIAAAQIEZhYQAM5M5g0ECBAgQIBApftvhW1PQADYnqUzzSAQ+S8Q7gCcodAOJUCAAIGZBQSAM5N5AwECBAgQICAA1AMTBASAWmQQAQHgIOwuSoAAAQIBBASAAYpkiAQIECBAIJBA5P13IObihyoALL5EdQ4w8gLkDsA6e9KsCBAgUIqAALCUShgHAQIECBCoQyDy/ruOCpQxCwFgGXUY3SgiL0ACwNG1qwkTIECgVwEBYK/cLkaAAAECBKoXiLz/rr44PU5QANgjtkvdKBB5ARIA6mQCBAgQ6FJAANilrnMTIECAAIHxCUTef4+vWt3NWADYna0zLyMQeQESAGptAgQIEOhSQADYpa5zEyBAgACB8QlE3n+Pr1rdzVgA2J2tMwsA9QABAgQIEJhZQAA4M5k3ECBAgAABApXuvxW2PQEBYHuWzjSDQOS/QLgDcIZCO5QAAQIEZhYQAM5M5g0ECBAgQICAAFAPTBAQAGqRQQQEgIOwuygBAgQIBBAQAAYokiESIECAAIFAApH334GYix+qALD4EtU5wMgLkDsA6+xJsyJAgEApAgLAUiphHAQIECBAoA6ByPvvOipQxiwEgGXUYXSjiLwACQBH164mTIAAgV4FBIC9crsYAQIECBCoXiDy/rv64vQ4QQFgj9gudaNA5AVIAKiTCRAgQKBLAQFgl7rOTYAAAQIExicQef89vmp1N2MBYHe2zryMQOQFSACotQkQIECgSwEBYJe6zk2AAAECBMYnEHn/Pb5qdTdjAWB3ts4sANQDBAgQIEBgZgEB4Mxk3kCAAAECBAhUuv9W2PYEBIDtWTrTDAKR/wLhDsAZCu1QAgQIEJhZQAA4M5k3ECBAgAABAgJAPTBBQACoRQYREAAOwu6iBAgQIBBAQAAYoEiGSIAAAQIEAglE3n8HYi5+qALA4ktU5wAjL0DuAKyzJ82KAAECpQgIAEuphHEQIECAAIE6BCLvv+uoQBmzEACWUYfRjSLyAiQAHF27mjABAgR6FRAA9srtYgQIECBAoHqByPvv6ovT4wQFgD1iu9SNApEXIAGgTiZAgACBLgUEgF3qOjcBAgQIEBifQOT99/iq1d2MBYDd2TrzMgKRFyABoNYmQIAAgS4FBIBd6jo3AQIECBAYn0Dk/ff4qtXdjAWA3dk6swBQDxAgQIAAgZkFBIAzk3kDAQIECBAgUOn+W2HbExAAtmfpTDMIRP4LhDsAZyi0QwkQIEBgZgEB4Mxk3kCAAAECBAgIAPXABAEBoBYZREAAOAi7ixIgQIBAAAEBYIAiGSIBAgQIEAgkEHn/HYi5+KEKAIsvUZ0DjLwAuQOwzp40KwIECJQiIAAspRLGQYAAAQIE6hCIvP+uowJlzEIAWEYdRjeKyAuQAHB07WrCBAgQ6FVAANgrt4sRIECAAIHqBSLvv6svTo8TFAD2iO1SNwpEXoAEgDqZAAECBLoUEAB2qevcBAgQIEBgfAKR99/jq1Z3MxYAdmfrzMsIRF6ABIBamwABAgS6FBAAdqnr3AQIECBAYHwCkfff46tWdzMWAHZn68wCQD1AgAABAgRmFhAAzkzmDQQIECBAgECl+2+FbU9AANiepTPNIBD5LxDuAJyh0A4lQIAAgZkFBIAzk3kDAQIECBAgIADUAxMEBIBaZBABAeAg7C5KgAABAgEEBIABimSIBAgQIEAgkEDk/Xcg5uKHKgAsvkQ3HeDNbnazqUb80Ic+NJ155pnLHvuJT3winXzyyem8885Ll19+edpiiy3Srrvuml70ohelxzzmMVNdZ6UHRV6A3AG40qp7HwECBAhMIyAAnEbJMQQIECBAgMC0ApH339PO0XGTBQSAk42KOqKNAPCGG25IBx10UBP+LfXKIeBJJ52Upr3erEiRFyAB4KzVdjwBAgQIzCIgAJxFy7EECBAgQIDAJIHI++9Jc/Pz6QUEgNNbFXHkXCD34he/OB188MFLjmnTTTdNd7/73Rf9+RFHHJGOOeaY5mc77bRTOvTQQ9N2222XLrnkknTccceltWvXNj/Lxx199NGdzDvyAiQA7KQlnJQAAQIE/r+AAFArECBAgAABAm0KRN5/t+kw9nMJAIN1wFwAeNRRR6XXvOY1M4/+4osvTve5z33Sddddl3beeed09tlnp4033nj+PNdcc03KHx++4IIL0oYbbpguuuiiJhxs+xV5ARIAtt0NzkeAAAECCwUEgPqBAAECBAgQaFMg8v67TYexn0sAGKwDVhsAvuQlL0lvf/vbm1mfe+65abfddltPYM2aNWn33Xdv/v1LX/rS9Na3vrV1pcgLkACw9XZwQgIECBBYICAA1A4ECBAgQIBAmwKR999tOoz9XALAYB2wmgAwP/tvm222ST/4wQ/Sve9973ThhRcuOfv882984xtp6623Tt///vdbfxZg5AVIABjs/2gMlwABAsEEBIDBCma4BAgQIECgcIHI++/CaUMNTwAYqlxpPohbyUeAv/3tb89/nPfAAw9svuRjqVf++dyXhOT3LfU8wZXyRV6ABIArrbr3ESBAgMA0AgLAaZQcQ4AAAQIECEwrEHn/Pe0cHTdZQAA42aioI+buALzvfe/bPMcv352Xn9V3pzvdKe2xxx7pec97Xtprr70WHfPpp5+eHvvYxzY/e9Ob3pRe/vKXLzm3/PNDDjmk+Xl+37777tuqQ+QFSADYais4GQECBAisIyAA1BIECBAgQIBAmwKR999tOoz9XALAYB0wFwAuN+wnPvGJ6T3veU+6zW1uc5PD8h1/+duD8+uDH/xgespTnrjL8E8AACAASURBVLLkaT70oQ+l/fffv/l5fl++I3CWV15glnv96Ec/SrvuumtzyKWXXtp81DjKSwAYpVLGSYAAgZgCAsCYdTNqAgQIECBQqoAAsNTK9DsuAWC/3qu+2qabbpoe//jHp0c84hHNc/w222yzdPnll6ezzjqrCequvPLK5hr5m3w//elPp4022mj+mscff3w69NBDm//98Y9/PD3mMY9Zcjz553N3/b3xjW9Mr3jFK2Ya+zRB5dwJBYAz0TqYAAECBCoXEABWXmDTI0CAAAECPQsIAHsGL/RyAsBCC7PUsK666qq0+eabL/rjyy67LO2zzz5p7dq1zc9PPPHE9LKXvWz+2Ne97nXpyCOPbP73Zz/72fTwhz98ydl/7nOfa0LG/Mrve/WrXz2TlABwJi4HEyBAgACBeQEBoGYgQIAAAQIE2hQQALapGfdcAsC4tVt05PkLO+5zn/uk3/zmN2n77bdP3/rWt+aP6/MOQB8BrqyxTIcAAQIEehMQAPZG7UIECBAgQGAUAgLAUZR54iQFgBOJ4h2Qv+gjf3FHfv3gBz9IW221VfPPfT4DcJJa5AXIMwAnVdfPCRAgQGA1AgLA1eh5LwECBAgQILCuQOT9t2q2JyAAbM+ymDPl5/zlu/3y67zzzku77LJL88+nnXZaetzjHtf8s28BXnm5BIArt/NOAgQIEJgsIACcbOQIAgQIECBAYHoBAeD0VjUfKQCssLqvfOUrU/7ijnUDwPzx4O2226759/lbffMdgUu98s9PPvnk5sf5fXe/+91blYq8AAkAW20FJyNAgACBdQQEgFqCAAECBAgQaFMg8v67TYexn0sAWGEH7LfffumMM85oZpb/D/0ud7lL88833HBD2nrrrdMPf/jD5huEL7zwwiVnn58jeNFFFzXvzd/SO8uXekxDGnkBEgBOU2HHECBAgMBKBQSAK5XzPgIECBAgQGAxgcj7bxVtT0AA2J5lEWfKd+vlcO+3v/1tusc97pEuueSSm4zr4IMPTu94xzuaf3fuueem3Xbbbb1xr1mzJu2+++7Nv8/Hv+1tb2t9bpEXIAFg6+3ghAQIECCwQEAAqB0IECBAgACBNgUi77/bdBj7uQSAgTrg1FNPTfvss0/acMMNFx31ZZdd1vx87dq1zc9POOGEdMghh9zk2G9+85vpfve7X7ruuuvSzjvvnM4+++y08cYbzx9z7bXXpj333DNdcMEFzXW+/vWvp3ve856tK0VegASArbeDExIgQICAAFAPECBAgAABAh0JRN5/d0QyytMKAAOVfdttt23u7Hvyk5/c3KGX/3cO76644op05plnNs/0u/LKK5sZPfjBD06f+cxn0i1vecv1ZnjYYYelY489tvn3O+20U3rVq17VPBsw3y34hje8YT5AzMcdc8wxnQhFXoAEgJ20hJMSIECAwP8XcAegViBAgAABAgTaFIi8/27TYeznEgAG6oAc+H3ve9+bOOIcEJ5yyilp8803X/TY66+/Pr3whS9M73rXu5Y81wEHHNB8CcgGG2ww8XorOSDyAiQAXEnFvYcAAQIEphUQAE4r5TgCBAgQIEBgGoHI++9p5ueY6QQEgNM5FXHUWWedlfL/y8/uy8/6y3f+XX311WmzzTZL22yzTdpjjz3Sc5/73Pnn900adP6ikBzynX/++c257nCHO6Rddtml+Ybg/FHiLl+RFyABYJed4dwECBAgIADUAwQIECBAgECbApH33206jP1cAsCxd8BA84+8AAkAB2oalyVAgMBIBASAIym0aRIgQIAAgZ4EIu+/eyIaxWUEgKMoc3mTjLwACQDL6ycjIkCAQE0CAsCaqmkuBAgQIEBgeIHI++/h9eoZgQCwnlqGmknkBUgAGKrVDJYAAQLhBASA4UpmwAQIECBAoGiByPvvomGDDU4AGKxgtQw38gIkAKylC82DAAECZQoIAMusi1ERIECAAIGoApH331HNSxy3ALDEqoxgTJEXIAHgCBrUFAkQIDCggABwQHyXJkCAAAECFQpE3n9XWI7BpiQAHIx+3BeOvAAJAMfdu2ZPgACBrgUEgF0LOz8BAgQIEBiXQOT997gq1e1sBYDd+jr7EgKRFyABoLYmQIAAgS4FBIBd6jo3AQIECBAYn0Dk/ff4qtXdjAWA3dk68zICkRcgAaDWJkCAAIEuBQSAXeo6NwECBAgQGJ9A5P33+KrV3YwFgN3ZOrMAUA8QIECAAAECAwkIUgeCd1kCBAgQKE5AAFhcSQYZkABwEHYXjbwAuQNQ/xIgQIAAgfIFBIDl18gICRAgQKAfgcj7736ExnEVAeA46lzcLCMvQALA4trJgAgQIECAwHoCAkBNQYAAAQIEficQef+thu0JCADbs3SmGQQiL0ACwBkK7VACBAgQIDCQgABwIHiXJUCAAIHiBCLvv4vDDDwgAWDg4kUeeuQFSAAYufOMnQABAgTGIiAAHEulzZMAAQIEJglE3n9PmpufTy8gAJzeypEtCkRegASALTaCUxEgQIAAgY4EBIAdwTotAQIECIQTiLz/Dodd8IAFgAUXp+ahRV6ABIA1d6a5ESBAgEAtAgLAWippHgQIECCwWoHI++/Vzt37bxQQAOqGQQQiL0ACwEFaxkUJECBAgMBMAgLAmbgcTIAAAQIVC0Tef1dclt6nJgDsndwFs0DkBUgAqIcJECBAgED5AgLA8mtkhAQIECDQj0Dk/Xc/QuO4igBwHHUubpaRFyABYHHtZEAECBAgQGA9AQGgpiBAgAABAr8TiLz/VsP2BASA7Vk60wwCkRcgAeAMhXYoAQIECBAYSEAAOBC8yxIgQIBAcQKR99/FYQYekAAwcPEiDz3yAiQAjNx5xk6AAAECYxEQAI6l0uZJgAABApMEIu+/J83Nz6cXEABOb+XIFgUiL0ACwBYbwakIECBAgEBHAgLAjmCdlgABAgTCCUTef4fDLnjAAsCCi1Pz0CIvQALAmjvT3AgQIECgFgEBYC2VNA8CBAgQWK1A5P33aufu/TcKCAB1wyACkRcgAeAgLeOiBAgQIEBgJgEB4ExcDiZAgACBigUi778rLkvvUxMA9k7uglkg8gIkANTDBAgQIECgfAEBYPk1MkICBAgQ6Ecg8v67H6FxXEUAOI46FzfLyAuQALC4djIgAgQIECCwnoAAUFMQIECAAIHfCUTef6thewICwPYsnWkGgcgLkABwhkI7lAABAgQIDCQgABwI3mUJECBAoDiByPvv4jADD0gAGLh4kYceeQESAEbuPGMnQIAAgbEICADHUmnzJECAAIFJApH335Pm5ufTCwgAp7dyZIsCkRcgAWCLjeBUBAgQIECgIwEBYEewTkuAAAEC4QQi77/DYRc8YAFgwcWpeWiRFyABYM2daW4ECBAgUIuAALCWSpoHAQIECKxWIPL+e7Vz9/4bBQSAumEQgcgLkABwkJZxUQIECBAgMJOAAHAmLgcTIECAQMUCkfffFZel96kJAHsnd8EsEHkBEgDqYQIECBAgUL6AALD8GhkhAQIECPQjEHn/3Y/QOK4iABxHnYubZeQFSABYXDsZEAECBAgQWE9AAKgpCBAgQIDA7wQi77/VsD0BAWB7ls40g0DkBUgAOEOhHUqAAAECBAYSEAAOBO+yBAgQIFCcQOT9d3GYgQckAAxcvMhDj7wACQAjd56xEyBAgMBYBASAY6m0eRIgQIDAJIHI++9Jc/Pz6QUEgNNbObJFgcgLkACwxUZwKgIECBAg0JGAALAjWKclQIAAgXACkfff4bALHrAAsODi1Dy0yAuQALDmzjQ3AgQIEKhFQABYSyXNgwABAgRWKxB5/73auXv/jQICQN0wiEDkBUgAOEjLuCgBAgQIEJhJQAA4E5eDCRAgQKBigcj774rL0vvUBIC9k7tgFoi8AAkA9TABAgQIECAwFgFB6lgqbZ4ECNQsEHn/XXNd+p6bALBvcddrBCIvQAJATUyAAAECBAiMRUAAOJZKmycBAjULRN5/11yXvucmAOxb3PUEgHqAAAECBAgQIBBEQAAYpFCGSYAAgWUEBIDaIwsIAPXBIAKRFyB3AA7SMi5KgAABAgQIDCAgABwA3SUJECDQskDk/XfLFKM+nQBw1OUfbvKRFyAB4HB948oECBAgQIBAvwICwH69XY0AAQJdCETef3fhMdZzCgDHWvmB5x15ARIADtw8Lk+AAAECBAj0JiAA7I3ahQgQINCZQOT9d2coIzyxAHCERS9hypEXIAFgCR1kDAQIECBAgEAfAgLAPpRdgwABAt0KRN5/dyszrrMLAMdV72JmG3kBEgAW00YGQoAAAQIECHQsIADsGNjpCRAg0INA5P13DzyjuYQAcDSlLmuikRcgAWBZvWQ0BAgQIECAQHcCAsDubJ2ZAAECfQlE3n/3ZTSG6wgAx1DlAucYeQESABbYUIZEgAABAgQIdCIgAOyE1UkJECDQq0Dk/XevUJVfTABYeYFLnV7kBUgAWGpXGRcBAgQIECDQtoAAsG1R5yNAgED/ApH33/1r1XtFAWC9tS16ZpEXIAFg0a1lcAQIECBAgECLAgLAFjGdigABAgMJRN5/D0RW5WUFgFWWtfxJRV6ABIDl95cREiBAgAABAu0ICADbcXQWAgQIDCkQef89pFtt1xYA1lbRIPOJvAAJAIM0mWESIECAAAECqxYQAK6a0AkIECAwuEDk/ffgeBUNQABYUTEjTSXyAiQAjNRpxkqAAAECBAisRkAAuBo97yVAgEAZApH332UI1jEKAWAddQw3i8gLkAAwXLsZMAECBAgQILBCAQHgCuG8jQABAgUJRN5/F8QYfigCwPAljDmByAuQADBmzxk1AQIECBAgMLuAAHB2M+8gQIBAaQKR99+lWUYejwAwcvUCjz3yAiQADNx4hk6AAAECBAjMJCAAnInLwQQIEChSIPL+u0jQoIMSAAYtXPRhR16ABIDRu8/4CRAgQIAAgWkFBIDTSjmOAAEC5QpE3n+XqxpvZALAeDWrYsSRFyABYBUtaBIECBAgQIDAFAICwCmQHEKAAIHCBSLvvwunDTU8AWCoctUz2MgLkACwnj40EwIECBAgQGB5AQGgDiFAgEB8gcj77/j65cxAAFhOLUY1ksgLkABwVK1qsgQIECBAYNQCAsBRl9/kCRCoRCDy/ruSEhQxDQFgEWUY3yAiL0ACwPH1qxkTIECAAIGxCggAx1p58yZAoCaByPvvmuow9FwEgENXYKTXj7wACQBH2rSmTYAAAQIERiggABxh0U2ZAIHqBCLvv6srxoATEgAOiD/mS0degASAY+5ccydAgAABAuMSEACOq95mS4BAnQKR9991VmSYWQkAh3Ef/VUjL0ACwNG3LwACBAgQIDAaAQHgaEptogQIVCwQef9dcVl6n5oAsHdyF8wCkRcgAaAeJkCAAAECBMYiIAAcS6XNkwCBmgUi779rrkvfcxMA9i3ueo1A5AVIAKiJCRAgQIAAgbEICADHUmnzJECgZoHI+++a69L33ASAfYu7ngBQDxAgQIAAAQIEgggIAIMUyjAJECCwjIAAUHtkAQGgPhhEIPIC5A7AQVrGRQkQIECAAIEBBASAA6C7JAECBFoWiLz/bpli1KcTAI66/MNNPvICJAAcrm9cmQABAgQIEOhXQADYr7erESBAoAuByPvvLjzGek4B4FgrP/C8Iy9AAsCBm8flCRAgQIAAgd4EBIC9UbsQAQIEOhOIvP/uDGWEJxYAjrDoJUw58gIkACyhg4yBAAECBAgQ6ENAANiHsmsQIECgW4HI++9uZcZ1dgHguOpdzGwjL0ACwGLayEAIECBAgACBjgUEgB0DOz0BAgR6EIi8/+6BZzSXEACOptRlTTTyAiQALKuXjIYAAQIECBDoTkAA2J2tMxMgQKAvgcj7776MxnAdAeAYqlzgHCMvQALAAhvKkAgQIECAAIFOBASAnbA6KQECBHoViLz/7hWq8osJACsvcKnTi7wACQBL7SrjIkCAAAECBNoWEAC2Lep8BAgQ6F8g8v67f616rygArLe2Rc8s8gIkACy6tQyOAAECBAgQaFFAANgiplMRIEBgIIHI+++ByKq8rACwyrKWP6nIC5AAsPz+MkICBAgQIECgHQEBYDuOzkKAAIEhBSLvv4d0q+3aAsDaKhpkPpEXIAFgkCYzTAIECBAgQGDVAgLAVRM6AQECBAYXiLz/HhyvogEIACsqZqSpRF6ABICROs1YCRAgQIAAgdUICABXo+e9BAgQKEMg8v67DME6RiEArKOO4WYReQESAIZrNwMmQIAAAQIEViggAFwhnLcRIECgIIHI+++CGMMPRQAYvoQxJxB5ARIAxuw5oyZAgAABAgQIDCUgSB1K3nUJEMgCkfffKtiegACwPUtnmkEg8gIkAJyh0A4lQIAAAQIECBBIAkBNQIDAkAKR999DutV2bQFgbRUNMp/IC5AAMEiTGSYBAgQIECBAoBABAWAhhTAMAiMViLz/HmnJOpm2ALATViedJBB5ARIATqqunxMgQIAAAQIECCwUEADqBwIEhhSIvP8e0q22awsAa6tokPlEXoAEgEGazDAJECBAgAABAoUICAALKYRhEBipQOT990hL1sm0BYCdsDrpJIHIC5AAcFJ1/ZwAAQIECBAgQGChgABQPxAgMKRA5P33kG61XVsAWFtFg8wn8gIkAAzSZIZJgAABAgQIEChEQABYSCEMg8BIBSLvv0dask6mLQDshNVJJwlEXoAEgJOq6+cECBAgQIAAAQILBQSA+oEAgSEFIu+/h3Sr7doCwNoqGmQ+kRcgAWCQJjNMAgQIECBAgEAhAgLAQgphGARGKhB5/z3SknUybQFgJ6xOOkkg8gIkAJxUXT8nQIAAAQIECBBYKCAA1A8ECAwpEHn/PaRbbdcWANZW0SDzibwACQCDNJlhEiBAgAABAgQKERAAFlIIwyAwUoHI+++RlqyTaQsAO2F10kkCkRcgAeCk6vo5AQIECBAgQIDAQgEBoH4gQGBIgcj77yHdaru2ALC2igaZT+QFSAAYpMkMkwABAgQIECBQiIAAsJBCGAaBkQpE3n+PtGSdTFsA2Amrk04SiLwACQAnVdfPCRAgQIAAAQIEFgoIAPUDAQJDCkTefw/pVtu1BYC1VTTIfCIvQALAIE1mmAQIECBAgACBQgQEgIUUwjAIjFQg8v57pCXrZNoCwE5YnXSSQOQFSAA4qbp+ToAAAQIECBAgsFBAAKgfCBAYUiDy/ntIt9quLQCsraJB5hN5ARIABmkywyRAgAABAgQIFCIgACykEIZBYKQCkfffIy1ZJ9MWAHbC6qSTBCIvQALASdX1cwIECBAgQIAAgYUCAkD9QIDAkAKR999DutV2bQFgbRUNMp/IC5AAMEiTGSYBAgQIECBAoBABAWAhhTAMAiMViLz/HmnJOpm2ALATViedJBB5ARIATqqunxMgQIAAAQIECBBoX0CQ2r6pM45DIPL+exwV6meWAsB+nF1lHYHIC5AAUDsTIECAAAECBAgQ6F9AANi/uSvWIRB5/11HBcqYhQCwjDqMbhSRFyAB4Oja1YQJECBAgAABAgQKEBAAFlAEQwgpEHn/HRK80EELAAstTO3DirwACQBr707zI0CAAAECBAgQKFFAAFhiVYwpgkDk/XcE3yhjFABGqVRl44y8AAkAK2tG0yFAgAABAgQIEAghIAAMUSaDLFAg8v67QM6wQxIAhi1d7IFHXoAEgLF7z+gJECBAgAABAgRiCggAY9bNqIcXiLz/Hl6vnhEIAOupZaiZRF6ABIChWs1gCRAgQIAAAQIEKhEQAFZSSNPoXSDy/rt3rIovKACsuLglTy3yAiQALLmzjI0AAQIECBAgQKBWAQFgrZU1r64FIu+/u7YZ0/kFgGOqdkFzjbwACQALaiRDIUCAAAECBAgQGI2AAHA0pTbRlgUi779bphj16QSAoy7/cJOPvAAJAIfrG1cmQIAAAQIECBAYr4AAcLy1N/PVCUTef69u5t69UEAAqB8GEYi8AAkAB2kZFyVAgAABAgQIECBAoAUBQWoLiMFOEXn/HYy66OEKAIsuT72Di7wACQDr7UszI0CAAAECBAgQIFC7gACw9gqvP7/I++/xVau7GQsAu7N15mUEIi9AAkCtTYAAAQIECBAgQIBAVAEBYNTKrXzckfffK5+1d64rIADUE4MIRF6ABICDtIyLEiBAgAABAgQIECDQgoAAsAXEYKeIvP8ORl30cAWARZen3sFFXoAEgPX2pZkRIECAAAECBAgQqF1AAFh7hdefX+T99/iq1d2MBYDd2TrzMgKRFyABoNYmQIAAAQIECBAgQCCqgAAwauVWPu7I+++Vz9o71xUQAOqJQQQiL0ACwEFaxkUJECBAgAABAgQIEGhBQADYAmKwU0TefwejLnq4AsCiy1Pv4CIvQALAevvSzAgQIECAAAECBAjULiAArL3C688v8v57fNXqbsYCwO5snXkZgcgLkABQaxMgQIAAAQIECBAgEFVAABi1cisfd+T998pn7Z3rCggA9cQgApEXIAHgIC3jogQIECBAgAABAgQItCAgAGwBMdgpIu+/g1EXPVwBYNHlqXdwkRcgAWC9fWlmBAgQIECAAAECBGoXEADWXuH15xd5/z2+anU3YwFgd7bOvIxA5AVIAKi1CRAgQIAAAQIECBCIKiAAjFq5lY878v575bP2znUFBIB6YhCByAuQAHCQlnFRAgQIECBAgAABAgRaEBAAtoAY7BSR99/BqIsergCw6PLUO7jIC5AAsN6+NDMCBAgQIECAAAECtQsIAGuv8Przi7z/Hl+1upuxALA7W2deRiDyAiQA1NoECBAgQIAAAQIECEQVEABGrdzKxx15/73yWXvnugICQD0xiEDkBUgAOEjLuCgBAgQIECBAgAABAi0ICABbQAx2isj772DURQ9XAFh0eeodXOQFSABYb1+aGQECBAgQIECAAIHaBQSAtVd4/flF3n+Pr1rdzVgA2J2tMy8jEHkBEgBqbQIECBAgQIAAAQIEogoIAKNWbuXjjrz/XvmsvXNdAQGgnhhEIPICJAAcpGVclAABAgQIECBAgACBFgQEgC0gBjtF5P13MOqihysALLo89Q4u8gIkAKy3L82MAAECBAgQIECAQO0CAsDaK7z+/CLvv8dXre5mLADsztaZlxGIvAAJALU2AQIECBAgQIAAAQJRBQSAUSu38nFH3n+vfNbeua6AAFBPDCIQeQESAA7SMi5KgAABAgQIECBAgEALAgLAFhCDnSLy/jsYddHDFQAWXZ56Bxd5ARIA1tuXZkaAAAECBAgQIECgdgEBYO0VXn9+kfff46tWdzMWAHZn68zLCERegASAWpsAAQIECBAgQIAAgagCAsColVv5uCPvv1c+a+9cV0AAqCcGEYi8AAkAB2kZFyVAgAABAgQIECBAoAUBAWALiMFOEXn/HYy66OEKAIsuT72Di7wACQDr7UszI0CAAAECBAgQIFC7gACw9gqvP7/I++/xVau7GQsAu7N15mUEIi9AAkCtTYAAAQIECBAgQIBAVAEBYNTKrXzckfffK5+1d64rIADUE4MIRF6ABICDtIyLEiBAgAABAgQIECDQgoAAsAXEYKeIvP8ORl30cAWARZen3sFFXoAEgPX2pZkRIECAAAECBAgQqF1AAFh7hdefX+T99/iq1d2MBYDd2TrzMgKRFyABoNYmQIAAAQIECBAgQCCqgAAwauVWPu7I+++Vz9o71xUQAOqJQQQiL0ACwEFaxkUJECBAgAABAgQIEGhBQADYAmKwU0TefwejLnq4AsCiy9PP4L7//e+nt7zlLen0009P+Z9vectbpu233z499alPTQcffHDaZJNNWh9I5AVIANh6OzghAQIECBAgQIAAAQI9CQgAe4Iu6DKR998FMYYfigAwfAlXN4Ec+j3zmc9MP/vZzxY90e///u+nM844I93jHvdY3YXWeXfkBUgA2GorOBkBAgQIECBAgAABAj0KCAB7xC7kUpH334UQVjEMAWAVZVzZJL7yla+kPfbYI11zzTVps802S4cddljaa6+90rXXXpve//73p3e+853Nie9973un888/vzmmrVfkBUgA2FYXOA8BAgQIECBAgAABAn0LCAD7Fh/+epH338Pr1TMCAWA9tZx5JjnsO/PMM9OGG26Yzj777LT77rvf5BzHH398OvTQQ5t/99rXvjYdeeSRM19jqTdEXoAEgK21gRMRIECAAAECBAgQINCzgACwZ/ACLhd5/10AXzVDEABWU8rZJpLv6Nt1112bNx144IHppJNOWu8E119/fdphhx3ShRdemG5729umyy67LG200UazXWiJoyMvQALAVlrASQgQIECAAAECBAgQIBBWIFKQGnn/HbZBChy4ALDAovQxpCOOOCIdc8wxzaXWrFmTHvjABy562WOPPbb5aHB+fepTn0p77713K8OLvAAJAFtpASchQIAAAQIECBAgQIBAWAEBYNjSjXbgAsCRln7PPfdM55xzTtp0003TVVdd1XwMeLHXueee2zwnML/yR4DzR4HbeAkA21B0DgIECBAgQIAAAQIECBAYQkAAOIS6a65GQAC4Gr3A791iiy3SFVdckXbcccf05S9/ecmZ/PSnP023u93tmp/vv//+6QMf+EArsxYAtsLoJAQIECBAgAABAgQIECAwgIAAcAB0l1yVgABwVXwx3/yrX/0qbbzxxs3g99tvv3TaaactO5H87b+//OUv02677ZbyHYHTvHLAt9zr0ksvnb+z8Lzzzkt3vvOdpzltEcfsdsxnixiHQRAgQIAAAQIECBAgQIDAMAJrDn/EMBdewVV/9KMfzX8HwHe+85207bbbruAs3hJdQAAYvYIrGP/ll1+ettxyy+adT3va09L73//+Zc9yxzveMf34xz9uvhDkq1/9ck1JKgAAH2FJREFU6lRXvNnNbjbVcQ4iQIAAAQIECBAgQIAAAQIE+hHIN+Dssssu/VzMVYoSEAAWVY5+BpPvvrvrXe/aXOzZz352eu9737vshfOx+T3bbbdduvjii6capABwKiYHESBAgAABAgQIECBAgACB3gQEgL1RF3chAWBxJel+QH3cATjpI8D5Y8gXXXRRyncX5ucRLvUlJN1rTH+FhbdNR/vY8vSzdGQUAf0YpVLjGKd+HEedo8xSP0ap1DjGqR/HUecos9SPUSrV/jivu+66lHOA/Lr//e+fbnWrW7V/EWcsXkAAWHyJ2h9gH88AbH/Uw58x8heXDK9nBG0L6Me2RZ1vNQL6cTV63tu2gH5sW9T5ViOgH1ej571tC+jHtkWdj0AsAQFgrHq1NtqhvwW4tYn0eCK/MHvEdqmJAvpxIpEDehTQjz1iu9REAf04kcgBPQroxx6xXWqigH6cSOQAAlULCACrLu/Sk9tzzz3TOeeckzbddNN01VVXLfkR3Pytv3vssUdzoiOPPDK99rWvHalYSn5hjrb0RU5cPxZZltEOSj+OtvRFTlw/FlmW0Q5KP4629EVOXD8WWRaDItCbgACwN+qyLnT44Yen17/+9c2g1qxZkx74wAcuOsBjjz02HXbYYc3PPvnJT6ZHPepRZU2kx9H4hdkjtktNFNCPE4kc0KOAfuwR26UmCujHiUQO6FFAP/aI7VITBfTjRCIHEKhaQABYdXmXnlz+Eou50O/AAw9MJ5100noHX3/99WmHHXZIF154Ydp8883Tj3/847TRRhuNVMwdgKMtfKET9x9whRZmpMPSjyMtfKHT1o+FFmakw9KPIy18odPWj4UWxrAI9CQgAOwJusTLzH0MOH8D79lnn5123333mwzz+OOPT4ceemjz74466qj0mte8psRp9DYmvzB7o3ahKQT04xRIDulNQD/2Ru1CUwjoxymQHNKbgH7sjdqFphDQj1MgOYRAxQICwIqLO2lqa9euTQ960IPStddemzbbbLOUPxa81157Nf/7/e9/fzr55JObU9zrXvdKF1xwQbr1rW896ZRV/9wvzKrLG25y+jFcyaoesH6surzhJqcfw5Ws6gHrx6rLG25y+jFcyQyYQKsCAsBWOeOd7NRTT03Petaz0tVXX73o4HP4d/rpp6ftt98+3uRaHrFfmC2DOt2qBPTjqvi8uWUB/dgyqNOtSkA/rorPm1sW0I8tgzrdqgT046r4vJlAeAEBYPgSrn4C3/ve99KJJ57YBH35l8ItbnGLJvDbf//900tf+tK0ySabrP4izkCAAAECBAgQIECAAAECBAgQIDCIgABwEHYXJUCAAAECBAgQIECAAAECBAgQINCPgACwH2dXIUCAAAECBAgQIECAAAECBAgQIDCIgABwEHYXJUCAAAECBAgQIECAAAECBAgQINCPgACwH2dXIUCAAAECBAgQIECAAAECBAgQIDCIgABwEHYXJUCAAAECBAgQIECAAAECBAgQINCPgACwH2dXIUCAAAECBAgQIECAAAECBAgQIDCIgABwEHYXJUCAAAECBAgQIECAAAECBAgQINCPgACwH2dXIUCAAAECBAgQIECAAAECBAgQIDCIgABwEHYXJUCAAAECBAgQIECAAAECBAgQINCPgACwH2dXIUCAAAECBAgQIECAAAECBAgQIDCIgABwEHYXHVrgS1/6UvrEJz6RzjnnnPS1r30t/fjHP04bbbRR2mqrrdIee+yRDjjggPSQhzxk6mHmc5188snpvPPOS5dffnnaYost0q677ppe9KIXpcc85jFTn8eB4xO4+uqr0xlnnJHOP//8dMEFF6Qf/OAHTQ9de+21afPNN0/3ve9907777tv05O1vf/uJQOeee256+9vf3vT2//7v/6bb3va2accdd0zPe97z0tOf/vSJ73cAgeUEDj300HT88cfPH/L5z38+PexhD1sWzfqop1YjcLOb3Wyqtz/0oQ9NZ555pl6cSstBbQhcccUV6V3velf66Ec/mi655JL005/+tPk9vc0226Q999wzPelJT0q77777spfyO7uNSozzHPl371lnnTXT5Jf7ne139UyUDiYQVkAAGLZ0Br5SgbxJOPvssye+/dnPfnY65ZRT0i1ucYslj73hhhvSQQcd1IR/S71yCHjSSSelaTcxEwfmgKoEPvOZz6S999574pzucIc7pH/+539Oj370o5c89m/+5m/Sa1/72nT99dcveszjHve49IEPfCDd6la3mng9BxBYV+ArX/lK2nnnndN11103/6PlNhPWRz3UhsC0vzuXCwD1YhuVcI6FAh/84AfTi1/84nTllVcuCfOEJzwh/fu//7vf2VqnE4FZA8ANNtggff/73093uctdbjIe62Mn5XFSAsUKCACLLY2BdSWw/fbbN3+pzXf77b///s2dfne9613T//3f/6X8l9gTTjihuQsrv57xjGekf/3Xf11yKEcccUQ65phjmp/vtNNOKd8ds9122zXnP+6449LatWubn+Xjjj766K6m5LyBBXIA+IIXvCDttdde6Y/+6I+aOwfufOc7NyHe//zP/6QPfehD6SMf+UjTnzmMzncK/sEf/MF6M85h9Qtf+MLm3+cePPzww9P973//9MMf/jCdeOKJKQc1+fXMZz6zCRK9CMwikPtxt912a/pvyy23bO6azq/lAkDr4yzCjl1KYC4AzGHLwQcfvCTUpptumu5+97sv+nO9qL/aFHjve9+bnv/85ze/p/N6mHvzwQ9+cLrd7W7X3Hmf/xvw1FNPTbe5zW1SDgoXe/md3WZFxnmu73znO+mXv/zlspP/+te/np72tKc1x+Q/Nn/qU59a73jr4zj7x6zHKyAAHG/tRzvzxz72sek5z3lOevKTn5xufvObr+eQP9LxoAc9KH3zm99sfpbvFlzs48AXX3xxus997tPcDZPvisnHbbzxxvPnu+aaa1K+IyF/rHPDDTdMF110URPMeBFYKJCDvcX6cOEx+Q6CP/7jP27+Vf5I0Yc//OGbIF511VXNxjf//znM/uIXv5jyHYNzr3yN/P68Icmv/JGR/PEkLwLTCrz5zW9Of/EXf5Hufe97N730+te/vnnrUgGg9XFaWcdNEpgLAI866qj0mte8ZtLh6/1cL85M5g3LCFx44YXNH3x//etfN/9tOBf0LfaW3/zmN4t+isTvbC3Wl8CrXvWq5oaE/Pqnf/qn9KxnPesml7Y+9lUJ1yFQjoAAsJxaGElBAqeddlrKH5fMr5e97GXNHVTrvl7ykpc0z1rLr3znYL47Zt3XmjVr5p//8tKXvjS99a1vLWiWhhJJIIfNOUTOwV5+RuDCV34mW777NL/e9773Lfqsv3w34bbbbtvcSZhD8LkwMJKBsQ4jcOmllzbPovzFL37RBH75OWv5o+b5tVQAaH0cplY1XnW1AaBerLErhpvTIx/5yPTZz362+V2cw8CFf2ybdlR+Z08r5bjVCOQ7VPMfhfOnmjbbbLN02WWXpU022eQmp7Q+rkbYewnEFBAAxqybUXcskDe6t771rZur7LfffikHggtf+XkZ+aOa+ZdqviMm/0fgUq/882984xtp6623bp69Me3zjDqeotMHE8h3meY7+/J/xP385z+/yejzHatf+MIX0u/93u814eBSz63MX0jzyU9+Mt3ylrdM+U7XfC4vApME8h9D8hr43Oc+N73nPe9p7sJaLgC0Pk4S9fNZBFYTAOrFWaQdO0kg/xEu/zEuv/I6mO9KXcnL7+yVqHnPrAKf/vSn06Me9ajmbfmL4N797nfby8yK6HgCFQoIACssqimtXuAnP/nJ/Deu5s3vxz72sZuc9Nvf/vb8x3kPPPDA5ks+lnrln899SUh+31LPKFr9qJ2hVoEcMOfn+eW793IQmJ/DNvfKHzHKz77KH0XPXxCSv8VtqVf+2GZ+NmB+fe5zn2ueO+hFYDmB/KUx+flB+dlWefObv+F8UgBofdRTbQqsJgDUi21Wwrle97rXpSOPPLKB+O///u/mzuj8yt/+m/+oltfJ/C3Ay738ztZHfQnkLzOce+bzYv/NZ33sqxKuQ6AsAQFgWfUwmkIE/u3f/q151lp+vfKVr5x/fsbc8E4//fTmY5T59aY3vSm9/OUvX3Lk+eeHHHJI8/P8vn333beQWRpGyQL5GZL5DtP8Ud38/Jb80Y38WvcZLnkTssMOOzQ/+/M///OUn9W21GthX7/tbW9b9oH6JdsYWz8C+TlV+W6X/FD7d77znelP//RPmwtPCgCtj/3UZyxXmQsAc9iS/9CR76TPz9W9053ulPbYY4/mzpal/pihF8fSJf3MM38i5Iwzzmi+3COHfvlL4vLv5//6r/+aH0D+I2++W/oVr3jFonfZ+53dT63GfpX8Saa8RuYvCckfA/7ud7+73ieQrI9j7xLzH6uAAHCslTfvJQXyMzN23333dN555zXH5Lut8l1XC1/5jr/8rW/5lb/h7SlPecqS58vf4pq/bTi/8vvyHYFeBBYTyB+vzN8suNTrL//yL5vNxsKPkec7/vbZZ5/mLfm5QvmYpV75C2l22WWX5sd/9Vd/Nf9FDqpBYDGBF73oRU3wl0OW//iP/5jvu0kBoPVRP7UpMM1jM574xCc2H0/PwYzf1W3qO9dCgRzu5SBlxx13bL71N/8hbalX/sNcfuTGVlttdZND/M7WU30I/OM//mPzx5H8yt/ye/TRR693Wb+r+6iEaxAoT0AAWF5NjGhggRNOOGE+RMnfdvmRj3xkvREtfIDzxz/+8ZSfrbbUK/987q6/N77xjc1fhb0ILCawVAD4gAc8oAmPH/jAB673thxAP/WpT23+/Tve8Y500EEHLYmbP0o895ElX0qjB5cTyIFf/qbo/A3VX/rSl5qPoM+9JgWA1ke91aZAfsTB4x//+PSIRzyieeZufnZpftZp/jbzvC5eeeWVzeUe+tCHpvzMq4022mj+8nqxzUo4Vw6Yr7766uY5uvlbgDfffPN07LHHNp8Yyc/g/epXv9p8RDj/d19+5T+enHPOOWmDDTaYx/M7Wx/1IZDXy/yx3/zKzyG/173uZS/TB7xrEAggIAAMUCRD7E8gbyjyN7zljxltueWWzcc67njHO643gIXPgcnfBvfwhz98yUHmX8D5F3F+5fe9+tWv7m9CrhRKIH/kMn9bb35de+216ZJLLkn5GWz5o7vbbbdd8/HeuY+ez00sfyT4Oc95TvM//+Ef/iG94AUvWHLOC5/3csABB6RTTjkllI/B9iOQn1GVQ+ccGC/2CIRJAaD1sZ86jeUqeV3MQctir/xohHwH9Nq1a5sfn3jiiellL3vZ/KF6cSxd0s8880fP87N48yv/cST/oWS33Xa7ycXzp0jy7+m5EHDdT4n4nd1PrcZ8lfzfkXe7291S7sXcn+eee+6iHNbHMXeJuY9ZQAA45uqb+00E8nNZHvKQhzTPdcl/3c0f3ch3FCz2cleB5ulTIG8Y8jOF8kfhcsg397GOPAZ3E/RZiXFcay7gy88N+vrXv958yczC16QA0Po4jj4pZZb5Dxv5WZU5uN5+++3Tt771rfmh6cVSqlTHOPLdp/mZavn19Kc/Pb3vfe9bdGILn/OX7w788Ic/PH+c39l19ELJs8h3pR522GHNEJf7ZIj1seQqGhuB7gQEgN3ZOnMgge985zvN81x++MMfNn/Vzf+Blj/+u9TLczMCFbeSoeZvYs13A+Yw5tJLL023ve1tm5l5nlAlBS5kGvmbfvPzrXKY8tGPfrT56OW6r0kBoPWxkGKOaBj5jqv8QPv8yl+eNPfcNb04oiboYap3vvOdmy9Fyq/8jLW5u+8Xu/TWW2/d9OI222zTfHHN3Mvv7B4KNfJL3O9+92v+eJdvZvjRj340/9+L67JYH0feKKY/WgEB4GhLb+JzAjn0y3f+5bsI8h1W+Tlsy/1HXX7faaedlh73uMc1p/AtwHqpD4H8bYPPfOYzm0v9y7/8S/qTP/mT5p+/9rWvzT+fzbcA91GJuq+Rv6To5JNPTve4xz3S3/7t3y462fzFRnN3tPz1X//1/HMl85qYA2rrY909UuLsDj300OZLkPIrf4HX3Jcd6cUSqxV3TLvuumvzxXD5NenxL/nL5NasWdOEML/61a/mJ+13dtz6Rxj5wi97e/KTn5zy7+ulXtbHCBU1RgLtCwgA2zd1xkACV1xxRfMx3/yXsvz6u7/7u/SSl7xk4gwWPkstb5jzX9GWes1tqPPP8/vyt8h5EZhVID/c/lGPelTztmOOOWb+4x35Tq1NNtmkeS7Rox/96OaOwKVer3/969Phhx/e/Dg/m3KvvfaadRiOr1wgf7w839mykle+k3rbbbdt1rn8zMr8sj6uRNJ7ZhXIz6rMX7KVXwsDQL04q6TjlxN4/vOf3/yROL8+9alPpb333nvJw+fCwvxHkV/84hfzx/mdrce6FMjPQH3rW9/aXOJjH/vY/M0Ki13T+thlJZybQLkCAsBya2NkHQv87Gc/a768I3/DZX7lZ2a86lWvmuqqN9xwQ8of78h3D+ZvJcwPy1/qlZ9NlD9Wd5e73KX56Ga+y9CLwKwCC78h+C1veUv6sz/7s/lT5G8azA95zt9CmL8d8xa3uMWip8/fVp2fbZnvSMjH3frWt551GI6vXKCNAND6WHmTFDi9/fbbL51xxhnNyPID8PPv2/zSiwUWK/CQ3v3ud89/0dZyz1bLU7zDHe7QfEN1/vbV/C2sC19+ZwdugoKH/tvf/rZZ+/J/322xxRbNHiV/cc1SL+tjwcU0NAIdCggAO8R16nIFrrnmmuZuqv/8z/9sBnnEEUeko48+eqYBH3zwwc3DdfMrhy/rfhNc/vf54x/5YyD5lY9/29veNtM1HExgTmDhBvfzn/98etjDHjaPc9xxx82H1/mh5Pnh5Ou+8qY4352V7xTcd99955+XRZjArAKTngE4t95ZH2eVdfxKBPJdLPkPcXnzmz+6nr89feHL7+qVqHrPYgI50MvPAcy9lu/+y3cBLvY666yz5n9HH3DAAemUU065yWF+Z+uvLgTyHX9PeMITmlNPeiTM3PWtj11UwjkJlC0gACy7PkbXgUD++EV+VtXcf7hN+0ty3aF885vfTPlBu9ddd13aeeed09lnn5023njj+cOuvfbatOeee6b8PI78F7j8MeN73vOeHczIKSML5Dv7cmB3q1vdaslp5OdMHnLIIc3Pc4iXv+Vy4V91f/KTnzQb33xX693udrf0xS9+Md3+9refP18O/fKX2px66qnNv/Px38gdM/zYpwkArY/D16mGEeQ1a5999lnyLpbLLrus+fnatWub6Z5wwgnza+Xc/PViDZ1QzhwWBiaL/cHt5z//efPffl/+8pebQS/8SPrcLPzOLqeeNY3kKU95yvzzefN/B/7hH/7hxOlZHycSOYBAdQICwOpKakKTBPJDcT/ykY80h+WPAL/5zW9e9mO5+eOU+SMci70OO+yw5qPD+bXTTjs1d2HlZ1/lOxDe8IY3zG9K8nH5uW1eBNYVyIFe3jDkvszfRJ37Z7PNNmv+3Ve/+tXmCz/m7lTNvZi/6fKRj3zkepB///d/nw466KDm3+dz5Lta73//+zcfAck9nu8azK9nPOMZKX+hiBeBlQpMEwDmc1sfVyrsfXMCeX3Md1vl9THfTZ//d/5DW35+75lnntk8fzfflZVfef38zGc+0zziYN2XXtRTbQnkj1fmP/rmb/bNf4jLv3ef9KQnNY/gyL+z83/75ce+5NeLX/zi9Pa3v33RS/ud3VZFnCcL/PSnP23uTv31r3+ddthhh6YXp31ZH6eVchyBOgQEgHXU0SxmEJj1GXz5jqrvfve7i17h+uuvTy984QvTu971riVHkD/+kb9Vc4MNNphhlA4di0De0H7ve9+bON38zMncZ8s9dPyoo45Kr3vd65rnXi32yh/9zd/eutzdhhMH4oDRC0wbAFofR98qqwaYdn3MAWH+mOXmm2/ud/Wq1Z1gkkB+7vPjH//4dPHFFy956Ate8IImoN5oo42WPMbv7EnSfj6tQO61HDjnV/6Ief5ipGlffldPK+U4AnUICADrqKNZzCDQZgA4d9n88PEc8p1//vnNnQn54c+77LJL8w2Y+eNJXgSWEsh3i+a7VvIdenlTkT/Slu9oySHdHe94x/SABzwgPfaxj01PfepTm2/7nfT6whe+0Dxr8pxzzmnOlTfEO+64Y8rfXpjv/vMisFqBaQNA6+Nqpb0/P0st/7/8nN38rL/8+/Xqq69u7pLeZpttUv4yhec+97nzz9qdJOZ39SQhP59W4Je//GXzHOgPfehDzWM58jf9brnllulBD3pQ899+e+2111Sn8jt7KiYHTRDIfZd76eY3v3lzd+pWW201s5n1cWYybyAQUkAAGLJsBk2AAAECBAgQIECAAAECBAgQIEBgOgEB4HROjiJAgAABAgQIECBAgAABAgQIECAQUkAAGLJsBk2AAAECBAgQIECAAAECBAgQIEBgOgEB4HROjiJAgAABAgQIECBAgAABAgQIECAQUkAAGLJsBk2AAAECBAgQIECAAAECBAgQIEBgOgEB4HROjiJAgAABAgQIECBAgAABAgQIECAQUkAAGLJsBk2AAAECBAgQIECAAAECBAgQIEBgOgEB4HROjiJAgAABAgQIECBAgAABAgQIECAQUkAAGLJsBk2AAAECBAgQIECAAAECBAgQIEBgOgEB4HROjiJAgAABAgQIECBAgAABAgQIECAQUkAAGLJsBk2AAAECBAgQIECAAAECBAgQIEBgOgEB4HROjiJAgAABAgQIECBAgAABAgQIECAQUkAAGLJsBk2AAAECBAgQIECAAAECBAgQIEBgOgEB4HROjiJAgAABAgQIECBAgAABAgQIECAQUkAAGLJsBk2AAAECBAgQIECAAAECBAgQIEBgOgEB4HROjiJAgAABAgQIECBAgAABAgQIECAQUkAAGLJsBk2AAAECBAgQIECAAAECBAgQIEBgOgEB4HROjiJAgAABAgQIECBAgAABAgQIECAQUkAAGLJsBk2AAAECBAgQIECAAAECBAgQIEBgOgEB4HROjiJAgAABAgQIECBAgAABAgQIECAQUkAAGLJsBk2AAAECBAgQIECAAAECBAgQIEBgOgEB4HROjiJAgAABAgQIECBAgAABAgQIECAQUkAAGLJsBk2AAAECBAgQIECAAAECBAgQIEBgOgEB4HROjiJAgAABAgQIECBAgAABAgQIECAQUkAAGLJsBk2AAAECBAgQIECAAAECBAgQIEBgOgEB4HROjiJAgAABAgQIECBAgAABAgQIECAQUkAAGLJsBk2AAAECBAgQIECAAAECBAgQIEBgOgEB4HROjiJAgAABAgQIECBAgAABAgQIECAQUkAAGLJsBk2AAAECBAgQIECAAAECBAgQIEBgOgEB4HROjiJAgAABAgQIECBAgAABAgQIECAQUkAAGLJsBk2AAAECBAgQIECAAAECBAgQIEBgOgEB4HROjiJAgAABAgQIECBAgAABAgQIECAQUkAAGLJsBk2AAAECBAgQIECAAAECBAgQIEBgOgEB4HROjiJAgAABAgQIECBAgAABAgQIECAQUkAAGLJsBk2AAAECBAgQIECAAAECBAgQIEBgOgEB4HROjiJAgAABAgQIECBAgAABAgQIECAQUkAAGLJsBk2AAAECBAgQIECAAAECBAgQIEBgOgEB4HROjiJAgAABAgQIECBAgAABAgQIECAQUkAAGLJsBk2AAAECBAgQIECAAAECBAgQIEBgOgEB4HROjiJAgAABAgQIECBAgAABAgQIECAQUkAAGLJsBk2AAAECBAgQIECAAAECBAgQIEBgOgEB4HROjiJAgAABAgQIECBAgAABAgQIECAQUkAAGLJsBk2AAAECBAgQIECAAAECBAgQIEBgOgEB4HROjiJAgAABAgQIECBAgAABAgQIECAQUkAAGLJsBk2AAAECBAgQIECAAAECBAgQIEBgOgEB4HROjiJAgAABAgQIECBAgAABAgQIECAQUkAAGLJsBk2AAAECBAgQIECAAAECBAgQIEBgOgEB4HROjiJAgAABAgQIECBAgAABAgQIECAQUkAAGLJsBk2AAAECBAgQIECAAAECBAgQIEBgOgEB4HROjiJAgAABAgQIECBAgAABAgQIECAQUkAAGLJsBk2AAAECBAgQIECAAAECBAgQIEBgOgEB4HROjiJAgAABAgQIECBAgAABAgQIECAQUkAAGLJsBk2AAAECBAgQIECAAAECBAgQIEBgOgEB4HROjiJAgAABAgQIECBAgAABAgQIECAQUkAAGLJsBk2AAAECBAgQIECAAAECBAgQIEBgOgEB4HROjiJAgAABAgQIECBAgAABAgQIECAQUkAAGLJsBk2AAAECBAgQIECAAAECBAgQIEBgOgEB4HROjiJAgAABAgQIECBAgAABAgQIECAQUkAAGLJsBk2AAAECBAgQIECAAAECBAgQIEBgOgEB4HROjiJAgAABAgQIECBAgAABAgQIECAQUkAAGLJsBk2AAAECBAgQIECAAAECBAgQIEBgOgEB4HROjiJAgAABAgQIECBAgAABAgQIECAQUkAAGLJsBk2AAAECBAgQIECAAAECBAgQIEBgOgEB4HROjiJAgAABAgQIECBAgAABAgQIECAQUuD/AW7EwHEJ4fIuAAAAAElFTkSuQmCC\" width=\"640\">"
      ],
      "text/plain": [
       "<IPython.core.display.HTML object>"
      ]
     },
     "metadata": {},
     "output_type": "display_data"
    }
   ],
   "source": [
    "%matplotlib notebook\n",
    "import matplotlib.pyplot as plt\n",
    "plt.hist(ages, bins=age_bins)\n",
    "plt.show()"
   ]
  },
  {
   "cell_type": "markdown",
   "metadata": {},
   "source": [
    "Note that we invoked the method `hist()` with arguments `ages` and `bins=age_bins`. In Python, function arguments can be *positional* like `ages` or *keyword* like `bins`.\n",
    "\n",
    "Positional arguments are order-dependent and must precede keyword arguments. Keyword arguments, instead, are order-independent."
   ]
  },
  {
   "cell_type": "markdown",
   "metadata": {},
   "source": [
    "## Dictionaries\n",
    "\n",
    "The built-in type `dict` implements a hash map as a mutable collection of key-value pairs. Dicts can be created using the syntax\n",
    "```\n",
    "{key_1 : value_1, ..., key_n : value_n}\n",
    "```"
   ]
  },
  {
   "cell_type": "code",
   "execution_count": 27,
   "metadata": {},
   "outputs": [
    {
     "data": {
      "text/plain": [
       "dict"
      ]
     },
     "execution_count": 27,
     "metadata": {},
     "output_type": "execute_result"
    }
   ],
   "source": [
    "d = {7 : 'pippo', 'b' : [1, 2, 3]}\n",
    "type(d)"
   ]
  },
  {
   "cell_type": "markdown",
   "metadata": {},
   "source": [
    "While the values can be any object, keys are restricted to be scalar (int, float, string) or tuples containing immutable objects. We can check whether an object can be used as a key using the `hash()` built-in function, which returns a hash code of its argument."
   ]
  },
  {
   "cell_type": "code",
   "execution_count": 28,
   "metadata": {},
   "outputs": [
    {
     "data": {
      "text/plain": [
       "-8025001159064154990"
      ]
     },
     "execution_count": 28,
     "metadata": {},
     "output_type": "execute_result"
    }
   ],
   "source": [
    "hash(((1, 2, 3), 'pippo'))"
   ]
  },
  {
   "cell_type": "markdown",
   "metadata": {},
   "source": [
    "We can access elements of a dict via the indexing operator `[]`."
   ]
  },
  {
   "cell_type": "code",
   "execution_count": 29,
   "metadata": {},
   "outputs": [
    {
     "data": {
      "text/plain": [
       "[1, 2, 3]"
      ]
     },
     "execution_count": 29,
     "metadata": {},
     "output_type": "execute_result"
    }
   ],
   "source": [
    "d['b']"
   ]
  },
  {
   "cell_type": "markdown",
   "metadata": {},
   "source": [
    "Adding elements to a dictionary is easy."
   ]
  },
  {
   "cell_type": "code",
   "execution_count": 30,
   "metadata": {},
   "outputs": [
    {
     "data": {
      "text/plain": [
       "{7: 'pippo', 'b': [1, 2, 3], (1, 2): 3}"
      ]
     },
     "execution_count": 30,
     "metadata": {},
     "output_type": "execute_result"
    }
   ],
   "source": [
    "d[(1,2)] = 3\n",
    "d"
   ]
  },
  {
   "cell_type": "markdown",
   "metadata": {},
   "source": [
    "We can search for a key using the `in` operator, and delete and entry using the `del()` keyword or the `pop()` method."
   ]
  },
  {
   "cell_type": "code",
   "execution_count": 31,
   "metadata": {},
   "outputs": [
    {
     "data": {
      "text/plain": [
       "True"
      ]
     },
     "execution_count": 31,
     "metadata": {},
     "output_type": "execute_result"
    }
   ],
   "source": [
    "'b' in d"
   ]
  },
  {
   "cell_type": "code",
   "execution_count": 32,
   "metadata": {},
   "outputs": [
    {
     "data": {
      "text/plain": [
       "{7: 'pippo', (1, 2): 3}"
      ]
     },
     "execution_count": 32,
     "metadata": {},
     "output_type": "execute_result"
    }
   ],
   "source": [
    "del d['b']\n",
    "d"
   ]
  },
  {
   "cell_type": "code",
   "execution_count": 33,
   "metadata": {},
   "outputs": [
    {
     "data": {
      "text/plain": [
       "'pippo'"
      ]
     },
     "execution_count": 33,
     "metadata": {},
     "output_type": "execute_result"
    }
   ],
   "source": [
    "d.pop(7)"
   ]
  },
  {
   "cell_type": "markdown",
   "metadata": {},
   "source": [
    "Similarly to the method `extend()` for lists, the method `update()` merges two dictionaries."
   ]
  },
  {
   "cell_type": "code",
   "execution_count": 34,
   "metadata": {},
   "outputs": [
    {
     "data": {
      "text/plain": [
       "{0: 'a', 1: 'b', 2: 'c'}"
      ]
     },
     "execution_count": 34,
     "metadata": {},
     "output_type": "execute_result"
    }
   ],
   "source": [
    "d = {} # empty dictionary\n",
    "d2 = {0: 'a', 1 : 'b', 2 : 'c'}\n",
    "d.update(d2)\n",
    "d"
   ]
  },
  {
   "cell_type": "markdown",
   "metadata": {},
   "source": [
    "We can extract the keys and the values in a dictionary using the methods `keys()` and `values()`. Since these methods return specific objects, we can use the type constructor `list()` to make them into lists."
   ]
  },
  {
   "cell_type": "code",
   "execution_count": 35,
   "metadata": {},
   "outputs": [
    {
     "data": {
      "text/plain": [
       "[0, 1, 2]"
      ]
     },
     "execution_count": 35,
     "metadata": {},
     "output_type": "execute_result"
    }
   ],
   "source": [
    "list(d.keys())"
   ]
  },
  {
   "cell_type": "code",
   "execution_count": 36,
   "metadata": {},
   "outputs": [
    {
     "data": {
      "text/plain": [
       "['a', 'b', 'c']"
      ]
     },
     "execution_count": 36,
     "metadata": {},
     "output_type": "execute_result"
    }
   ],
   "source": [
    "list(d.values())"
   ]
  },
  {
   "cell_type": "markdown",
   "metadata": {},
   "source": [
    "Similarly, the method `items()` can be used to obtain a list of pairs `(key, value)`."
   ]
  },
  {
   "cell_type": "code",
   "execution_count": 37,
   "metadata": {},
   "outputs": [
    {
     "data": {
      "text/plain": [
       "[(0, 'a'), (1, 'b'), (2, 'c')]"
      ]
     },
     "execution_count": 37,
     "metadata": {},
     "output_type": "execute_result"
    }
   ],
   "source": [
    "list(d.items())"
   ]
  },
  {
   "cell_type": "markdown",
   "metadata": {},
   "source": [
    "In order to create a dictionary, we can use the type constructor `dict()` applied to a zip object."
   ]
  },
  {
   "cell_type": "code",
   "execution_count": 38,
   "metadata": {},
   "outputs": [
    {
     "data": {
      "text/plain": [
       "{0: 'pippo', 1: 'pluto', 2: 'paperino'}"
      ]
     },
     "execution_count": 38,
     "metadata": {},
     "output_type": "execute_result"
    }
   ],
   "source": [
    "a = [0, 1, 2]\n",
    "b = ['pippo', 'pluto', 'paperino']\n",
    "d = dict(zip(a,b))\n",
    "d"
   ]
  },
  {
   "cell_type": "markdown",
   "metadata": {},
   "source": [
    "Alternatively, we can use a **dict comprehension**"
   ]
  },
  {
   "cell_type": "code",
   "execution_count": 39,
   "metadata": {},
   "outputs": [
    {
     "data": {
      "text/plain": [
       "{0: 0, 2: 4, 4: 16, 6: 36, 8: 64}"
      ]
     },
     "execution_count": 39,
     "metadata": {},
     "output_type": "execute_result"
    }
   ],
   "source": [
    "nums = range(0,10)\n",
    "d = {x : x**2 for x in nums if x % 2 == 0}\n",
    "d"
   ]
  },
  {
   "cell_type": "markdown",
   "metadata": {},
   "source": [
    "Iterating over a dictionary is easy."
   ]
  },
  {
   "cell_type": "code",
   "execution_count": 40,
   "metadata": {},
   "outputs": [
    {
     "name": "stdout",
     "output_type": "stream",
     "text": [
      "person = 2\n",
      "cat = 4\n",
      "spider = 8\n"
     ]
    }
   ],
   "source": [
    "d = {'person': 2, 'cat': 4, 'spider': 8}\n",
    "for (animal, legs) in d.items():\n",
    "    print(animal + ' = ' + str(legs)) # use the type constructor str() to convert an int into a string"
   ]
  }
 ],
 "metadata": {
  "kernelspec": {
   "display_name": "Python 3",
   "language": "python",
   "name": "python3"
  },
  "language_info": {
   "codemirror_mode": {
    "name": "ipython",
    "version": 3
   },
   "file_extension": ".py",
   "mimetype": "text/x-python",
   "name": "python",
   "nbconvert_exporter": "python",
   "pygments_lexer": "ipython3",
   "version": "3.7.0"
  }
 },
 "nbformat": 4,
 "nbformat_minor": 2
}
